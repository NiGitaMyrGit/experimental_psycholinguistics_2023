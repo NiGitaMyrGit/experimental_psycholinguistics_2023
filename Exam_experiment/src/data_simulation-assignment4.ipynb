{
 "cells": [
  {
   "cell_type": "markdown",
   "metadata": {},
   "source": [
    "<span style=\"font-size:200%;color:pink\">week47 assignment4 data simulation</span>  \n",
    "<span style=\"font-size:150%;color:silver\">Anna Ceruti, Nikita Julie Myrting & Yudai Nishi</span>"
   ]
  },
  {
   "cell_type": "code",
   "execution_count": 11,
   "metadata": {},
   "outputs": [],
   "source": [
    "import time\n",
    "import random\n",
    "import numpy as np\n",
    "import pandas as pd\n",
    "import seaborn as sns\n",
    "import pingouin as pg\n",
    "from math import sqrt\n",
    "from statistics import mean\n",
    "from scipy.stats import norm\n",
    "from matplotlib import pyplot as plt\n",
    "\n",
    "import warnings\n",
    "warnings.filterwarnings(\"ignore\")"
   ]
  },
  {
   "cell_type": "markdown",
   "metadata": {},
   "source": [
    "<span style=\"font-size:125%;color:pink\">Mean"
   ]
  },
  {
   "cell_type": "code",
   "execution_count": 12,
   "metadata": {},
   "outputs": [],
   "source": [
    "avg_PH = 87.7\n",
    "avg_PL = 40.3"
   ]
  },
  {
   "cell_type": "markdown",
   "metadata": {},
   "source": [
    "<span style=\"font-size:125%;color:pink\">Standard Deviation"
   ]
  },
  {
   "cell_type": "markdown",
   "metadata": {},
   "source": [
    "SE to SD function"
   ]
  },
  {
   "cell_type": "code",
   "execution_count": 13,
   "metadata": {},
   "outputs": [],
   "source": [
    "# function to convert standard error to standard deviation\n",
    "def SE_to_SD(se,n):\n",
    "    sd = se * sqrt(n)\n",
    "    return(sd)"
   ]
  },
  {
   "cell_type": "markdown",
   "metadata": {},
   "source": [
    "SE to SD"
   ]
  },
  {
   "cell_type": "code",
   "execution_count": 14,
   "metadata": {},
   "outputs": [],
   "source": [
    "# set the number of participants (from the paper)\n",
    "n = 80\n",
    "\n",
    "## calculating average of standard error\n",
    "se_avg_PH = (1.7 + 1.7 + 3.4 + 1.2 + 1.6 + 2.4 + 1.6 + 1.2) / 8\n",
    "se_avg_PL = (2.4 + 2.9 + 3.0 + 3.1 + 1.7 + 2.1 + 1.9 + 1.9) / 8\n",
    "\n",
    "## then convert standard error into standard deviation\n",
    "SD_PH = SE_to_SD(se_avg_PH, 80)\n",
    "SD_PL = SE_to_SD(se_avg_PL, 80)"
   ]
  },
  {
   "cell_type": "markdown",
   "metadata": {},
   "source": [
    "<span style=\"font-size:125%;color:pink\">sample from a normal distribution for each combination of mean, SD, and n"
   ]
  },
  {
   "cell_type": "markdown",
   "metadata": {},
   "source": [
    "function to sample from a normail distribution"
   ]
  },
  {
   "cell_type": "code",
   "execution_count": 15,
   "metadata": {},
   "outputs": [],
   "source": [
    "# function to sample from a normail distribution\n",
    "# not really necessary, now that I think about it, but maybe it makes the code a little clearer below\n",
    "def take_sample (mean, sd, n):\n",
    "    nums = np.random.normal(loc = mean, scale = sd, size = n)\n",
    "    return(nums)"
   ]
  },
  {
   "cell_type": "markdown",
   "metadata": {},
   "source": [
    "sampling"
   ]
  },
  {
   "cell_type": "code",
   "execution_count": 16,
   "metadata": {},
   "outputs": [],
   "source": [
    "dist_PH = take_sample(avg_PH, SD_PH, n)\n",
    "dist_PL = take_sample(avg_PL, SD_PL, n)"
   ]
  },
  {
   "cell_type": "markdown",
   "metadata": {},
   "source": [
    "<span style=\"font-size:125%;color:pink\">put the result in the dataframe"
   ]
  },
  {
   "cell_type": "code",
   "execution_count": 17,
   "metadata": {},
   "outputs": [
    {
     "data": {
      "text/html": [
       "<div>\n",
       "<style scoped>\n",
       "    .dataframe tbody tr th:only-of-type {\n",
       "        vertical-align: middle;\n",
       "    }\n",
       "\n",
       "    .dataframe tbody tr th {\n",
       "        vertical-align: top;\n",
       "    }\n",
       "\n",
       "    .dataframe thead th {\n",
       "        text-align: right;\n",
       "    }\n",
       "</style>\n",
       "<table border=\"1\" class=\"dataframe\">\n",
       "  <thead>\n",
       "    <tr style=\"text-align: right;\">\n",
       "      <th></th>\n",
       "      <th>PH</th>\n",
       "      <th>PL</th>\n",
       "    </tr>\n",
       "  </thead>\n",
       "  <tbody>\n",
       "    <tr>\n",
       "      <th>0</th>\n",
       "      <td>63.199810</td>\n",
       "      <td>38.125445</td>\n",
       "    </tr>\n",
       "    <tr>\n",
       "      <th>1</th>\n",
       "      <td>79.184874</td>\n",
       "      <td>31.367988</td>\n",
       "    </tr>\n",
       "    <tr>\n",
       "      <th>2</th>\n",
       "      <td>126.088583</td>\n",
       "      <td>30.873827</td>\n",
       "    </tr>\n",
       "    <tr>\n",
       "      <th>3</th>\n",
       "      <td>96.590435</td>\n",
       "      <td>26.984174</td>\n",
       "    </tr>\n",
       "    <tr>\n",
       "      <th>4</th>\n",
       "      <td>75.437248</td>\n",
       "      <td>56.548704</td>\n",
       "    </tr>\n",
       "    <tr>\n",
       "      <th>...</th>\n",
       "      <td>...</td>\n",
       "      <td>...</td>\n",
       "    </tr>\n",
       "    <tr>\n",
       "      <th>75</th>\n",
       "      <td>100.681260</td>\n",
       "      <td>45.146656</td>\n",
       "    </tr>\n",
       "    <tr>\n",
       "      <th>76</th>\n",
       "      <td>81.321254</td>\n",
       "      <td>61.855472</td>\n",
       "    </tr>\n",
       "    <tr>\n",
       "      <th>77</th>\n",
       "      <td>69.085657</td>\n",
       "      <td>37.519456</td>\n",
       "    </tr>\n",
       "    <tr>\n",
       "      <th>78</th>\n",
       "      <td>73.685101</td>\n",
       "      <td>48.044073</td>\n",
       "    </tr>\n",
       "    <tr>\n",
       "      <th>79</th>\n",
       "      <td>92.418257</td>\n",
       "      <td>33.448843</td>\n",
       "    </tr>\n",
       "  </tbody>\n",
       "</table>\n",
       "<p>80 rows × 2 columns</p>\n",
       "</div>"
      ],
      "text/plain": [
       "            PH         PL\n",
       "0    63.199810  38.125445\n",
       "1    79.184874  31.367988\n",
       "2   126.088583  30.873827\n",
       "3    96.590435  26.984174\n",
       "4    75.437248  56.548704\n",
       "..         ...        ...\n",
       "75  100.681260  45.146656\n",
       "76   81.321254  61.855472\n",
       "77   69.085657  37.519456\n",
       "78   73.685101  48.044073\n",
       "79   92.418257  33.448843\n",
       "\n",
       "[80 rows x 2 columns]"
      ]
     },
     "execution_count": 17,
     "metadata": {},
     "output_type": "execute_result"
    }
   ],
   "source": [
    "data = pd.DataFrame({'PH': dist_PH,\n",
    "                     'PL': dist_PL})\n",
    "data"
   ]
  },
  {
   "cell_type": "markdown",
   "metadata": {},
   "source": [
    "<span style=\"font-size:125%;color:pink\">effect size"
   ]
  },
  {
   "cell_type": "markdown",
   "metadata": {},
   "source": [
    "calculate effect size by using pingouin"
   ]
  },
  {
   "cell_type": "code",
   "execution_count": 18,
   "metadata": {},
   "outputs": [
    {
     "data": {
      "text/plain": [
       "2.496280173907306"
      ]
     },
     "execution_count": 18,
     "metadata": {},
     "output_type": "execute_result"
    }
   ],
   "source": [
    "pg.compute_effsize(data.PH, data.PL, paired=True, eftype='cohen')"
   ]
  },
  {
   "cell_type": "markdown",
   "metadata": {},
   "source": [
    "estimate the distribution of effect size"
   ]
  },
  {
   "cell_type": "code",
   "execution_count": 21,
   "metadata": {},
   "outputs": [
    {
     "data": {
      "image/png": "[encoded data removed]",
      "text/plain": [
       "<Figure size 640x480 with 1 Axes>"
      ]
     },
     "metadata": {},
     "output_type": "display_data"
    }
   ],
   "source": [
    "effect_sizes = []\n",
    "runs = 1000\n",
    "\n",
    "for i in range(runs):\n",
    "    dist_PH = take_sample(avg_PH, SD_PH, n)\n",
    "    dist_PL = take_sample(avg_PL, SD_PL, n)\n",
    "\n",
    "    data = pd.DataFrame({'PH': dist_PH,\n",
    "                         'PL': dist_PL})\n",
    "    \n",
    "    effect_sizes.append(pg.compute_effsize(data.PH, data.PL, paired=True, eftype='cohen').round(3))\n",
    "\n",
    "ax = sns.kdeplot(effect_sizes)\n",
    "mean_effect_size = round(np.array(effect_sizes).mean(), 3)\n",
    "ax.axvline(x = mean_effect_size, color = 'black', linestyle = 'dotted')\n",
    "ax.text(0.4, 1.33, 'mean effect size: ' + str(mean_effect_size))\n",
    "sns.despine()"
   ]
  }
 ],
 "metadata": {
  "kernelspec": {
   "display_name": "Python 3",
   "language": "python",
   "name": "python3"
  },
  "language_info": {
   "codemirror_mode": {
    "name": "ipython",
    "version": 3
   },
   "file_extension": ".py",
   "mimetype": "text/x-python",
   "name": "python",
   "nbconvert_exporter": "python",
   "pygments_lexer": "ipython3",
   "version": "3.11.5"
  }
 },
 "nbformat": 4,
 "nbformat_minor": 2
}
