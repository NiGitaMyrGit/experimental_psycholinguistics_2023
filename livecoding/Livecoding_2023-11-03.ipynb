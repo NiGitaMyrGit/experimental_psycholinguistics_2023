{
 "cells": [
  {
   "cell_type": "code",
   "execution_count": 11,
   "id": "b8b9707a-9c7c-4b3a-8816-228f32affee0",
   "metadata": {},
   "outputs": [],
   "source": [
    "# Install the pacakges you will need\n",
    "# You will need imageio if you want to add a spooky moon to your figure :-)\n",
    "\n",
    "#%pip install seaborn\n",
    "#%pip install pingouin\n",
    "#%pip install imageio"
   ]
  },
  {
   "cell_type": "code",
   "execution_count": 12,
   "id": "168e2e1f-68ff-4ce9-a22f-03350c4a65d7",
   "metadata": {},
   "outputs": [],
   "source": [
    "# import packages\n",
    "# you will need pyplot and imread to add a spooky moon to your figure\n",
    "\n",
    "import pandas as pd                         # to make dataframes\n",
    "import seaborn as sns                       # to plot basic figures\n",
    "import pingouin as pg                       # to run statistical analyses\n",
    "from imageio import imread                  # to add images to figures\n",
    "from matplotlib import pyplot as plt        # to adjust figures and make them fancy\n",
    "\n",
    "import warnings                             # to keep Python from putting annoying warnings in your face while you're tyring to work\n",
    "warnings.filterwarnings('ignore')"
   ]
  },
  {
   "cell_type": "markdown",
   "id": "2eaad25b",
   "metadata": {},
   "source": [
    "## Analysis"
   ]
  },
  {
   "cell_type": "code",
   "execution_count": 3,
   "id": "4fed6d42-94bb-41e7-9ede-e9b686ff28d0",
   "metadata": {},
   "outputs": [],
   "source": [
    "# load the data\n",
    "df = pd.read_csv('https://raw.githubusercontent.com/ethanweed/datasets-for-teaching/main/JASP_data_library/2.%20T-Tests/Moon%20and%20Aggression.csv')"
   ]
  },
  {
   "cell_type": "code",
   "execution_count": 4,
   "id": "8e7679e5-b405-4a92-8304-36837d570123",
   "metadata": {},
   "outputs": [
    {
     "data": {
      "text/html": [
       "<div>\n",
       "<style scoped>\n",
       "    .dataframe tbody tr th:only-of-type {\n",
       "        vertical-align: middle;\n",
       "    }\n",
       "\n",
       "    .dataframe tbody tr th {\n",
       "        vertical-align: top;\n",
       "    }\n",
       "\n",
       "    .dataframe thead th {\n",
       "        text-align: right;\n",
       "    }\n",
       "</style>\n",
       "<table border=\"1\" class=\"dataframe\">\n",
       "  <thead>\n",
       "    <tr style=\"text-align: right;\">\n",
       "      <th></th>\n",
       "      <th>Moon</th>\n",
       "      <th>Other</th>\n",
       "    </tr>\n",
       "  </thead>\n",
       "  <tbody>\n",
       "    <tr>\n",
       "      <th>0</th>\n",
       "      <td>3.33</td>\n",
       "      <td>0.27</td>\n",
       "    </tr>\n",
       "    <tr>\n",
       "      <th>1</th>\n",
       "      <td>3.67</td>\n",
       "      <td>0.59</td>\n",
       "    </tr>\n",
       "    <tr>\n",
       "      <th>2</th>\n",
       "      <td>2.67</td>\n",
       "      <td>0.32</td>\n",
       "    </tr>\n",
       "    <tr>\n",
       "      <th>3</th>\n",
       "      <td>3.33</td>\n",
       "      <td>0.19</td>\n",
       "    </tr>\n",
       "    <tr>\n",
       "      <th>4</th>\n",
       "      <td>3.33</td>\n",
       "      <td>1.26</td>\n",
       "    </tr>\n",
       "  </tbody>\n",
       "</table>\n",
       "</div>"
      ],
      "text/plain": [
       "   Moon  Other\n",
       "0  3.33   0.27\n",
       "1  3.67   0.59\n",
       "2  2.67   0.32\n",
       "3  3.33   0.19\n",
       "4  3.33   1.26"
      ]
     },
     "execution_count": 4,
     "metadata": {},
     "output_type": "execute_result"
    }
   ],
   "source": [
    "# inspect the data\n",
    "df.head()"
   ]
  },
  {
   "cell_type": "code",
   "execution_count": 5,
   "id": "30457a85-8ecb-45a9-9852-d0d1c7437c30",
   "metadata": {},
   "outputs": [
    {
     "data": {
      "text/html": [
       "<div>\n",
       "<style scoped>\n",
       "    .dataframe tbody tr th:only-of-type {\n",
       "        vertical-align: middle;\n",
       "    }\n",
       "\n",
       "    .dataframe tbody tr th {\n",
       "        vertical-align: top;\n",
       "    }\n",
       "\n",
       "    .dataframe thead th {\n",
       "        text-align: right;\n",
       "    }\n",
       "</style>\n",
       "<table border=\"1\" class=\"dataframe\">\n",
       "  <thead>\n",
       "    <tr style=\"text-align: right;\">\n",
       "      <th></th>\n",
       "      <th>Moon</th>\n",
       "      <th>Other</th>\n",
       "    </tr>\n",
       "  </thead>\n",
       "  <tbody>\n",
       "    <tr>\n",
       "      <th>count</th>\n",
       "      <td>15.000000</td>\n",
       "      <td>15.000000</td>\n",
       "    </tr>\n",
       "    <tr>\n",
       "      <th>mean</th>\n",
       "      <td>3.022000</td>\n",
       "      <td>0.589333</td>\n",
       "    </tr>\n",
       "    <tr>\n",
       "      <th>std</th>\n",
       "      <td>1.498772</td>\n",
       "      <td>0.444899</td>\n",
       "    </tr>\n",
       "    <tr>\n",
       "      <th>min</th>\n",
       "      <td>0.330000</td>\n",
       "      <td>0.110000</td>\n",
       "    </tr>\n",
       "    <tr>\n",
       "      <th>25%</th>\n",
       "      <td>2.335000</td>\n",
       "      <td>0.285000</td>\n",
       "    </tr>\n",
       "    <tr>\n",
       "      <th>50%</th>\n",
       "      <td>3.330000</td>\n",
       "      <td>0.400000</td>\n",
       "    </tr>\n",
       "    <tr>\n",
       "      <th>75%</th>\n",
       "      <td>3.670000</td>\n",
       "      <td>0.670000</td>\n",
       "    </tr>\n",
       "    <tr>\n",
       "      <th>max</th>\n",
       "      <td>6.000000</td>\n",
       "      <td>1.590000</td>\n",
       "    </tr>\n",
       "  </tbody>\n",
       "</table>\n",
       "</div>"
      ],
      "text/plain": [
       "            Moon      Other\n",
       "count  15.000000  15.000000\n",
       "mean    3.022000   0.589333\n",
       "std     1.498772   0.444899\n",
       "min     0.330000   0.110000\n",
       "25%     2.335000   0.285000\n",
       "50%     3.330000   0.400000\n",
       "75%     3.670000   0.670000\n",
       "max     6.000000   1.590000"
      ]
     },
     "execution_count": 5,
     "metadata": {},
     "output_type": "execute_result"
    }
   ],
   "source": [
    "# get a further overview of the data\n",
    "df.describe()"
   ]
  },
  {
   "cell_type": "code",
   "execution_count": 61,
   "id": "30368ca3-2d0c-40ac-b9ac-4d0cb73e6c9a",
   "metadata": {},
   "outputs": [
    {
     "data": {
      "text/html": [
       "<div>\n",
       "<style scoped>\n",
       "    .dataframe tbody tr th:only-of-type {\n",
       "        vertical-align: middle;\n",
       "    }\n",
       "\n",
       "    .dataframe tbody tr th {\n",
       "        vertical-align: top;\n",
       "    }\n",
       "\n",
       "    .dataframe thead th {\n",
       "        text-align: right;\n",
       "    }\n",
       "</style>\n",
       "<table border=\"1\" class=\"dataframe\">\n",
       "  <thead>\n",
       "    <tr style=\"text-align: right;\">\n",
       "      <th></th>\n",
       "      <th>T</th>\n",
       "      <th>dof</th>\n",
       "      <th>alternative</th>\n",
       "      <th>p-val</th>\n",
       "      <th>CI95%</th>\n",
       "      <th>cohen-d</th>\n",
       "      <th>BF10</th>\n",
       "      <th>power</th>\n",
       "    </tr>\n",
       "  </thead>\n",
       "  <tbody>\n",
       "    <tr>\n",
       "      <th>T-test</th>\n",
       "      <td>6.451789</td>\n",
       "      <td>14</td>\n",
       "      <td>two-sided</td>\n",
       "      <td>0.000015</td>\n",
       "      <td>[1.62, 3.24]</td>\n",
       "      <td>2.200516</td>\n",
       "      <td>1521.058</td>\n",
       "      <td>1.0</td>\n",
       "    </tr>\n",
       "  </tbody>\n",
       "</table>\n",
       "</div>"
      ],
      "text/plain": [
       "               T  dof alternative     p-val         CI95%   cohen-d      BF10  \\\n",
       "T-test  6.451789   14   two-sided  0.000015  [1.62, 3.24]  2.200516  1521.058   \n",
       "\n",
       "        power  \n",
       "T-test    1.0  "
      ]
     },
     "execution_count": 61,
     "metadata": {},
     "output_type": "execute_result"
    }
   ],
   "source": [
    "# run a paired-samples t-test \n",
    "\n",
    "pg.ttest(df['Moon'], df['Other'], paired = True)"
   ]
  },
  {
   "cell_type": "markdown",
   "id": "b8a18e8b",
   "metadata": {},
   "source": [
    "## Results\n",
    "There were significantly more disruptive behvaior incidents during full moon periods (mean = 3.02) than other lunar periods (mean = 0.58) (t(14)=6.45, p = 0.000015)"
   ]
  },
  {
   "cell_type": "code",
   "execution_count": 62,
   "id": "5eabfafb-bd93-426a-8028-8ca34f94c9ce",
   "metadata": {},
   "outputs": [
    {
     "data": {
      "text/plain": [
       "<Axes: xlabel='condition', ylabel='disruptive behavior'>"
      ]
     },
     "execution_count": 62,
     "metadata": {},
     "output_type": "execute_result"
    },
    {
     "data": {
      "image/png": "[encoded data removed]",
      "text/plain": [
       "<Figure size 640x480 with 1 Axes>"
      ]
     },
     "metadata": {},
     "output_type": "display_data"
    }
   ],
   "source": [
    "# re-arrange the dataframe to make plotting easier\n",
    "\n",
    "df_long = df.melt()\n",
    "df_long.columns = ['condition', 'disruptive behavior']\n",
    "df_long.head(2)\n",
    "\n",
    "sns.stripplot(data = df_long, x = 'condition', y = 'disruptive behavior')   # plot the data points\n",
    "sns.pointplot(data = df_long, x = 'condition', y = 'disruptive behavior')   # plot the means and confidence intervals"
   ]
  },
  {
   "cell_type": "markdown",
   "id": "18bf86f1",
   "metadata": {},
   "source": [
    "## Make your plot prettier"
   ]
  },
  {
   "cell_type": "code",
   "execution_count": 60,
   "id": "0eec431b-c06f-4bf1-81be-1557304d5f5f",
   "metadata": {},
   "outputs": [
    {
     "data": {
      "text/plain": [
       "(-0.5, 599.5, 599.5, -0.5)"
      ]
     },
     "execution_count": 60,
     "metadata": {},
     "output_type": "execute_result"
    },
    {
     "data": {
      "image/png": "[encoded data removed]",
      "text/plain": [
       "<Figure size 640x480 with 1 Axes>"
      ]
     },
     "metadata": {},
     "output_type": "display_data"
    }
   ],
   "source": [
    "# Create a figure called \"ax\" to build our figure on\n",
    "# note: to create this plot, I needed to install and import some packages. See the install and import cells at the top of the notebook\n",
    "fig, ax = plt.subplots()\n",
    "\n",
    "# Add a stripplot to show the data points, and a pointplot to shore means and confidence intervals\n",
    "sns.stripplot(data = df_long, x = 'condition', y = 'disruptive behavior', palette = 'autumn')   # use the \"autumn\" palette to give the points seasonal colors\n",
    "sns.pointplot(data = df_long, x = 'condition', y = 'disruptive behavior', color = 'black')      # color the pointplot black\n",
    "\n",
    "# Add a title, and adjust the axis and tick-mark labels\n",
    "plt.title('Effect of Full Moon on Disruptive Behavior')\n",
    "ax.set_ylabel('Incidents of Disruptive Behavior')\n",
    "ax.set_xlabel('Moon Phase')\n",
    "ax.set_xticklabels(['Full', 'Other'])\n",
    "\n",
    "# Remove the top and right side of the frame around the plot\n",
    "sns.despine()\n",
    "\n",
    "# Add a spooky moon\n",
    "\n",
    "# url for the image I want to use\n",
    "url = 'https://external-content.duckduckgo.com/iu/?u=https%3A%2F%2Fwebstockreview.net%2Fimages%2Fclipart-bat-moon-15.png&f=1&nofb=1&ipt=63d60343ccd98c7518fb491ab9c68fc8f8291dd328670c9f3c4f696d4edf88d9&ipo=images'\n",
    "\n",
    "# read the image into a variable in Python\n",
    "spooky_moon = imread(url)\n",
    "\n",
    "newax = ax.inset_axes([.7, 0.7, 0.25, 0.25])    # create new figure (axes) inside the original figure (the number adjust the location and size of the image)\n",
    "newax.imshow(spooky_moon)                       # show the moon image inside the new axes\n",
    "newax.axis('off')                               # hide the axes around the moon"
   ]
  },
  {
   "cell_type": "code",
   "execution_count": null,
   "id": "8852bceb",
   "metadata": {},
   "outputs": [],
   "source": []
  }
 ],
 "metadata": {
  "kernelspec": {
   "display_name": "Python 3 ",
   "language": "python",
   "name": "python3"
  },
  "language_info": {
   "codemirror_mode": {
    "name": "ipython",
    "version": 3
   },
   "file_extension": ".py",
   "mimetype": "text/x-python",
   "name": "python",
   "nbconvert_exporter": "python",
   "pygments_lexer": "ipython3",
   "version": "3.11.3"
  }
 },
 "nbformat": 4,
 "nbformat_minor": 5
}
