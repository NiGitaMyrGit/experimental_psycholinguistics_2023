{
 "cells": [
  {
   "cell_type": "markdown",
   "metadata": {},
   "source": [
    "# Portfolio 03 - consolidate your knowledge\n",
    "    variables (what is a variable?)\n",
    "    variable types (strings, integers, floats, lists, dictionaries, tuples, sets)\n",
    "    loops\n",
    "        for loops\n",
    "        while loops\n",
    "        enumerate()\n",
    "        appending to a list outside of a loop\n",
    "    list comprehensions\n",
    "    pandas dataframes\n",
    "        building a dataframe out of dictionaries and lists\n",
    "        importing csv files into a dataframe\n",
    "        writing a dataframe to a csv file\n",
    "        sorting a dataframe\n",
    "        adding new columns to a dataframe\n",
    "        converting between wide format and long format data\n",
    "        selecting a sub-section of a dataframe\n"
   ]
  },
  {
   "cell_type": "markdown",
   "metadata": {},
   "source": [
    "## Variables and variable types\n",
    "\n",
    "#### \"Regular\" variables\n",
    "1. **Strings**: set of characters, have to be in quotation marks \"\" or '' \n",
    "1. **Intergers**: whole numbers, positive, negative and zero is included.\n",
    "1. **Floats**: decimal numbers, can also be whole numbersdenoted with a decimal .0. \n",
    "\n",
    "#### \"Collection\" variables\n",
    "\n",
    "1. **Lists** colections, ordered and mutable. Allows duplicate members. uses [ ]\\\n",
    "1. **Tuples** collections, ordered, immutable (unchangeable). Allows duplicate members. uses ()\\\n",
    "1. **Sets** collection, unordered, immutable, unidexed. No duplicate members. Uses function set() -> outputs {}\\\n",
    "1. **Dictionaries** collection, ordered, mutable, indexed. No duplicate members. Uses {}, key + value\n"
   ]
  },
  {
   "cell_type": "code",
   "execution_count": 2,
   "metadata": {},
   "outputs": [],
   "source": [
    "# importing some modules\n",
    "import pandas as pd\n",
    "import numpy as np"
   ]
  },
  {
   "cell_type": "code",
   "execution_count": 4,
   "metadata": {},
   "outputs": [
    {
     "data": {
      "text/plain": [
       "str"
      ]
     },
     "execution_count": 4,
     "metadata": {},
     "output_type": "execute_result"
    }
   ],
   "source": [
    "# Strings\n",
    "\n",
    "hot_drink = \" I believe that tea is the best hot drink there is\"\n",
    "not_hot_drink = \"10\"\n",
    "# Though the last string are both strings, it's a less intuitive when numbers are inserted, \n",
    "# due to the quotation marks, this is still interpreted as a string.\n",
    "type (not_hot_drink)"
   ]
  },
  {
   "cell_type": "code",
   "execution_count": 14,
   "metadata": {},
   "outputs": [
    {
     "name": "stdout",
     "output_type": "stream",
     "text": [
      "This is how many teas you have to drink to get to your daily tea drinking goal: 3\n"
     ]
    },
    {
     "data": {
      "text/plain": [
       "int"
      ]
     },
     "execution_count": 14,
     "metadata": {},
     "output_type": "execute_result"
    }
   ],
   "source": [
    "# Integers\n",
    "teas_today = 2\n",
    "teas_to_drink_today = 5\n",
    "# you can add, subtract, divide and multiply integers\n",
    "remaining_teas_to_drink = teas_to_drink_today - teas_today\n",
    "# I don't actually have a daily tea-drinking goal, but you know, I'm going with a theme here\n",
    "print(\"This is how many teas you have to drink to get to your daily tea drinking goal:\", remaining_teas_to_drink)\n",
    "# We can check the type of the new variable, which is still an integer\n",
    "type(remaining_teas_to_drink)\n",
    "# incomparison with the string before, the type is now an integer since the number is given without the quotation markss\n",
    "\n"
   ]
  },
  {
   "cell_type": "code",
   "execution_count": 22,
   "metadata": {},
   "outputs": [
    {
     "name": "stdout",
     "output_type": "stream",
     "text": [
      "this is the average tea score: 4.5\n"
     ]
    }
   ],
   "source": [
    "# Floats, decimal numbers\n",
    "#I'm rating teas on a scale from -10 to 10\n",
    "white_jasmine_score = 9.2\n",
    "earl_grey_score = 6.8\n",
    "lemon_tea_score = -2.5\n",
    "\n",
    "# let's see what the average score is:\n",
    "average_tea_score = (white_jasmine_score+earl_grey_score+lemon_tea_score)/3\n",
    "print(\"this is the average tea score:\", average_tea_score)\n"
   ]
  },
  {
   "cell_type": "code",
   "execution_count": 30,
   "metadata": {},
   "outputs": [
    {
     "name": "stdout",
     "output_type": "stream",
     "text": [
      "['Earl Grey', 'Jasmine', 'White Tea', 'Chamomile', 'Peppermint Liquorice', 'chai']\n",
      "[3, 5.1, 'this is not tea', ['Earl Grey', 'Jasmine', 'White Tea', 'Chamomile', 'Peppermint Liquorice', 'chai']]\n"
     ]
    },
    {
     "data": {
      "text/plain": [
       "list"
      ]
     },
     "execution_count": 30,
     "metadata": {},
     "output_type": "execute_result"
    }
   ],
   "source": [
    "# Lists\n",
    "# Ah a list that fit the tea-theme\n",
    "teas = [\"Earl Grey\", \"Jasmine\", \"White Tea\", \"Chamomile\", \"Peppermint Liquorice\"]\n",
    "# Oh no I fortgot chai, better add that\n",
    "teas.append(\"Chai\")\n",
    "print(teas)\n",
    "# It's possible to put things other than string in a list, like integers, floats\n",
    "not_teas = [3, 5.1, \"this is not tea\"]\n",
    "# It's also possible to append a list to a list, and by that have a list \n",
    "not_teas.append(teas)\n",
    "print(not_teas)\n",
    "# making sure it actually is a list\n",
    "type(not_teas)\n"
   ]
  },
  {
   "cell_type": "code",
   "execution_count": 36,
   "metadata": {},
   "outputs": [
    {
     "ename": "AttributeError",
     "evalue": "'tuple' object has no attribute 'append'",
     "output_type": "error",
     "traceback": [
      "\u001b[0;31m---------------------------------------------------------------------------\u001b[0m",
      "\u001b[0;31mAttributeError\u001b[0m                            Traceback (most recent call last)",
      "\u001b[1;32m/Users/Nikita/Desktop/EPL/Labs/portfolio_3_consolidate_knowledge.ipynb Cell 8\u001b[0m line \u001b[0;36m5\n\u001b[1;32m      <a href='vscode-notebook-cell:/Users/Nikita/Desktop/EPL/Labs/portfolio_3_consolidate_knowledge.ipynb#X15sZmlsZQ%3D%3D?line=2'>3</a>\u001b[0m Best_drinks \u001b[39m=\u001b[39m (\u001b[39m\"\u001b[39m\u001b[39mTea\u001b[39m\u001b[39m\"\u001b[39m, \u001b[39m\"\u001b[39m\u001b[39mPiña Colada\u001b[39m\u001b[39m\"\u001b[39m, \u001b[39m\"\u001b[39m\u001b[39mGuava soda\u001b[39m\u001b[39m\"\u001b[39m, \u001b[39m\"\u001b[39m\u001b[39mMachhiato\u001b[39m\u001b[39m\"\u001b[39m)\n\u001b[1;32m      <a href='vscode-notebook-cell:/Users/Nikita/Desktop/EPL/Labs/portfolio_3_consolidate_knowledge.ipynb#X15sZmlsZQ%3D%3D?line=3'>4</a>\u001b[0m \u001b[39m# see, it's just not possible\u001b[39;00m\n\u001b[0;32m----> <a href='vscode-notebook-cell:/Users/Nikita/Desktop/EPL/Labs/portfolio_3_consolidate_knowledge.ipynb#X15sZmlsZQ%3D%3D?line=4'>5</a>\u001b[0m Best_drinks\u001b[39m.\u001b[39;49mappend(\u001b[39m\"\u001b[39m\u001b[39menergy drink\u001b[39m\u001b[39m\"\u001b[39m)\n",
      "\u001b[0;31mAttributeError\u001b[0m: 'tuple' object has no attribute 'append'"
     ]
    }
   ],
   "source": [
    "# Tuples\n",
    "# Don't try to change my mind o nthe best drink, you cannot, it's immuteable now that I've written it as a tuple :)\n",
    "Best_drinks = (\"Tea\", \"Piña Colada\", \"Guava soda\", \"Machhiato\")\n",
    "# see, it's just not possible\n",
    "Best_drinks.append(\"energy drink\")\n",
    "\n"
   ]
  },
  {
   "cell_type": "code",
   "execution_count": 41,
   "metadata": {},
   "outputs": [
    {
     "name": "stdout",
     "output_type": "stream",
     "text": [
      "{'greenblack', 'black', 'white', 'roibos', 'green'}\n"
     ]
    },
    {
     "data": {
      "text/plain": [
       "set"
      ]
     },
     "execution_count": 41,
     "metadata": {},
     "output_type": "execute_result"
    }
   ],
   "source": [
    "# Sets, are mainly used as a way to find the unique memebers of an already made tuple/list\n",
    "tea_types = [\"black\", \"green\", \"white\", \"roibos\", \"green\", \"green\" \"black\", \"white\", \"green\"]\n",
    "\n",
    "unique_tea_types = set(tea_types)\n",
    "print(unique_tea_types)\n",
    "type(unique_tea_types)"
   ]
  },
  {
   "cell_type": "code",
   "execution_count": 48,
   "metadata": {},
   "outputs": [
    {
     "name": "stdout",
     "output_type": "stream",
     "text": [
      "{'greenblack', 'black', 'white', 'roibos', 'green'}\n"
     ]
    },
    {
     "data": {
      "text/plain": [
       "dict"
      ]
     },
     "execution_count": 48,
     "metadata": {},
     "output_type": "execute_result"
    }
   ],
   "source": [
    "# Dictionaries. The general structure of a dictionary is like this dict = {\"key_1\": \"value_1\", \"key_2\" \"value_2\"}\n",
    "teas = {\"names\": [\"Earl Grey\", \"Jasmine\", \"White Tea\", \"Chamomile\", \"Peppermint Liquorice\"],\n",
    "       \"favourite\": \"Jasmin\",\n",
    "       \"tea types\": unique_tea_types,\n",
    "       \"country of origin\" : \"China\",\n",
    "       \"cups a day\" : 5\n",
    "            }\n",
    "\n",
    "\n",
    "# Can call the key and get the value\n",
    "print(teas[\"tea types\"])\n",
    "# Could also be done like this\n",
    "# teas.get(\"tea types\")\n",
    "type(teas)"
   ]
  },
  {
   "cell_type": "markdown",
   "metadata": {},
   "source": [
    "## Loops"
   ]
  },
  {
   "cell_type": "markdown",
   "metadata": {},
   "source": [
    "#### For Loops\n",
    "#### While Loops\n",
    "####"
   ]
  }
 ],
 "metadata": {
  "kernelspec": {
   "display_name": "Python 3",
   "language": "python",
   "name": "python3"
  },
  "language_info": {
   "codemirror_mode": {
    "name": "ipython",
    "version": 3
   },
   "file_extension": ".py",
   "mimetype": "text/x-python",
   "name": "python",
   "nbconvert_exporter": "python",
   "pygments_lexer": "ipython3",
   "version": "3.11.5"
  },
  "orig_nbformat": 4
 },
 "nbformat": 4,
 "nbformat_minor": 2
}
