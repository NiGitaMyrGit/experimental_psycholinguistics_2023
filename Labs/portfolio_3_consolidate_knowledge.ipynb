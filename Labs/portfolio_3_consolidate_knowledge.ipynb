{
 "cells": [
  {
   "cell_type": "markdown",
   "metadata": {},
   "source": [
    "Name: Nikita J. Myrting\n",
    "Date: \n",
    "Study Number: "
   ]
  },
  {
   "cell_type": "markdown",
   "metadata": {},
   "source": [
    "# Portfolio 03 - consolidate your knowledge\n",
    "    variables (what is a variable?)\n",
    "    variable types (strings, integers, floats, lists, dictionaries, tuples, sets)\n",
    "    loops\n",
    "        for loops\n",
    "        while loops\n",
    "        enumerate()\n",
    "        appending to a list outside of a loop\n",
    "    list comprehensions\n",
    "    pandas dataframes\n",
    "        building a dataframe out of dictionaries and lists\n",
    "        importing csv files into a dataframe\n",
    "        writing a dataframe to a csv file\n",
    "        sorting a dataframe\n",
    "        adding new columns to a dataframe\n",
    "        converting between wide format and long format data\n",
    "        selecting a sub-section of a dataframe\n"
   ]
  },
  {
   "cell_type": "markdown",
   "metadata": {},
   "source": [
    "## Variables and variable types\n",
    "\n",
    "#### \"Regular\" variables\n",
    "1. **Strings**: set of characters, have to be in quotation marks \"\" or '' \n",
    "1. **Intergers**: whole numbers, positive, negative and zero is included.\n",
    "1. **Floats**: decimal numbers, can also be whole numbersdenoted with a decimal .0. \n",
    "\n",
    "#### \"Collection\" variables\n",
    "\n",
    "1. **Lists** colections, ordered and mutable. Allows duplicate members. uses [ ]\\\n",
    "1. **Tuples** collections, ordered, immutable (unchangeable). Allows duplicate members. uses ()\\\n",
    "1. **Sets** collection, unordered, immutable, unidexed. No duplicate members. Uses function set() -> outputs {}\\\n",
    "1. **Dictionaries** collection, ordered, mutable, indexed. No duplicate members. Uses {}, key + value\n"
   ]
  },
  {
   "cell_type": "code",
   "execution_count": 2,
   "metadata": {},
   "outputs": [],
   "source": [
    "# importing some modules\n",
    "import pandas as pd\n",
    "import numpy as np"
   ]
  },
  {
   "cell_type": "code",
   "execution_count": 4,
   "metadata": {},
   "outputs": [
    {
     "data": {
      "text/plain": [
       "str"
      ]
     },
     "execution_count": 4,
     "metadata": {},
     "output_type": "execute_result"
    }
   ],
   "source": [
    "# Strings\n",
    "hot_drink = \" I believe that tea is the best hot drink there is\"\n",
    "# it's a less intuitive when numbers are inserted,\n",
    "not_hot_drink = \"10\"\n",
    "# but due to the quotation marks, this is still interpreted as a string.\n",
    "type (not_hot_drink)"
   ]
  },
  {
   "cell_type": "code",
   "execution_count": 14,
   "metadata": {},
   "outputs": [
    {
     "name": "stdout",
     "output_type": "stream",
     "text": [
      "This is how many teas you have to drink to get to your daily tea drinking goal: 3\n"
     ]
    },
    {
     "data": {
      "text/plain": [
       "int"
      ]
     },
     "execution_count": 14,
     "metadata": {},
     "output_type": "execute_result"
    }
   ],
   "source": [
    "# Integers\n",
    "teas_today = 2\n",
    "teas_to_drink_today = 5\n",
    "# you can add, subtract, divide and multiply integers\n",
    "remaining_teas_to_drink = teas_to_drink_today - teas_today\n",
    "# I don't actually have a daily tea-drinking goal, but you know, I'm going with a theme here\n",
    "print(\"This is how many teas you have to drink to get to your daily tea drinking goal:\", remaining_teas_to_drink)\n",
    "# We can check the type of the new variable, which is still an integer\n",
    "type(remaining_teas_to_drink)\n",
    "# incomparison with the string before, the type is now an integer since the number is given without the quotation markss\n",
    "\n"
   ]
  },
  {
   "cell_type": "code",
   "execution_count": 22,
   "metadata": {},
   "outputs": [
    {
     "name": "stdout",
     "output_type": "stream",
     "text": [
      "this is the average tea score: 4.5\n"
     ]
    }
   ],
   "source": [
    "# Floats, decimal numbers\n",
    "#I'm rating teas on a scale from -10 to 10\n",
    "white_jasmine_score = 9.2\n",
    "earl_grey_score = 6.8\n",
    "lemon_tea_score = -2.5\n",
    "\n",
    "# let's see what the average score is:\n",
    "average_tea_score = (white_jasmine_score+earl_grey_score+lemon_tea_score)/3\n",
    "print(\"The average tea score is:\", average_tea_score)\n"
   ]
  },
  {
   "cell_type": "code",
   "execution_count": 32,
   "metadata": {},
   "outputs": [
    {
     "name": "stdout",
     "output_type": "stream",
     "text": [
      "Two lists, some values teas, some not teas [['Earl Grey', 'Jasmine', 'White Tea', 'Chamomile', 'Peppermint Liquorice', 'Chai'], [3, 5.1, 'this is not tea']]\n"
     ]
    },
    {
     "data": {
      "text/plain": [
       "list"
      ]
     },
     "execution_count": 32,
     "metadata": {},
     "output_type": "execute_result"
    }
   ],
   "source": [
    "# Lists\n",
    "teas = [\"Earl Grey\", \"Jasmine\", \"White Tea\", \"Chamomile\", \"Peppermint Liquorice\", \"Green Tea\"]\n",
    "# Oh no I fortgot Chai, better add that\n",
    "teas.append(\"Chai\")\n",
    "# Actually I'm not really a fan of green tea, let's delete it\n",
    "teas.remove(\"Green Tea\")\n",
    "# It's possible to put things other than string in a list, like integers and floats\n",
    "not_teas = [3, 5.1, \"this is not tea\"]\n",
    "# It's also possible to append a list to a list\n",
    "some_teas = []\n",
    "some_teas.append(teas)\n",
    "some_teas.append(not_teas)\n",
    "print(\"some of these are teas\", some_teas)\n",
    "# making sure it actually is a list\n",
    "type(not_teas)\n"
   ]
  },
  {
   "cell_type": "code",
   "execution_count": 16,
   "metadata": {},
   "outputs": [
    {
     "ename": "AttributeError",
     "evalue": "'tuple' object has no attribute 'pop'",
     "output_type": "error",
     "traceback": [
      "\u001b[0;31m---------------------------------------------------------------------------\u001b[0m",
      "\u001b[0;31mAttributeError\u001b[0m                            Traceback (most recent call last)",
      "\u001b[1;32m/Users/Nikita/Desktop/EPL/experimental_psycholinguistics_2023/Labs/portfolio_3_consolidate_knowledge.ipynb Cell 8\u001b[0m line \u001b[0;36m5\n\u001b[1;32m      <a href='vscode-notebook-cell:/Users/Nikita/Desktop/EPL/experimental_psycholinguistics_2023/Labs/portfolio_3_consolidate_knowledge.ipynb#X10sZmlsZQ%3D%3D?line=2'>3</a>\u001b[0m best_drinks \u001b[39m=\u001b[39m (\u001b[39m\"\u001b[39m\u001b[39mTea\u001b[39m\u001b[39m\"\u001b[39m, \u001b[39m\"\u001b[39m\u001b[39mPiña Colada\u001b[39m\u001b[39m\"\u001b[39m, \u001b[39m\"\u001b[39m\u001b[39mGuava soda\u001b[39m\u001b[39m\"\u001b[39m, \u001b[39m\"\u001b[39m\u001b[39mMachhiato\u001b[39m\u001b[39m\"\u001b[39m)\n\u001b[1;32m      <a href='vscode-notebook-cell:/Users/Nikita/Desktop/EPL/experimental_psycholinguistics_2023/Labs/portfolio_3_consolidate_knowledge.ipynb#X10sZmlsZQ%3D%3D?line=3'>4</a>\u001b[0m \u001b[39m#\u001b[39;00m\n\u001b[0;32m----> <a href='vscode-notebook-cell:/Users/Nikita/Desktop/EPL/experimental_psycholinguistics_2023/Labs/portfolio_3_consolidate_knowledge.ipynb#X10sZmlsZQ%3D%3D?line=4'>5</a>\u001b[0m best_drinks\u001b[39m.\u001b[39;49mpop(\u001b[39m\"\u001b[39m\u001b[39mTea\u001b[39m\u001b[39m\"\u001b[39m)\n\u001b[1;32m      <a href='vscode-notebook-cell:/Users/Nikita/Desktop/EPL/experimental_psycholinguistics_2023/Labs/portfolio_3_consolidate_knowledge.ipynb#X10sZmlsZQ%3D%3D?line=5'>6</a>\u001b[0m \u001b[39m# See an AttributeError!\u001b[39;00m\n\u001b[1;32m      <a href='vscode-notebook-cell:/Users/Nikita/Desktop/EPL/experimental_psycholinguistics_2023/Labs/portfolio_3_consolidate_knowledge.ipynb#X10sZmlsZQ%3D%3D?line=6'>7</a>\u001b[0m \u001b[39m#best_drinks.append(\"energy drink\")\u001b[39;00m\n",
      "\u001b[0;31mAttributeError\u001b[0m: 'tuple' object has no attribute 'pop'"
     ]
    }
   ],
   "source": [
    "# Tuples\n",
    "# Don't try to change my mind on best drinks, you cannot, it's immuteable now that I've written it as a tuple\n",
    "best_drinks = (\"Tea\", \"Piña Colada\", \"Guava soda\", \"Machhiato\")\n",
    "#\n",
    "best_drinks.pop(\"Tea\")\n",
    "# See an AttributeError!\n",
    "#best_drinks.append(\"energy drink\")"
   ]
  },
  {
   "cell_type": "code",
   "execution_count": 11,
   "metadata": {},
   "outputs": [
    {
     "name": "stdout",
     "output_type": "stream",
     "text": [
      "{'saucer', 'honey', 'tealeaves', 'cup', 'hot water', 'teaspoon'}\n"
     ]
    },
    {
     "data": {
      "text/plain": [
       "set"
      ]
     },
     "execution_count": 11,
     "metadata": {},
     "output_type": "execute_result"
    }
   ],
   "source": [
    "# Sets are made with curly brackets. It can only contain unique members and by that no duplicates.\n",
    "# Even though I really like company when drinking tea, for a set we'd have to share the same cup\n",
    "tea_set = {\"cup\", \"cup\", \"saucer\",\"hot water\", \"tealeaves\", \"honey\", \"teaspoon\", \"tealeaves\"}\n",
    "\n",
    "print(tea_set)\n",
    "type(tea_set)"
   ]
  },
  {
   "cell_type": "code",
   "execution_count": 3,
   "metadata": {},
   "outputs": [
    {
     "name": "stdout",
     "output_type": "stream",
     "text": [
      "{'green', 'white', 'black', 'greenblack', 'roibos'}\n"
     ]
    },
    {
     "data": {
      "text/plain": [
       "set"
      ]
     },
     "execution_count": 3,
     "metadata": {},
     "output_type": "execute_result"
    }
   ],
   "source": [
    "# Sets are often used as a way to find the unique members of an already made tuple/list\n",
    "tea_types = [\"black\", \"green\", \"white\", \"roibos\", \"green\", \"green\" \"black\", \"white\", \"green\"]\n",
    "\n",
    "unique_tea_types = set(tea_types)\n",
    "print(unique_tea_types)\n",
    "type(unique_tea_types)"
   ]
  },
  {
   "cell_type": "code",
   "execution_count": 48,
   "metadata": {},
   "outputs": [
    {
     "name": "stdout",
     "output_type": "stream",
     "text": [
      "{'greenblack', 'black', 'white', 'roibos', 'green'}\n"
     ]
    },
    {
     "data": {
      "text/plain": [
       "dict"
      ]
     },
     "execution_count": 48,
     "metadata": {},
     "output_type": "execute_result"
    }
   ],
   "source": [
    "# Dictionaries. The general structure of a dictionary is like this dict = {\"key_1\": \"value_1\", \"key_2\" \"value_2\"}\n",
    "teas = {\"names\": [\"Earl Grey\", \"Jasmine\", \"White Tea\", \"Chamomile\", \"Peppermint Liquorice\"],\n",
    "       \"favourite\": \"Jasmin\",\n",
    "       \"tea types\": unique_tea_types,\n",
    "       \"country of origin\" : \"China\",\n",
    "       \"cups a day\" : 5\n",
    "            }\n",
    "\n",
    "\n",
    "# Can call the key and get the value\n",
    "print(teas[\"tea types\"])\n",
    "# Could also be done like this\n",
    "# teas.get(\"tea types\")\n",
    "type(teas)"
   ]
  },
  {
   "cell_type": "markdown",
   "metadata": {},
   "source": [
    "## Loops"
   ]
  },
  {
   "cell_type": "markdown",
   "metadata": {},
   "source": [
    "#### For Loops\n",
    "For loops are used to iterate over iterable objects. Let me explain:\\\n",
    "\n",
    "*Iterate* refers to python repeatedly performing a specific action/operation on each element or item in an collection/iterable object\n",
    "\n",
    "*iterable objects* are objects which can be iterated over.\\ Can be collection variables: lists, tuples, sets and dictionaries or objects we haven't worked with such as ranges (E.g. range(1,7)) and generators (which can gerate values as you go).\\\n",
    "\n",
    "#### While Loops\n",
    "A while loop is used to repeatedly execute a block of code as long as a given condition is True. The loop will continue to execute until the condition becomes False. While loops are used until a certain condition is met.\n",
    "While loops requires preexisting input = values defined outside the loop.\n",
    "\n",
    "#### enumerate\n",
    "Can be used to index the values of iterable objects. \n",
    "enumerate(iterable, start=0)\n",
    "iterable : iterable objects\n",
    "start (optional): here you can specify in which position of the iterable object the indexing should begin. It is optional and defaults to 0 if not provided\n"
   ]
  },
  {
   "cell_type": "code",
   "execution_count": 4,
   "metadata": {},
   "outputs": [
    {
     "name": "stdout",
     "output_type": "stream",
     "text": [
      "Hello there\n"
     ]
    }
   ],
   "source": [
    "# WHILE LOOPS AND FOR LOOPS\n",
    "# I have made a case converter, which I was too tired to make in the last portfolio :)\n",
    "# \n",
    "\n",
    "# making an empty list outside the loop to use inside the while loop\n",
    "text = []\n",
    "# making an empty string outside the loop to use inside the while loop\n",
    "txt = \"\"\n",
    "# this is a while loop\n",
    "while True:\n",
    "    txt = input(\"Type in some text you want to work with. Write '1' if you are done: \")\n",
    "    # loop until user types in '1'\n",
    "    if txt == \"1\":\n",
    "        break\n",
    "    # appending the txt input to the 'text' list outside the loop\n",
    "    text.append(txt)\n",
    "\n",
    "# making a new list for the transformed text \n",
    "text_transformed = []\n",
    "# this is a for loop\n",
    "for txt in text:\n",
    "    # while loop used here: if mistaken key is pressed, no worries, it'll start over until the condition is met\n",
    "    while True:\n",
    "        temp = input(\"What do you want to transform your text to? Write 'c' to capitalize, 'u' to make all text caps, 'l' for lower case, and 'q' to quit: \")\n",
    "        if temp == \"c\":\n",
    "            txt_2 = txt.capitalize()\n",
    "            break\n",
    "        elif temp == \"u\":\n",
    "            txt_2 = txt.upper()\n",
    "            break\n",
    "        elif temp == \"l\":\n",
    "            txt_2 = txt.lower()\n",
    "            break\n",
    "        # user do not need to be stuck in the loop if they do not wish to transform text\n",
    "        elif temp == \"q\":\n",
    "            break\n",
    "        else:\n",
    "            print(\"Not a correct key. Please try again.\")\n",
    "\n",
    "    text_transformed.append(txt_2)\n",
    "\n",
    "for text in text_transformed:\n",
    "    print(text)"
   ]
  },
  {
   "cell_type": "markdown",
   "metadata": {},
   "source": [
    "#### Enumerate"
   ]
  },
  {
   "cell_type": "code",
   "execution_count": 12,
   "metadata": {},
   "outputs": [
    {
     "name": "stderr",
     "output_type": "stream",
     "text": [
      "[nltk_data] Downloading package gutenberg to\n",
      "[nltk_data]     /Users/Nikita/nltk_data...\n",
      "[nltk_data]   Package gutenberg is already up-to-date!\n"
     ]
    },
    {
     "data": {
      "text/plain": [
       "['daisies, when suddenly a white rabbit with pink eyes ran',\n",
       " 'long passage, and the white rabbit was still in sight,',\n",
       " 'coming. it was the white rabbit returning, splendidly dressed, with',\n",
       " \"stopped hastily, for the white rabbit cried out, 'silence in\",\n",
       " ' on this the white rabbit blew three blasts on',\n",
       " 'the king; and the white rabbit blew three blasts on',\n",
       " ' alice watched the white rabbit as he fumbled over',\n",
       " 'her surprise, when the white rabbit read out, at the',\n",
       " \"their slates, when the white rabbit interrupted: 'unimportant, your majesty\",\n",
       " 'the king.  the white rabbit put on his spectacles.',\n",
       " 'were the verses the white rabbit read:--   ',\n",
       " 'her feet as the white rabbit hurried by--the frightened mouse']"
      ]
     },
     "execution_count": 12,
     "metadata": {},
     "output_type": "execute_result"
    }
   ],
   "source": [
    "# Preliminaries\n",
    "# I'm using the example from lab_01\n",
    "import nltk\n",
    "nltk.download('gutenberg')\n",
    "# Cleaning text\n",
    "alice = nltk.corpus.gutenberg.raw('carroll-alice.txt')\n",
    "alice = alice.lower()\n",
    "alice = alice.replace('\\n', ' ')\n",
    "alice = alice.split(' ')\n",
    "\n",
    "#Enumerate\n",
    "# searching for the words \"white rabbit\" by making an empty list \"concordance\"\n",
    "concordance = []\n",
    "# for loop that uses enumerate\n",
    "# enumarate is used to access the index (i), and the value (val) in the list 'alice'\n",
    "for i, val in enumerate(alice):\n",
    "    # if-statement checking whether word is equal to \"rabbit\"\n",
    "    if val == \"rabbit\":\n",
    "        # cehcks if word immediately before [i-1] \"rabbit\" is \"white\"\n",
    "        if alice[i-1] == \"white\":\n",
    "            #if \"white rabbit\" is present\n",
    "            # append + the five words before, i-5, and the five words after, i+5.\n",
    "            # the words are joined, .join,  into a single string with spaces between them, str(' '\n",
    "            concordance.append(str(' '.join(alice[i-5:i+5])))\n",
    "\n",
    "concordance\n"
   ]
  },
  {
   "cell_type": "code",
   "execution_count": 13,
   "metadata": {},
   "outputs": [
    {
     "data": {
      "text/plain": [
       "['he poured a little hot tea upon its nose. ']"
      ]
     },
     "execution_count": 13,
     "metadata": {},
     "output_type": "execute_result"
    }
   ],
   "source": [
    "#Enumerate\n",
    "# searching for the words \"white rabbit\" by making an empty list \"concordance\"\n",
    "concordance = []\n",
    "# for loop that uses enumerate\n",
    "# enumarate is used to access the index (i), and the value (val) in the list 'alice'\n",
    "for i, val in enumerate(alice):\n",
    "    # if-statement checking whether word is equal to \"tea\"\n",
    "    if val == \"tea\":\n",
    "        # checks if word immediately before [i-1] \"tea\" is \"hot\"\n",
    "        if alice[i-1] == \"hot\":\n",
    "            #if \"white rabbit\" is present append them and\n",
    "            #the five words before, i-5, and the five words after, i+5.\n",
    "            #the strings are then joined with into a single string with spaces between them with str(' '.join(...))\n",
    "            concordance.append(str(' '.join(alice[i-5:i+5])))\n",
    "concordance"
   ]
  },
  {
   "cell_type": "markdown",
   "metadata": {},
   "source": [
    "## List comprehensions\n",
    "Works like for loops, but are more compact, go through a collection variable and do something to each value\n",
    "\n",
    "new_list = [**expression** for **item** in **iterable** if **condition**]\n",
    "    \n",
    "**expression**:Operation you want to perform on each item from an existing collection.\n",
    "\n",
    "**item**: A placeholder representing each element of the iterable e.g. the values inside a list.\n",
    "\n",
    "**iterable**:  This is the collection of items you already have and want to iterate over e.g. the list itself.\n",
    "\n",
    "**condition** (optional): Only those items from the iterable that meet certain requirements are included in the new list. \n",
    "\n",
    "\n",
    "source: https://www.geeksforgeeks.org/python-list-comprehension/"
   ]
  },
  {
   "cell_type": "code",
   "execution_count": 31,
   "metadata": {},
   "outputs": [
    {
     "data": {
      "text/plain": [
       "['Earl Grey', 'Jasmine', 'Chamomile', 'Peppermint Liquorice']"
      ]
     },
     "execution_count": 31,
     "metadata": {},
     "output_type": "execute_result"
    }
   ],
   "source": [
    "# List comprehension\n",
    "# Time for another tea\n",
    "teas = [\"Earl Grey\", \"Jasmine\", \"White Tea\", \"Chamomile\", \"Peppermint Liquorice\", \"Green Tea\"]\n",
    "# Now I only want real tea names, not overt categories, let's put the teanames that doesn't end with \"Tea\" in a new list\n",
    "tea_names = [x for x in teas if not x.endswith(\"Tea\")]\n",
    "tea_names"
   ]
  },
  {
   "cell_type": "markdown",
   "metadata": {},
   "source": [
    "## pandas dataframes\n",
    "#### building a dataframe out of dictionaries and lists\n",
    "A dataframa (df for short) is in sh. In python often represented as a Pandas dataframe, though other options are available (and by some preferred). A dataframe consists of tabular data organized in a table with rows and columns rows, and columns. Columns are vertical while rows horizontal.\n",
    "\n",
    "#### importing csv files into a dataframe\n",
    "#### writing a dataframe to a csv file\n",
    "#### sorting a dataframe\n",
    "#### adding new columns to a dataframe\n",
    "#### converting between wide format and long format data\n",
    "#### selecting a sub-section of a dataframe"
   ]
  },
  {
   "cell_type": "markdown",
   "metadata": {},
   "source": [
    "# Bulding a dataframe out of dictionaries and lists\n"
   ]
  }
 ],
 "metadata": {
  "kernelspec": {
   "display_name": "Python 3",
   "language": "python",
   "name": "python3"
  },
  "language_info": {
   "codemirror_mode": {
    "name": "ipython",
    "version": 3
   },
   "file_extension": ".py",
   "mimetype": "text/x-python",
   "name": "python",
   "nbconvert_exporter": "python",
   "pygments_lexer": "ipython3",
   "version": "3.11.5"
  },
  "orig_nbformat": 4
 },
 "nbformat": 4,
 "nbformat_minor": 2
}
