{
 "cells": [
  {
   "cell_type": "markdown",
   "metadata": {},
   "source": [
    "Name: Nikita J. Myrting\n",
    "Date: \n",
    "Study Number: "
   ]
  },
  {
   "cell_type": "markdown",
   "metadata": {},
   "source": [
    "# Portfolio 03 - consolidate your knowledge\n",
    "    variables (what is a variable?)\n",
    "    variable types (strings, integers, floats, lists, dictionaries, tuples, sets)\n",
    "    loops\n",
    "        for loops\n",
    "        while loops\n",
    "        enumerate()\n",
    "        appending to a list outside of a loop\n",
    "    list comprehensions\n",
    "    pandas dataframes\n",
    "        building a dataframe out of dictionaries and lists\n",
    "        importing csv files into a dataframe\n",
    "        writing a dataframe to a csv file\n",
    "        sorting a dataframe\n",
    "        adding new columns to a dataframe\n",
    "        converting between wide format and long format data\n",
    "        selecting a sub-section of a dataframe\n"
   ]
  },
  {
   "cell_type": "markdown",
   "metadata": {},
   "source": [
    "## Variables and variable types\n",
    "\n",
    "#### \"Regular\" variables\n",
    "1. **Strings**: set of characters, have to be in quotation marks \"\" or '' \n",
    "1. **Intergers**: whole numbers, positive, negative and zero is included.\n",
    "1. **Floats**: decimal numbers, can also be whole numbersdenoted with a decimal .0. \n",
    "\n",
    "#### \"Collection\" variables\n",
    "\n",
    "1. **Lists** colections, ordered and mutable. Allows duplicate members. uses [ ]\\\n",
    "1. **Tuples** collections, ordered, immutable (unchangeable). Allows duplicate members. uses ()\\\n",
    "1. **Sets** collection, unordered, immutable, unidexed. No duplicate members. Uses function set() -> outputs {}\\\n",
    "1. **Dictionaries** collection, ordered, mutable, indexed. No duplicate members. Uses {}, key + value\n"
   ]
  },
  {
   "cell_type": "code",
   "execution_count": 4,
   "metadata": {},
   "outputs": [
    {
     "data": {
      "text/plain": [
       "str"
      ]
     },
     "execution_count": 4,
     "metadata": {},
     "output_type": "execute_result"
    }
   ],
   "source": [
    "# Strings\n",
    "hot_drink = \" I believe that tea is the best hot drink there is\"\n",
    "# it's a less intuitive when numbers are inserted,\n",
    "not_hot_drink = \"10\"\n",
    "# but due to the quotation marks, this is still interpreted as a string.\n",
    "type (not_hot_drink)"
   ]
  },
  {
   "cell_type": "code",
   "execution_count": 14,
   "metadata": {},
   "outputs": [
    {
     "name": "stdout",
     "output_type": "stream",
     "text": [
      "This is how many teas you have to drink to get to your daily tea drinking goal: 3\n"
     ]
    },
    {
     "data": {
      "text/plain": [
       "int"
      ]
     },
     "execution_count": 14,
     "metadata": {},
     "output_type": "execute_result"
    }
   ],
   "source": [
    "# Integers\n",
    "teas_today = 2\n",
    "teas_to_drink_today = 5\n",
    "# you can add, subtract, divide and multiply integers\n",
    "remaining_teas_to_drink = teas_to_drink_today - teas_today\n",
    "# I don't actually have a daily tea-drinking goal, but you know, I'm going with a theme here\n",
    "print(\"This is how many teas you have to drink to get to your daily tea drinking goal:\", remaining_teas_to_drink)\n",
    "# We can check the type of the new variable, which is still an integer\n",
    "type(remaining_teas_to_drink)\n",
    "# incomparison with the string before, the type is now an integer since the number is given without the quotation markss\n",
    "\n"
   ]
  },
  {
   "cell_type": "code",
   "execution_count": 22,
   "metadata": {},
   "outputs": [
    {
     "name": "stdout",
     "output_type": "stream",
     "text": [
      "this is the average tea score: 4.5\n"
     ]
    }
   ],
   "source": [
    "# Floats, decimal numbers\n",
    "#I'm rating teas on a scale from -10 to 10\n",
    "white_jasmine_score = 9.2\n",
    "earl_grey_score = 6.8\n",
    "lemon_tea_score = -2.5\n",
    "\n",
    "# let's see what the average score is:\n",
    "average_tea_score = (white_jasmine_score+earl_grey_score+lemon_tea_score)/3\n",
    "print(\"The average tea score is:\", average_tea_score)\n"
   ]
  },
  {
   "cell_type": "code",
   "execution_count": 32,
   "metadata": {},
   "outputs": [
    {
     "name": "stdout",
     "output_type": "stream",
     "text": [
      "Two lists, some values teas, some not teas [['Earl Grey', 'Jasmine', 'White Tea', 'Chamomile', 'Peppermint Liquorice', 'Chai'], [3, 5.1, 'this is not tea']]\n"
     ]
    },
    {
     "data": {
      "text/plain": [
       "list"
      ]
     },
     "execution_count": 32,
     "metadata": {},
     "output_type": "execute_result"
    }
   ],
   "source": [
    "# Lists\n",
    "teas = [\"Earl Grey\", \"Jasmine\", \"White Tea\", \"Chamomile\", \"Peppermint Liquorice\", \"Green Tea\"]\n",
    "# Oh no I fortgot Chai, better add that\n",
    "teas.append(\"Chai\")\n",
    "# Actually I'm not really a fan of green tea, let's delete it\n",
    "teas.remove(\"Green Tea\")\n",
    "# It's possible to put things other than string in a list, like integers and floats\n",
    "not_teas = [3, 5.1, \"this is not tea\"]\n",
    "# It's also possible to append a list to a list\n",
    "some_teas = []\n",
    "some_teas.append(teas)\n",
    "some_teas.append(not_teas)\n",
    "print(\"some of these are teas\", some_teas)\n",
    "# making sure it actually is a list\n",
    "type(not_teas)\n"
   ]
  },
  {
   "cell_type": "code",
   "execution_count": 16,
   "metadata": {},
   "outputs": [
    {
     "ename": "AttributeError",
     "evalue": "'tuple' object has no attribute 'pop'",
     "output_type": "error",
     "traceback": [
      "\u001b[0;31m---------------------------------------------------------------------------\u001b[0m",
      "\u001b[0;31mAttributeError\u001b[0m                            Traceback (most recent call last)",
      "\u001b[1;32m/Users/Nikita/Desktop/EPL/experimental_psycholinguistics_2023/Labs/portfolio_3_consolidate_knowledge.ipynb Cell 8\u001b[0m line \u001b[0;36m5\n\u001b[1;32m      <a href='vscode-notebook-cell:/Users/Nikita/Desktop/EPL/experimental_psycholinguistics_2023/Labs/portfolio_3_consolidate_knowledge.ipynb#X10sZmlsZQ%3D%3D?line=2'>3</a>\u001b[0m best_drinks \u001b[39m=\u001b[39m (\u001b[39m\"\u001b[39m\u001b[39mTea\u001b[39m\u001b[39m\"\u001b[39m, \u001b[39m\"\u001b[39m\u001b[39mPiña Colada\u001b[39m\u001b[39m\"\u001b[39m, \u001b[39m\"\u001b[39m\u001b[39mGuava soda\u001b[39m\u001b[39m\"\u001b[39m, \u001b[39m\"\u001b[39m\u001b[39mMachhiato\u001b[39m\u001b[39m\"\u001b[39m)\n\u001b[1;32m      <a href='vscode-notebook-cell:/Users/Nikita/Desktop/EPL/experimental_psycholinguistics_2023/Labs/portfolio_3_consolidate_knowledge.ipynb#X10sZmlsZQ%3D%3D?line=3'>4</a>\u001b[0m \u001b[39m#\u001b[39;00m\n\u001b[0;32m----> <a href='vscode-notebook-cell:/Users/Nikita/Desktop/EPL/experimental_psycholinguistics_2023/Labs/portfolio_3_consolidate_knowledge.ipynb#X10sZmlsZQ%3D%3D?line=4'>5</a>\u001b[0m best_drinks\u001b[39m.\u001b[39;49mpop(\u001b[39m\"\u001b[39m\u001b[39mTea\u001b[39m\u001b[39m\"\u001b[39m)\n\u001b[1;32m      <a href='vscode-notebook-cell:/Users/Nikita/Desktop/EPL/experimental_psycholinguistics_2023/Labs/portfolio_3_consolidate_knowledge.ipynb#X10sZmlsZQ%3D%3D?line=5'>6</a>\u001b[0m \u001b[39m# See an AttributeError!\u001b[39;00m\n\u001b[1;32m      <a href='vscode-notebook-cell:/Users/Nikita/Desktop/EPL/experimental_psycholinguistics_2023/Labs/portfolio_3_consolidate_knowledge.ipynb#X10sZmlsZQ%3D%3D?line=6'>7</a>\u001b[0m \u001b[39m#best_drinks.append(\"energy drink\")\u001b[39;00m\n",
      "\u001b[0;31mAttributeError\u001b[0m: 'tuple' object has no attribute 'pop'"
     ]
    }
   ],
   "source": [
    "# Tuples\n",
    "# Don't try to change my mind on best drinks, you cannot, it's immuteable now that I've written it as a tuple\n",
    "best_drinks = (\"Tea\", \"Piña Colada\", \"Guava soda\", \"Machhiato\")\n",
    "#\n",
    "best_drinks.pop(\"Tea\")\n",
    "# See an AttributeError!\n",
    "#best_drinks.append(\"energy drink\")"
   ]
  },
  {
   "cell_type": "code",
   "execution_count": 11,
   "metadata": {},
   "outputs": [
    {
     "name": "stdout",
     "output_type": "stream",
     "text": [
      "{'saucer', 'honey', 'tealeaves', 'cup', 'hot water', 'teaspoon'}\n"
     ]
    },
    {
     "data": {
      "text/plain": [
       "set"
      ]
     },
     "execution_count": 11,
     "metadata": {},
     "output_type": "execute_result"
    }
   ],
   "source": [
    "# Sets are made with curly brackets. It can only contain unique members and by that no duplicates.\n",
    "# Even though I really like company when drinking tea, for a set we'd have to share the same cup\n",
    "tea_set = {\"cup\", \"cup\", \"saucer\",\"hot water\", \"tealeaves\", \"honey\", \"teaspoon\", \"tealeaves\"}\n",
    "\n",
    "print(tea_set)\n",
    "type(tea_set)"
   ]
  },
  {
   "cell_type": "code",
   "execution_count": 3,
   "metadata": {},
   "outputs": [
    {
     "name": "stdout",
     "output_type": "stream",
     "text": [
      "{'green', 'white', 'black', 'greenblack', 'roibos'}\n"
     ]
    },
    {
     "data": {
      "text/plain": [
       "set"
      ]
     },
     "execution_count": 3,
     "metadata": {},
     "output_type": "execute_result"
    }
   ],
   "source": [
    "# Sets are often used as a way to find the unique members of an already made tuple/list\n",
    "tea_types = [\"black\", \"green\", \"white\", \"roibos\", \"green\", \"green\" \"black\", \"white\", \"green\"]\n",
    "\n",
    "unique_tea_types = set(tea_types)\n",
    "print(unique_tea_types)\n",
    "type(unique_tea_types)"
   ]
  },
  {
   "cell_type": "code",
   "execution_count": 48,
   "metadata": {},
   "outputs": [
    {
     "name": "stdout",
     "output_type": "stream",
     "text": [
      "{'greenblack', 'black', 'white', 'roibos', 'green'}\n"
     ]
    },
    {
     "data": {
      "text/plain": [
       "dict"
      ]
     },
     "execution_count": 48,
     "metadata": {},
     "output_type": "execute_result"
    }
   ],
   "source": [
    "# Dictionaries. The general structure of a dictionary is like this dict = {\"key_1\": \"value_1\", \"key_2\" \"value_2\"}\n",
    "teas = {\"names\": [\"Earl Grey\", \"Jasmine\", \"White Tea\", \"Chamomile\", \"Peppermint Liquorice\"],\n",
    "       \"favourite\": \"Jasmin\",\n",
    "       \"tea types\": unique_tea_types,\n",
    "       \"country of origin\" : \"China\",\n",
    "       \"cups a day\" : 5\n",
    "            }\n",
    "\n",
    "\n",
    "# Can call the key and get the value\n",
    "print(teas[\"tea types\"])\n",
    "# Could also be done like this\n",
    "# teas.get(\"tea types\")\n",
    "type(teas)"
   ]
  },
  {
   "cell_type": "markdown",
   "metadata": {},
   "source": [
    "## Loops"
   ]
  },
  {
   "cell_type": "markdown",
   "metadata": {},
   "source": [
    "#### For Loops\n",
    "For loops are used to iterate over iterable objects. Let me explain:\\\n",
    "\n",
    "*Iterate* refers to python repeatedly performing a specific action/operation on each element or item in an collection/iterable object\n",
    "\n",
    "*iterable objects* are objects which can be iterated over.\\ Can be collection variables: lists, tuples, sets and dictionaries or objects we haven't worked with such as ranges (E.g. range(1,7)) and generators (which can gerate values as you go).\\\n",
    "\n",
    "#### While Loops\n",
    "A while loop is used to repeatedly execute a block of code as long as a given condition is True. The loop will continue to execute until the condition becomes False. While loops are used until a certain condition is met.\n",
    "While loops requires preexisting input = values defined outside the loop.\n",
    "\n",
    "#### enumerate\n",
    "Can be used to index the values of iterable objects. \n",
    "enumerate(iterable, start=0)\n",
    "iterable : iterable objects\n",
    "start (optional): here you can specify in which position of the iterable object the indexing should begin. It is optional and defaults to 0 if not provided\n"
   ]
  },
  {
   "cell_type": "code",
   "execution_count": 4,
   "metadata": {},
   "outputs": [
    {
     "name": "stdout",
     "output_type": "stream",
     "text": [
      "Hello there\n"
     ]
    }
   ],
   "source": [
    "# WHILE LOOPS AND FOR LOOPS\n",
    "# I have made a case converter, which I was too tired to make in the last portfolio :)\n",
    "# \n",
    "\n",
    "# making an empty list outside the loop to use inside the while loop\n",
    "text = []\n",
    "# making an empty string outside the loop to use inside the while loop\n",
    "txt = \"\"\n",
    "# this is a while loop\n",
    "while True:\n",
    "    txt = input(\"Type in some text you want to work with. Write '1' if you are done: \")\n",
    "    # loop until user types in '1'\n",
    "    if txt == \"1\":\n",
    "        break\n",
    "    # appending the txt input to the 'text' list outside the loop\n",
    "    text.append(txt)\n",
    "\n",
    "# making a new list for the transformed text \n",
    "text_transformed = []\n",
    "# this is a for loop\n",
    "for txt in text:\n",
    "    # while loop used here: if mistaken key is pressed, no worries, it'll start over until the condition is met\n",
    "    while True:\n",
    "        temp = input(\"What do you want to transform your text to? Write 'c' to capitalize, 'u' to make all text caps, 'l' for lower case, and 'q' to quit: \")\n",
    "        if temp == \"c\":\n",
    "            txt_2 = txt.capitalize()\n",
    "            break\n",
    "        elif temp == \"u\":\n",
    "            txt_2 = txt.upper()\n",
    "            break\n",
    "        elif temp == \"l\":\n",
    "            txt_2 = txt.lower()\n",
    "            break\n",
    "        # user do not need to be stuck in the loop if they do not wish to transform text\n",
    "        elif temp == \"q\":\n",
    "            break\n",
    "        else:\n",
    "            print(\"Not a correct key. Please try again.\")\n",
    "\n",
    "    text_transformed.append(txt_2)\n",
    "\n",
    "for text in text_transformed:\n",
    "    print(text)"
   ]
  },
  {
   "cell_type": "markdown",
   "metadata": {},
   "source": [
    "#### Enumerate"
   ]
  },
  {
   "cell_type": "code",
   "execution_count": 12,
   "metadata": {},
   "outputs": [
    {
     "name": "stderr",
     "output_type": "stream",
     "text": [
      "[nltk_data] Downloading package gutenberg to\n",
      "[nltk_data]     /Users/Nikita/nltk_data...\n",
      "[nltk_data]   Package gutenberg is already up-to-date!\n"
     ]
    },
    {
     "data": {
      "text/plain": [
       "['daisies, when suddenly a white rabbit with pink eyes ran',\n",
       " 'long passage, and the white rabbit was still in sight,',\n",
       " 'coming. it was the white rabbit returning, splendidly dressed, with',\n",
       " \"stopped hastily, for the white rabbit cried out, 'silence in\",\n",
       " ' on this the white rabbit blew three blasts on',\n",
       " 'the king; and the white rabbit blew three blasts on',\n",
       " ' alice watched the white rabbit as he fumbled over',\n",
       " 'her surprise, when the white rabbit read out, at the',\n",
       " \"their slates, when the white rabbit interrupted: 'unimportant, your majesty\",\n",
       " 'the king.  the white rabbit put on his spectacles.',\n",
       " 'were the verses the white rabbit read:--   ',\n",
       " 'her feet as the white rabbit hurried by--the frightened mouse']"
      ]
     },
     "execution_count": 12,
     "metadata": {},
     "output_type": "execute_result"
    }
   ],
   "source": [
    "# Preliminaries\n",
    "# I'm using the example from lab_01\n",
    "import nltk\n",
    "nltk.download('gutenberg')\n",
    "# Cleaning text\n",
    "alice = nltk.corpus.gutenberg.raw('carroll-alice.txt')\n",
    "alice = alice.lower()\n",
    "alice = alice.replace('\\n', ' ')\n",
    "alice = alice.split(' ')\n",
    "\n",
    "#Enumerate\n",
    "# searching for the words \"white rabbit\" by making an empty list \"concordance\"\n",
    "concordance = []\n",
    "# for loop that uses enumerate\n",
    "# enumarate is used to access the index (i), and the value (val) in the list 'alice'\n",
    "for i, val in enumerate(alice):\n",
    "    # if-statement checking whether word is equal to \"rabbit\"\n",
    "    if val == \"rabbit\":\n",
    "        # cehcks if word immediately before [i-1] \"rabbit\" is \"white\"\n",
    "        if alice[i-1] == \"white\":\n",
    "            #if \"white rabbit\" is present\n",
    "            # append + the five words before, i-5, and the five words after, i+5.\n",
    "            # the words are joined, .join,  into a single string with spaces between them, str(' '\n",
    "            concordance.append(str(' '.join(alice[i-5:i+5])))\n",
    "\n",
    "concordance\n"
   ]
  },
  {
   "cell_type": "code",
   "execution_count": 13,
   "metadata": {},
   "outputs": [
    {
     "data": {
      "text/plain": [
       "['he poured a little hot tea upon its nose. ']"
      ]
     },
     "execution_count": 13,
     "metadata": {},
     "output_type": "execute_result"
    }
   ],
   "source": [
    "#Enumerate\n",
    "# searching for the words \"white rabbit\" by making an empty list \"concordance\"\n",
    "concordance = []\n",
    "# for loop that uses enumerate\n",
    "# enumarate is used to access the index (i), and the value (val) in the list 'alice'\n",
    "for i, val in enumerate(alice):\n",
    "    # if-statement checking whether word is equal to \"tea\"\n",
    "    if val == \"tea\":\n",
    "        # checks if word immediately before [i-1] \"tea\" is \"hot\"\n",
    "        if alice[i-1] == \"hot\":\n",
    "            #if \"white rabbit\" is present append them and\n",
    "            #the five words before, i-5, and the five words after, i+5.\n",
    "            #the strings are then joined with into a single string with spaces between them with str(' '.join(...))\n",
    "            concordance.append(str(' '.join(alice[i-5:i+5])))\n",
    "concordance"
   ]
  },
  {
   "cell_type": "markdown",
   "metadata": {},
   "source": [
    "## List comprehensions\n",
    "Works like for loops, but are more compact, go through a collection variable and do something to each value\n",
    "\n",
    "new_list = [**expression** for **item** in **iterable** if **condition**]\n",
    "    \n",
    "**expression**:Operation you want to perform on each item from an existing collection.\n",
    "\n",
    "**item**: A placeholder representing each element of the iterable e.g. the values inside a list.\n",
    "\n",
    "**iterable**:  This is the collection of items you already have and want to iterate over e.g. the list itself.\n",
    "\n",
    "**condition** (optional): Only those items from the iterable that meet certain requirements are included in the new list. \n",
    "\n",
    "\n",
    "source: https://www.geeksforgeeks.org/python-list-comprehension/"
   ]
  },
  {
   "cell_type": "code",
   "execution_count": 31,
   "metadata": {},
   "outputs": [
    {
     "data": {
      "text/plain": [
       "['Earl Grey', 'Jasmine', 'Chamomile', 'Peppermint Liquorice']"
      ]
     },
     "execution_count": 31,
     "metadata": {},
     "output_type": "execute_result"
    }
   ],
   "source": [
    "# List comprehension\n",
    "# Time for another tea\n",
    "teas = [\"Earl Grey\", \"Jasmine\", \"White Tea\", \"Chamomile\", \"Peppermint Liquorice\", \"Green Tea\"]\n",
    "# Now I only want real tea names, not overt categories, let's put the teanames that doesn't end with \"Tea\" in a new list\n",
    "tea_names = [x for x in teas if not x.endswith(\"Tea\")]\n",
    "tea_names"
   ]
  },
  {
   "cell_type": "markdown",
   "metadata": {},
   "source": [
    "## pandas dataframes\n",
    " A dataframa (df for short) is in python often represented as a Pandas dataframe, though other options are available (and by some preferred). A dataframe consists of tabular data organized in a table with rows and columns rows. Columns are vertical while rows horizontal.\n",
    "#### building a dataframe out of dictionaries and lists\n",
    "#### importing csv files into a dataframe\n",
    "CSV: comma separated values, it's actually in a txt-format , but it resembles a dataframe in organization and stores tabular data. the function `pd.read_csv` is used\n",
    "#### writing a dataframe to a csv file\n",
    "`df.to_csv(path/for/output/folder)``\n",
    "#### sorting a dataframe\n",
    "df.sort_values(by=['column_name'])\n",
    "#### adding new columns to a dataframe\n",
    "#### converting between wide format and long format data\n",
    "A wide format has values that *do not* repeat in the first column. Generally used for analyzing data\n",
    "A long format has values that *do* repeat in the first column. Generally used for visualisation.\n",
    "src: https://www.statology.org/long-vs-wide-data/\n",
    "#### selecting a sub-section of a dataframe\n",
    "**subsection of rows:**\\\n",
    "`loc` gets rows (and/or columns) with particular labels.\\\n",
    "`iloc` gets rows (and/or columns) at integer locations.\\\n",
    "**subsection of columns:**\\\n",
    "using the dataframe we want double brackets are used in order to get both the column name and column data.\\\n",
    "`df[[\"names\"]]``"
   ]
  },
  {
   "cell_type": "markdown",
   "metadata": {},
   "source": []
  },
  {
   "cell_type": "code",
   "execution_count": 2,
   "metadata": {},
   "outputs": [],
   "source": [
    "import pandas as pd"
   ]
  },
  {
   "cell_type": "code",
   "execution_count": 31,
   "metadata": {},
   "outputs": [
    {
     "data": {
      "text/html": [
       "<div>\n",
       "<style scoped>\n",
       "    .dataframe tbody tr th:only-of-type {\n",
       "        vertical-align: middle;\n",
       "    }\n",
       "\n",
       "    .dataframe tbody tr th {\n",
       "        vertical-align: top;\n",
       "    }\n",
       "\n",
       "    .dataframe thead th {\n",
       "        text-align: right;\n",
       "    }\n",
       "</style>\n",
       "<table border=\"1\" class=\"dataframe\">\n",
       "  <thead>\n",
       "    <tr style=\"text-align: right;\">\n",
       "      <th></th>\n",
       "      <th>names</th>\n",
       "      <th>origin year</th>\n",
       "      <th>origin country</th>\n",
       "      <th>tea types</th>\n",
       "    </tr>\n",
       "  </thead>\n",
       "  <tbody>\n",
       "    <tr>\n",
       "      <th>0</th>\n",
       "      <td>matcha</td>\n",
       "      <td>960</td>\n",
       "      <td>china</td>\n",
       "      <td>green</td>\n",
       "    </tr>\n",
       "    <tr>\n",
       "      <th>1</th>\n",
       "      <td>earl grey</td>\n",
       "      <td>1830</td>\n",
       "      <td>great britian</td>\n",
       "      <td>black</td>\n",
       "    </tr>\n",
       "    <tr>\n",
       "      <th>2</th>\n",
       "      <td>jasmine</td>\n",
       "      <td>-500</td>\n",
       "      <td>china</td>\n",
       "      <td>any</td>\n",
       "    </tr>\n",
       "    <tr>\n",
       "      <th>3</th>\n",
       "      <td>camomile</td>\n",
       "      <td>-1550</td>\n",
       "      <td>egypt</td>\n",
       "      <td>herbal</td>\n",
       "    </tr>\n",
       "    <tr>\n",
       "      <th>4</th>\n",
       "      <td>darjeeling white</td>\n",
       "      <td>1841</td>\n",
       "      <td>india</td>\n",
       "      <td>white</td>\n",
       "    </tr>\n",
       "  </tbody>\n",
       "</table>\n",
       "</div>"
      ],
      "text/plain": [
       "              names  origin year origin country tea types\n",
       "0            matcha          960          china     green\n",
       "1         earl grey         1830  great britian     black\n",
       "2           jasmine         -500          china       any\n",
       "3          camomile        -1550          egypt    herbal\n",
       "4  darjeeling white         1841          india     white"
      ]
     },
     "execution_count": 31,
     "metadata": {},
     "output_type": "execute_result"
    }
   ],
   "source": [
    "# making a datafra from dictionaries and list\n",
    "# I have in this version made lists inside the dictionary\n",
    "teas = {\"names\": [\"matcha\", \"earl grey\", \"jasmine\", \"camomile\", \"darjeeling white\"], \n",
    "        \"origin year\":[960 ,1830, -500, -1550, 1841],\n",
    "        \"origin country\": [\"china\",\"great britian\", \"china\", \"egypt\", \"india\"],\n",
    "       \"tea types\": [\"green\", \"black\", \"any\", \"herbal\", \"white\"]}\n",
    "# since I want it from a dictionary I use the '.from_dict'\n",
    "tea_df = pd.DataFrame.from_dict(teas)\n",
    "\n",
    "tea_df"
   ]
  },
  {
   "cell_type": "code",
   "execution_count": 28,
   "metadata": {},
   "outputs": [
    {
     "data": {
      "text/html": [
       "<div>\n",
       "<style scoped>\n",
       "    .dataframe tbody tr th:only-of-type {\n",
       "        vertical-align: middle;\n",
       "    }\n",
       "\n",
       "    .dataframe tbody tr th {\n",
       "        vertical-align: top;\n",
       "    }\n",
       "\n",
       "    .dataframe thead th {\n",
       "        text-align: right;\n",
       "    }\n",
       "</style>\n",
       "<table border=\"1\" class=\"dataframe\">\n",
       "  <thead>\n",
       "    <tr style=\"text-align: right;\">\n",
       "      <th></th>\n",
       "      <th>word</th>\n",
       "      <th>length</th>\n",
       "      <th>M AROU</th>\n",
       "      <th>SD AROU</th>\n",
       "      <th>N AROU</th>\n",
       "      <th>M VAL</th>\n",
       "      <th>SD VAL</th>\n",
       "      <th>N VAL</th>\n",
       "      <th>M DOM</th>\n",
       "      <th>SD DOM</th>\n",
       "      <th>...</th>\n",
       "      <th>N FAM</th>\n",
       "      <th>M AOA</th>\n",
       "      <th>SD AOA</th>\n",
       "      <th>N AOA</th>\n",
       "      <th>M SIZE</th>\n",
       "      <th>SD SIZE</th>\n",
       "      <th>N SIZE</th>\n",
       "      <th>M GEND</th>\n",
       "      <th>SD GEND</th>\n",
       "      <th>N GEND</th>\n",
       "    </tr>\n",
       "  </thead>\n",
       "  <tbody>\n",
       "    <tr>\n",
       "      <th>0</th>\n",
       "      <td>abattoir</td>\n",
       "      <td>8.0</td>\n",
       "      <td>4.3333</td>\n",
       "      <td>2.3570</td>\n",
       "      <td>24.0</td>\n",
       "      <td>2.7619</td>\n",
       "      <td>1.7156</td>\n",
       "      <td>21.0</td>\n",
       "      <td>4.3333</td>\n",
       "      <td>1.3333</td>\n",
       "      <td>...</td>\n",
       "      <td>34.0</td>\n",
       "      <td>6.7600</td>\n",
       "      <td>0.4271</td>\n",
       "      <td>25.0</td>\n",
       "      <td>4.6522</td>\n",
       "      <td>1.5494</td>\n",
       "      <td>23.0</td>\n",
       "      <td>5.4545</td>\n",
       "      <td>1.1571</td>\n",
       "      <td>22.0</td>\n",
       "    </tr>\n",
       "    <tr>\n",
       "      <th>1</th>\n",
       "      <td>abbey</td>\n",
       "      <td>5.0</td>\n",
       "      <td>3.2857</td>\n",
       "      <td>2.3733</td>\n",
       "      <td>28.0</td>\n",
       "      <td>5.7097</td>\n",
       "      <td>1.2233</td>\n",
       "      <td>31.0</td>\n",
       "      <td>4.6333</td>\n",
       "      <td>1.6224</td>\n",
       "      <td>...</td>\n",
       "      <td>33.0</td>\n",
       "      <td>5.1765</td>\n",
       "      <td>1.3388</td>\n",
       "      <td>34.0</td>\n",
       "      <td>5.1212</td>\n",
       "      <td>1.6285</td>\n",
       "      <td>33.0</td>\n",
       "      <td>3.2813</td>\n",
       "      <td>1.2051</td>\n",
       "      <td>32.0</td>\n",
       "    </tr>\n",
       "    <tr>\n",
       "      <th>2</th>\n",
       "      <td>abbreviate</td>\n",
       "      <td>10.0</td>\n",
       "      <td>3.2258</td>\n",
       "      <td>1.6006</td>\n",
       "      <td>31.0</td>\n",
       "      <td>5.2727</td>\n",
       "      <td>1.0231</td>\n",
       "      <td>33.0</td>\n",
       "      <td>5.2353</td>\n",
       "      <td>1.2381</td>\n",
       "      <td>...</td>\n",
       "      <td>30.0</td>\n",
       "      <td>5.5429</td>\n",
       "      <td>1.1299</td>\n",
       "      <td>35.0</td>\n",
       "      <td>2.6667</td>\n",
       "      <td>1.6997</td>\n",
       "      <td>33.0</td>\n",
       "      <td>3.9333</td>\n",
       "      <td>0.9978</td>\n",
       "      <td>30.0</td>\n",
       "    </tr>\n",
       "    <tr>\n",
       "      <th>3</th>\n",
       "      <td>abdicate</td>\n",
       "      <td>8.0</td>\n",
       "      <td>4.3000</td>\n",
       "      <td>1.8824</td>\n",
       "      <td>30.0</td>\n",
       "      <td>3.7667</td>\n",
       "      <td>1.3828</td>\n",
       "      <td>30.0</td>\n",
       "      <td>4.2500</td>\n",
       "      <td>2.1815</td>\n",
       "      <td>...</td>\n",
       "      <td>33.0</td>\n",
       "      <td>6.2759</td>\n",
       "      <td>0.8261</td>\n",
       "      <td>29.0</td>\n",
       "      <td>4.6786</td>\n",
       "      <td>1.4406</td>\n",
       "      <td>28.0</td>\n",
       "      <td>5.1667</td>\n",
       "      <td>1.1856</td>\n",
       "      <td>30.0</td>\n",
       "    </tr>\n",
       "    <tr>\n",
       "      <th>4</th>\n",
       "      <td>abdication</td>\n",
       "      <td>10.0</td>\n",
       "      <td>3.8462</td>\n",
       "      <td>2.2819</td>\n",
       "      <td>26.0</td>\n",
       "      <td>3.8800</td>\n",
       "      <td>1.6080</td>\n",
       "      <td>25.0</td>\n",
       "      <td>4.8000</td>\n",
       "      <td>1.9596</td>\n",
       "      <td>...</td>\n",
       "      <td>31.0</td>\n",
       "      <td>6.4074</td>\n",
       "      <td>0.9132</td>\n",
       "      <td>27.0</td>\n",
       "      <td>5.1304</td>\n",
       "      <td>1.3611</td>\n",
       "      <td>23.0</td>\n",
       "      <td>4.6154</td>\n",
       "      <td>1.0406</td>\n",
       "      <td>26.0</td>\n",
       "    </tr>\n",
       "  </tbody>\n",
       "</table>\n",
       "<p>5 rows × 29 columns</p>\n",
       "</div>"
      ],
      "text/plain": [
       "         word  length  M AROU  SD AROU  N AROU   M VAL  SD VAL  N VAL   M DOM  \\\n",
       "0    abattoir     8.0  4.3333   2.3570    24.0  2.7619  1.7156   21.0  4.3333   \n",
       "1       abbey     5.0  3.2857   2.3733    28.0  5.7097  1.2233   31.0  4.6333   \n",
       "2  abbreviate    10.0  3.2258   1.6006    31.0  5.2727  1.0231   33.0  5.2353   \n",
       "3    abdicate     8.0  4.3000   1.8824    30.0  3.7667  1.3828   30.0  4.2500   \n",
       "4  abdication    10.0  3.8462   2.2819    26.0  3.8800  1.6080   25.0  4.8000   \n",
       "\n",
       "   SD DOM  ...  N FAM   M AOA  SD AOA  N AOA  M SIZE  SD SIZE  N SIZE  M GEND  \\\n",
       "0  1.3333  ...   34.0  6.7600  0.4271   25.0  4.6522   1.5494    23.0  5.4545   \n",
       "1  1.6224  ...   33.0  5.1765  1.3388   34.0  5.1212   1.6285    33.0  3.2813   \n",
       "2  1.2381  ...   30.0  5.5429  1.1299   35.0  2.6667   1.6997    33.0  3.9333   \n",
       "3  2.1815  ...   33.0  6.2759  0.8261   29.0  4.6786   1.4406    28.0  5.1667   \n",
       "4  1.9596  ...   31.0  6.4074  0.9132   27.0  5.1304   1.3611    23.0  4.6154   \n",
       "\n",
       "   SD GEND  N GEND  \n",
       "0   1.1571    22.0  \n",
       "1   1.2051    32.0  \n",
       "2   0.9978    30.0  \n",
       "3   1.1856    30.0  \n",
       "4   1.0406    26.0  \n",
       "\n",
       "[5 rows x 29 columns]"
      ]
     },
     "execution_count": 28,
     "metadata": {},
     "output_type": "execute_result"
    }
   ],
   "source": [
    "# importing a pandas dataframe from a csv-file\n",
    "glasgow = pd.read_csv('https://raw.githubusercontent.com/ethanweed/datasets-for-teaching/main/JASP_data_library/4.%20Regression/Glasgow%20Norms.csv')\n",
    "glasgow.head()"
   ]
  },
  {
   "cell_type": "code",
   "execution_count": 7,
   "metadata": {},
   "outputs": [],
   "source": [
    "#writing a dataframe to a csv file\n",
    "# let's write the \"tea_df\" pd df to a csv-file\n",
    "# this will store the csv.file in the same folder as the notebook is in.\n",
    "tea_df.to_csv(\"tea.csv\", encoding='utf-8')\n",
    "# if you want to change the path of the output file it's a good ide to use the built in OS module\n",
    "# since the way of referring to path will be the same no matter what user system (macOS, Linux, Windows) you use\n",
    "import os\n",
    "# In case no folder called 'out' is made uncomment the next line\n",
    "#os.mkdir(\"out\")\n",
    "# aaand now we can save it in that folder\n",
    "tea_df.to_csv(os.path.join(\"out\", \"tea.csv\"), encoding='utf-8')"
   ]
  },
  {
   "cell_type": "code",
   "execution_count": 8,
   "metadata": {},
   "outputs": [
    {
     "data": {
      "text/html": [
       "<div>\n",
       "<style scoped>\n",
       "    .dataframe tbody tr th:only-of-type {\n",
       "        vertical-align: middle;\n",
       "    }\n",
       "\n",
       "    .dataframe tbody tr th {\n",
       "        vertical-align: top;\n",
       "    }\n",
       "\n",
       "    .dataframe thead th {\n",
       "        text-align: right;\n",
       "    }\n",
       "</style>\n",
       "<table border=\"1\" class=\"dataframe\">\n",
       "  <thead>\n",
       "    <tr style=\"text-align: right;\">\n",
       "      <th></th>\n",
       "      <th>names</th>\n",
       "      <th>origin year</th>\n",
       "      <th>origin country</th>\n",
       "      <th>tea types</th>\n",
       "    </tr>\n",
       "  </thead>\n",
       "  <tbody>\n",
       "    <tr>\n",
       "      <th>3</th>\n",
       "      <td>camomile</td>\n",
       "      <td>-1550</td>\n",
       "      <td>egypt</td>\n",
       "      <td>herbal</td>\n",
       "    </tr>\n",
       "    <tr>\n",
       "      <th>2</th>\n",
       "      <td>jasmine</td>\n",
       "      <td>-500</td>\n",
       "      <td>china</td>\n",
       "      <td>any</td>\n",
       "    </tr>\n",
       "    <tr>\n",
       "      <th>0</th>\n",
       "      <td>matcha</td>\n",
       "      <td>960</td>\n",
       "      <td>china</td>\n",
       "      <td>green</td>\n",
       "    </tr>\n",
       "    <tr>\n",
       "      <th>1</th>\n",
       "      <td>earl grey</td>\n",
       "      <td>1830</td>\n",
       "      <td>great britian</td>\n",
       "      <td>black</td>\n",
       "    </tr>\n",
       "    <tr>\n",
       "      <th>4</th>\n",
       "      <td>darjeeling white</td>\n",
       "      <td>1841</td>\n",
       "      <td>india</td>\n",
       "      <td>white</td>\n",
       "    </tr>\n",
       "  </tbody>\n",
       "</table>\n",
       "</div>"
      ],
      "text/plain": [
       "              names  origin year origin country tea types\n",
       "3          camomile        -1550          egypt    herbal\n",
       "2           jasmine         -500          china       any\n",
       "0            matcha          960          china     green\n",
       "1         earl grey         1830  great britian     black\n",
       "4  darjeeling white         1841          india     white"
      ]
     },
     "execution_count": 8,
     "metadata": {},
     "output_type": "execute_result"
    }
   ],
   "source": [
    "#Sorting a dataframe\n",
    "#Let's sort the dataframe by which year it originated\n",
    "tea_df_sorted = tea_df.sort_values(by=['origin year'])\n",
    "tea_df_sorted"
   ]
  },
  {
   "cell_type": "code",
   "execution_count": 33,
   "metadata": {},
   "outputs": [
    {
     "data": {
      "text/html": [
       "<div>\n",
       "<style scoped>\n",
       "    .dataframe tbody tr th:only-of-type {\n",
       "        vertical-align: middle;\n",
       "    }\n",
       "\n",
       "    .dataframe tbody tr th {\n",
       "        vertical-align: top;\n",
       "    }\n",
       "\n",
       "    .dataframe thead th {\n",
       "        text-align: right;\n",
       "    }\n",
       "</style>\n",
       "<table border=\"1\" class=\"dataframe\">\n",
       "  <thead>\n",
       "    <tr style=\"text-align: right;\">\n",
       "      <th></th>\n",
       "      <th>names</th>\n",
       "      <th>origin year</th>\n",
       "      <th>origin country</th>\n",
       "      <th>tea types</th>\n",
       "      <th>Ratings_1to10</th>\n",
       "    </tr>\n",
       "  </thead>\n",
       "  <tbody>\n",
       "    <tr>\n",
       "      <th>0</th>\n",
       "      <td>matcha</td>\n",
       "      <td>960</td>\n",
       "      <td>china</td>\n",
       "      <td>green</td>\n",
       "      <td>3.0</td>\n",
       "    </tr>\n",
       "    <tr>\n",
       "      <th>1</th>\n",
       "      <td>earl grey</td>\n",
       "      <td>1830</td>\n",
       "      <td>great britian</td>\n",
       "      <td>black</td>\n",
       "      <td>7.0</td>\n",
       "    </tr>\n",
       "    <tr>\n",
       "      <th>2</th>\n",
       "      <td>jasmine</td>\n",
       "      <td>-500</td>\n",
       "      <td>china</td>\n",
       "      <td>any</td>\n",
       "      <td>7.5</td>\n",
       "    </tr>\n",
       "    <tr>\n",
       "      <th>3</th>\n",
       "      <td>camomile</td>\n",
       "      <td>-1550</td>\n",
       "      <td>egypt</td>\n",
       "      <td>herbal</td>\n",
       "      <td>4.0</td>\n",
       "    </tr>\n",
       "    <tr>\n",
       "      <th>4</th>\n",
       "      <td>darjeeling white</td>\n",
       "      <td>1841</td>\n",
       "      <td>india</td>\n",
       "      <td>white</td>\n",
       "      <td>8.0</td>\n",
       "    </tr>\n",
       "  </tbody>\n",
       "</table>\n",
       "</div>"
      ],
      "text/plain": [
       "              names  origin year origin country tea types  Ratings_1to10\n",
       "0            matcha          960          china     green            3.0\n",
       "1         earl grey         1830  great britian     black            7.0\n",
       "2           jasmine         -500          china       any            7.5\n",
       "3          camomile        -1550          egypt    herbal            4.0\n",
       "4  darjeeling white         1841          india     white            8.0"
      ]
     },
     "execution_count": 33,
     "metadata": {},
     "output_type": "execute_result"
    }
   ],
   "source": [
    "# adding new columns to a dataframe\n",
    "ratings = [3.0, 7.0, 7.5, 4.0, 8.0]\n",
    "tea_df[\"Ratings_1to10\"] = ratings\n",
    "tea_df\n"
   ]
  },
  {
   "cell_type": "code",
   "execution_count": 13,
   "metadata": {},
   "outputs": [
    {
     "data": {
      "text/html": [
       "<div>\n",
       "<style scoped>\n",
       "    .dataframe tbody tr th:only-of-type {\n",
       "        vertical-align: middle;\n",
       "    }\n",
       "\n",
       "    .dataframe tbody tr th {\n",
       "        vertical-align: top;\n",
       "    }\n",
       "\n",
       "    .dataframe thead th {\n",
       "        text-align: right;\n",
       "    }\n",
       "</style>\n",
       "<table border=\"1\" class=\"dataframe\">\n",
       "  <thead>\n",
       "    <tr style=\"text-align: right;\">\n",
       "      <th></th>\n",
       "      <th>names</th>\n",
       "      <th>variable</th>\n",
       "      <th>value</th>\n",
       "    </tr>\n",
       "  </thead>\n",
       "  <tbody>\n",
       "    <tr>\n",
       "      <th>0</th>\n",
       "      <td>matcha</td>\n",
       "      <td>origin year</td>\n",
       "      <td>960</td>\n",
       "    </tr>\n",
       "    <tr>\n",
       "      <th>1</th>\n",
       "      <td>earl grey</td>\n",
       "      <td>origin year</td>\n",
       "      <td>1830</td>\n",
       "    </tr>\n",
       "    <tr>\n",
       "      <th>2</th>\n",
       "      <td>jasmine</td>\n",
       "      <td>origin year</td>\n",
       "      <td>-500</td>\n",
       "    </tr>\n",
       "    <tr>\n",
       "      <th>3</th>\n",
       "      <td>camomile</td>\n",
       "      <td>origin year</td>\n",
       "      <td>-1550</td>\n",
       "    </tr>\n",
       "    <tr>\n",
       "      <th>4</th>\n",
       "      <td>darjeeling white</td>\n",
       "      <td>origin year</td>\n",
       "      <td>1841</td>\n",
       "    </tr>\n",
       "    <tr>\n",
       "      <th>5</th>\n",
       "      <td>matcha</td>\n",
       "      <td>origin country</td>\n",
       "      <td>china</td>\n",
       "    </tr>\n",
       "    <tr>\n",
       "      <th>6</th>\n",
       "      <td>earl grey</td>\n",
       "      <td>origin country</td>\n",
       "      <td>great britian</td>\n",
       "    </tr>\n",
       "    <tr>\n",
       "      <th>7</th>\n",
       "      <td>jasmine</td>\n",
       "      <td>origin country</td>\n",
       "      <td>china</td>\n",
       "    </tr>\n",
       "    <tr>\n",
       "      <th>8</th>\n",
       "      <td>camomile</td>\n",
       "      <td>origin country</td>\n",
       "      <td>egypt</td>\n",
       "    </tr>\n",
       "    <tr>\n",
       "      <th>9</th>\n",
       "      <td>darjeeling white</td>\n",
       "      <td>origin country</td>\n",
       "      <td>india</td>\n",
       "    </tr>\n",
       "    <tr>\n",
       "      <th>10</th>\n",
       "      <td>matcha</td>\n",
       "      <td>tea types</td>\n",
       "      <td>green</td>\n",
       "    </tr>\n",
       "    <tr>\n",
       "      <th>11</th>\n",
       "      <td>earl grey</td>\n",
       "      <td>tea types</td>\n",
       "      <td>black</td>\n",
       "    </tr>\n",
       "    <tr>\n",
       "      <th>12</th>\n",
       "      <td>jasmine</td>\n",
       "      <td>tea types</td>\n",
       "      <td>any</td>\n",
       "    </tr>\n",
       "    <tr>\n",
       "      <th>13</th>\n",
       "      <td>camomile</td>\n",
       "      <td>tea types</td>\n",
       "      <td>herbal</td>\n",
       "    </tr>\n",
       "    <tr>\n",
       "      <th>14</th>\n",
       "      <td>darjeeling white</td>\n",
       "      <td>tea types</td>\n",
       "      <td>white</td>\n",
       "    </tr>\n",
       "    <tr>\n",
       "      <th>15</th>\n",
       "      <td>matcha</td>\n",
       "      <td>Ratings_1to10</td>\n",
       "      <td>3.0</td>\n",
       "    </tr>\n",
       "    <tr>\n",
       "      <th>16</th>\n",
       "      <td>earl grey</td>\n",
       "      <td>Ratings_1to10</td>\n",
       "      <td>7.0</td>\n",
       "    </tr>\n",
       "    <tr>\n",
       "      <th>17</th>\n",
       "      <td>jasmine</td>\n",
       "      <td>Ratings_1to10</td>\n",
       "      <td>7.5</td>\n",
       "    </tr>\n",
       "    <tr>\n",
       "      <th>18</th>\n",
       "      <td>camomile</td>\n",
       "      <td>Ratings_1to10</td>\n",
       "      <td>4.0</td>\n",
       "    </tr>\n",
       "    <tr>\n",
       "      <th>19</th>\n",
       "      <td>darjeeling white</td>\n",
       "      <td>Ratings_1to10</td>\n",
       "      <td>8.0</td>\n",
       "    </tr>\n",
       "  </tbody>\n",
       "</table>\n",
       "</div>"
      ],
      "text/plain": [
       "               names        variable          value\n",
       "0             matcha     origin year            960\n",
       "1          earl grey     origin year           1830\n",
       "2            jasmine     origin year           -500\n",
       "3           camomile     origin year          -1550\n",
       "4   darjeeling white     origin year           1841\n",
       "5             matcha  origin country          china\n",
       "6          earl grey  origin country  great britian\n",
       "7            jasmine  origin country          china\n",
       "8           camomile  origin country          egypt\n",
       "9   darjeeling white  origin country          india\n",
       "10            matcha       tea types          green\n",
       "11         earl grey       tea types          black\n",
       "12           jasmine       tea types            any\n",
       "13          camomile       tea types         herbal\n",
       "14  darjeeling white       tea types          white\n",
       "15            matcha   Ratings_1to10            3.0\n",
       "16         earl grey   Ratings_1to10            7.0\n",
       "17           jasmine   Ratings_1to10            7.5\n",
       "18          camomile   Ratings_1to10            4.0\n",
       "19  darjeeling white   Ratings_1to10            8.0"
      ]
     },
     "execution_count": 13,
     "metadata": {},
     "output_type": "execute_result"
    }
   ],
   "source": [
    "# converting between wide format and long format data\n",
    "# the dataframe is at the moment in a wide format \n",
    "tea_oolong = pd.melt(tea_df, id_vars = 'names')\n",
    "tea_oolong"
   ]
  },
  {
   "cell_type": "code",
   "execution_count": 40,
   "metadata": {},
   "outputs": [
    {
     "data": {
      "text/html": [
       "<div>\n",
       "<style scoped>\n",
       "    .dataframe tbody tr th:only-of-type {\n",
       "        vertical-align: middle;\n",
       "    }\n",
       "\n",
       "    .dataframe tbody tr th {\n",
       "        vertical-align: top;\n",
       "    }\n",
       "\n",
       "    .dataframe thead th {\n",
       "        text-align: right;\n",
       "    }\n",
       "</style>\n",
       "<table border=\"1\" class=\"dataframe\">\n",
       "  <thead>\n",
       "    <tr style=\"text-align: right;\">\n",
       "      <th></th>\n",
       "      <th>names</th>\n",
       "      <th>origin year</th>\n",
       "      <th>origin country</th>\n",
       "      <th>tea types</th>\n",
       "      <th>Ratings_1to10</th>\n",
       "    </tr>\n",
       "  </thead>\n",
       "  <tbody>\n",
       "    <tr>\n",
       "      <th>1</th>\n",
       "      <td>earl grey</td>\n",
       "      <td>1830</td>\n",
       "      <td>great britian</td>\n",
       "      <td>black</td>\n",
       "      <td>7.0</td>\n",
       "    </tr>\n",
       "    <tr>\n",
       "      <th>2</th>\n",
       "      <td>jasmine</td>\n",
       "      <td>-500</td>\n",
       "      <td>china</td>\n",
       "      <td>any</td>\n",
       "      <td>7.5</td>\n",
       "    </tr>\n",
       "  </tbody>\n",
       "</table>\n",
       "</div>"
      ],
      "text/plain": [
       "       names  origin year origin country tea types  Ratings_1to10\n",
       "1  earl grey         1830  great britian     black            7.0\n",
       "2    jasmine         -500          china       any            7.5"
      ]
     },
     "execution_count": 40,
     "metadata": {},
     "output_type": "execute_result"
    }
   ],
   "source": [
    "# selecting a sub-section of a dataframe\n",
    "# With iloc I can choose a sub sectio nof the dataframe based on the rows. With iloc  I choose row 1:3\n",
    "# which means from the first column (ear grey) to but not including the 3rd column (camomile)\n",
    "# leaving the columns 'earl grey' and 'jasmine'\n",
    "tea_row_short = tea_df.iloc[1:3]\n",
    "tea_row_short"
   ]
  },
  {
   "cell_type": "code",
   "execution_count": 47,
   "metadata": {},
   "outputs": [
    {
     "data": {
      "text/html": [
       "<div>\n",
       "<style scoped>\n",
       "    .dataframe tbody tr th:only-of-type {\n",
       "        vertical-align: middle;\n",
       "    }\n",
       "\n",
       "    .dataframe tbody tr th {\n",
       "        vertical-align: top;\n",
       "    }\n",
       "\n",
       "    .dataframe thead th {\n",
       "        text-align: right;\n",
       "    }\n",
       "</style>\n",
       "<table border=\"1\" class=\"dataframe\">\n",
       "  <thead>\n",
       "    <tr style=\"text-align: right;\">\n",
       "      <th></th>\n",
       "      <th>names</th>\n",
       "    </tr>\n",
       "  </thead>\n",
       "  <tbody>\n",
       "    <tr>\n",
       "      <th>0</th>\n",
       "      <td>matcha</td>\n",
       "    </tr>\n",
       "    <tr>\n",
       "      <th>1</th>\n",
       "      <td>earl grey</td>\n",
       "    </tr>\n",
       "    <tr>\n",
       "      <th>2</th>\n",
       "      <td>jasmine</td>\n",
       "    </tr>\n",
       "    <tr>\n",
       "      <th>3</th>\n",
       "      <td>camomile</td>\n",
       "    </tr>\n",
       "    <tr>\n",
       "      <th>4</th>\n",
       "      <td>darjeeling white</td>\n",
       "    </tr>\n",
       "  </tbody>\n",
       "</table>\n",
       "</div>"
      ],
      "text/plain": [
       "              names\n",
       "0            matcha\n",
       "1         earl grey\n",
       "2           jasmine\n",
       "3          camomile\n",
       "4  darjeeling white"
      ]
     },
     "execution_count": 47,
     "metadata": {},
     "output_type": "execute_result"
    }
   ],
   "source": [
    "# choosing only certain columns \n",
    "tea_column_short = tea_df[[\"names\", \"tea types\"]]\n",
    "tea_column_short\n",
    "tea_column_shorter = tea_df[[\"names\"]]\n",
    "tea_column_shorter"
   ]
  },
  {
   "cell_type": "code",
   "execution_count": null,
   "metadata": {},
   "outputs": [],
   "source": []
  }
 ],
 "metadata": {
  "kernelspec": {
   "display_name": "Python 3",
   "language": "python",
   "name": "python3"
  },
  "language_info": {
   "codemirror_mode": {
    "name": "ipython",
    "version": 3
   },
   "file_extension": ".py",
   "mimetype": "text/x-python",
   "name": "python",
   "nbconvert_exporter": "python",
   "pygments_lexer": "ipython3",
   "version": "3.11.5"
  },
  "orig_nbformat": 4
 },
 "nbformat": 4,
 "nbformat_minor": 2
}
