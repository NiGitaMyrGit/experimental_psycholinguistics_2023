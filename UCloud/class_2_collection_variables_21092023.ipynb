{
 "cells": [
  {
   "cell_type": "markdown",
   "metadata": {},
   "source": [
    "# \"Collection\" variables\n",
    "\n",
    "1. tuples\n",
    "1. lists\n",
    "1. sets\n",
    "1. dictionaries\n",
    "\n",
    "**List** is a ordered and mutable (changeable) collection. Allows duplicate members. uses [ ]\\\n",
    "**Tuple** is a ordered, and immutable (unchangeable) collection which is ordered. Allows duplicate members. uses ()\\\n",
    "**Set** is a collection which is unordered, immutable and unidexed. No duplicate member. Use set(list/tuple) -> {}\\\n",
    "**Dictionary** is a ordered and mutable collection. No duplicate members. Uses {}, key + value"
   ]
  },
  {
   "cell_type": "markdown",
   "metadata": {},
   "source": [
    "### Transforming variables"
   ]
  },
  {
   "cell_type": "code",
   "execution_count": 10,
   "metadata": {},
   "outputs": [],
   "source": [
    "a = '5'\n",
    "# transform string to integer\n",
    "a = int(a)"
   ]
  },
  {
   "cell_type": "code",
   "execution_count": 11,
   "metadata": {},
   "outputs": [],
   "source": [
    "# change from integer to string\n",
    "b = 5\n",
    "b = str(b)"
   ]
  },
  {
   "cell_type": "markdown",
   "metadata": {},
   "source": [
    "### Sets"
   ]
  },
  {
   "cell_type": "code",
   "execution_count": 12,
   "metadata": {},
   "outputs": [
    {
     "data": {
      "text/plain": [
       "set"
      ]
     },
     "execution_count": 12,
     "metadata": {},
     "output_type": "execute_result"
    }
   ],
   "source": [
    "# Sets are used to find the unique values\n",
    "animals = [\"cat\", \"dog\", \"monkey\", \"cat\", \"dog\", \"giraffe\"]\n",
    "animals = set(animals)\n",
    "type(animals)"
   ]
  },
  {
   "cell_type": "code",
   "execution_count": 13,
   "metadata": {},
   "outputs": [
    {
     "data": {
      "text/plain": [
       "{'cat', 'dog', 'giraffe', 'monkey'}"
      ]
     },
     "execution_count": 13,
     "metadata": {},
     "output_type": "execute_result"
    }
   ],
   "source": [
    "animals"
   ]
  },
  {
   "cell_type": "code",
   "execution_count": 14,
   "metadata": {},
   "outputs": [
    {
     "data": {
      "text/plain": [
       "{' ', '!', 'I', 'a', 'c', 'e', 'm', 'n', 's', 't'}"
      ]
     },
     "execution_count": 14,
     "metadata": {},
     "output_type": "execute_result"
    }
   ],
   "source": [
    "# used on a string it proveídes all the unique characters (letters, whitespaces, punctuation etc.)\n",
    "sent = \"I am a sentence!\"\n",
    "set(sent)"
   ]
  },
  {
   "cell_type": "code",
   "execution_count": 15,
   "metadata": {},
   "outputs": [
    {
     "data": {
      "text/plain": [
       "['I',\n",
       " ' ',\n",
       " 'a',\n",
       " 'm',\n",
       " ' ',\n",
       " 'a',\n",
       " ' ',\n",
       " 's',\n",
       " 'e',\n",
       " 'n',\n",
       " 't',\n",
       " 'e',\n",
       " 'n',\n",
       " 'c',\n",
       " 'e',\n",
       " '!']"
      ]
     },
     "execution_count": 15,
     "metadata": {},
     "output_type": "execute_result"
    }
   ],
   "source": [
    "# creating a list from string, puts each character (unique or not) into different valuables\n",
    "list(sent)"
   ]
  },
  {
   "cell_type": "markdown",
   "metadata": {},
   "source": [
    "### Dictionaries"
   ]
  },
  {
   "cell_type": "code",
   "execution_count": 16,
   "metadata": {},
   "outputs": [],
   "source": [
    "# Dictionaries \n",
    "myteacher = {\n",
    "    \"name\": \"Ethan\",\n",
    "    \"subject\": \"Experimental Psycholinguistics\",\n",
    "    \"year_of_birth\": 1973,\n",
    "    \"hair_colour\": \"grey\",\n",
    "    \"favourite_fruits\": [\"apples\",\"grapes\", \"oranges\"]\n",
    "}"
   ]
  },
  {
   "cell_type": "code",
   "execution_count": 32,
   "metadata": {},
   "outputs": [
    {
     "data": {
      "text/plain": [
       "'Ethan'"
      ]
     },
     "execution_count": 32,
     "metadata": {},
     "output_type": "execute_result"
    }
   ],
   "source": [
    "# indexing for dictionaries do not use numbers, use the key and it returns the value\n",
    "myteacher[\"name\"]\n",
    "myteacher.get(\"name\")"
   ]
  },
  {
   "cell_type": "code",
   "execution_count": 20,
   "metadata": {},
   "outputs": [
    {
     "ename": "TypeError",
     "evalue": "unhashable type: 'slice'",
     "output_type": "error",
     "traceback": [
      "\u001b[0;31m---------------------------------------------------------------------------\u001b[0m",
      "\u001b[0;31mTypeError\u001b[0m                                 Traceback (most recent call last)",
      "Cell \u001b[0;32mIn[20], line 1\u001b[0m\n\u001b[0;32m----> 1\u001b[0m myteacher[\u001b[39m0\u001b[39;49m:\u001b[39m2\u001b[39;49m]\n",
      "\u001b[0;31mTypeError\u001b[0m: unhashable type: 'slice'"
     ]
    }
   ],
   "source": [
    "# Will give you an error! \n",
    "myteacher[0:2]"
   ]
  },
  {
   "cell_type": "code",
   "execution_count": null,
   "metadata": {},
   "outputs": [],
   "source": [
    "keys = [\"name\", \"subject\", \"hair_colour\"]"
   ]
  },
  {
   "cell_type": "markdown",
   "metadata": {},
   "source": [
    "### Zipping\n",
    "useful for combining variables"
   ]
  },
  {
   "cell_type": "code",
   "execution_count": 23,
   "metadata": {},
   "outputs": [],
   "source": [
    "numbers = [4, 8, 32]\n",
    "\n",
    "shopping = zip(myteacher[\"favourite_fruits\"], numbers)"
   ]
  },
  {
   "cell_type": "code",
   "execution_count": 24,
   "metadata": {},
   "outputs": [
    {
     "data": {
      "text/plain": [
       "[('apples', 4), ('grapes', 8), ('oranges', 32)]"
      ]
     },
     "execution_count": 24,
     "metadata": {},
     "output_type": "execute_result"
    }
   ],
   "source": [
    "list(shopping)"
   ]
  },
  {
   "cell_type": "code",
   "execution_count": 26,
   "metadata": {},
   "outputs": [],
   "source": [
    "shakespeare = [\"Hamlet\", \"King Lear\", \"Much Ado About Nothing\", \"Macbeth\"]"
   ]
  },
  {
   "cell_type": "markdown",
   "metadata": {},
   "source": [
    "#### Enumerate\n",
    "assigning numbers to values in a variable\n",
    "could be used for providing line numbers for a transcript??\n",
    "Can you enumerate a dictionary"
   ]
  },
  {
   "cell_type": "code",
   "execution_count": 28,
   "metadata": {},
   "outputs": [
    {
     "data": {
      "text/plain": [
       "[(0, 'Hamlet'),\n",
       " (1, 'King Lear'),\n",
       " (2, 'Much Ado About Nothing'),\n",
       " (3, 'Macbeth')]"
      ]
     },
     "execution_count": 28,
     "metadata": {},
     "output_type": "execute_result"
    }
   ],
   "source": [
    "list(enumerate(shakespeare))"
   ]
  },
  {
   "cell_type": "code",
   "execution_count": 30,
   "metadata": {},
   "outputs": [
    {
     "data": {
      "text/plain": [
       "[(0, 'name'),\n",
       " (1, 'subject'),\n",
       " (2, 'year_of_birth'),\n",
       " (3, 'hair_colour'),\n",
       " (4, 'favourite_fruits')]"
      ]
     },
     "execution_count": 30,
     "metadata": {},
     "output_type": "execute_result"
    }
   ],
   "source": [
    "list(enumerate(myteacher))"
   ]
  },
  {
   "cell_type": "markdown",
   "metadata": {},
   "source": [
    "## Loops"
   ]
  },
  {
   "cell_type": "markdown",
   "metadata": {},
   "source": [
    "###"
   ]
  },
  {
   "cell_type": "markdown",
   "metadata": {},
   "source": [
    "### `while` loops "
   ]
  },
  {
   "cell_type": "code",
   "execution_count": 34,
   "metadata": {},
   "outputs": [
    {
     "name": "stdout",
     "output_type": "stream",
     "text": [
      "1\n",
      "2\n",
      "3\n",
      "4\n",
      "5\n",
      "6\n",
      "7\n",
      "8\n",
      "9\n",
      "10\n"
     ]
    }
   ],
   "source": [
    "counter = 0\n",
    "# as long as counter is less than 10\n",
    "while counter < 10:\n",
    "    #  add one to the value\n",
    "    counter = counter + 1\n",
    "    print(counter)"
   ]
  },
  {
   "cell_type": "markdown",
   "metadata": {},
   "source": [
    "### `for` loops"
   ]
  },
  {
   "cell_type": "code",
   "execution_count": 36,
   "metadata": {},
   "outputs": [
    {
     "name": "stdout",
     "output_type": "stream",
     "text": [
      "Hamlet\n",
      "King Lear\n",
      "Much Ado About Nothing\n",
      "Macbeth\n"
     ]
    }
   ],
   "source": [
    "shakespeare = [\"Hamlet\", \"King Lear\", \"Much Ado About Nothing\", \"Macbeth\"]\n",
    "\n",
    "for play in shakespeare:\n",
    "    print(play)"
   ]
  },
  {
   "cell_type": "code",
   "execution_count": 37,
   "metadata": {},
   "outputs": [
    {
     "name": "stdout",
     "output_type": "stream",
     "text": [
      "0 Hamlet\n",
      "1 King Lear\n",
      "2 Much Ado About Nothing\n",
      "3 Macbeth\n"
     ]
    }
   ],
   "source": [
    "for index, value in enumerate(shakespeare):\n",
    "    print(index, value)"
   ]
  },
  {
   "cell_type": "code",
   "execution_count": 38,
   "metadata": {},
   "outputs": [],
   "source": [
    "linguists = [\"Saussure\", \"McGregor\", \"Sapir\", \"Whorf\", \"Chomsky\", \"Tomasello\", \"Bickerton\"]\n",
    "born = [1857, 1952, 1884, 1897, 1928, 1950, 1926]"
   ]
  },
  {
   "cell_type": "code",
   "execution_count": 40,
   "metadata": {},
   "outputs": [
    {
     "name": "stdout",
     "output_type": "stream",
     "text": [
      "Saussure 1857\n",
      "Sapir 1884\n",
      "Whorf 1897\n"
     ]
    }
   ],
   "source": [
    "# num corresponds to the index position in born, val corresponds to the year attached to each linguists\n",
    "# enumarate born in order ascribe num to born, can then use this number to find data from linguistis\n",
    "for num, val in enumerate(born):\n",
    "    if val < 1900:\n",
    "        print(linguists[num], val)"
   ]
  },
  {
   "cell_type": "code",
   "execution_count": 42,
   "metadata": {},
   "outputs": [
    {
     "name": "stdout",
     "output_type": "stream",
     "text": [
      "Linguists born before 1900's ['Saussure', 'Sapir', 'Whorf']\n",
      "Linguists born after 1900's ['McGregor', 'Chomsky', 'Tomasello', 'Bickerton']\n"
     ]
    }
   ],
   "source": [
    "# we need to enumarate born since integers cannot be accesed by index (right???)\n",
    "before_1900 = []\n",
    "after_1900 = []\n",
    "for num, val in enumerate(born):\n",
    "    if val < 1900:\n",
    "        before_1900.append(linguists[num])\n",
    "    if val >= 1900:\n",
    "        after_1900.append(linguists[num])\n",
    "print(\"Linguists born before 1900's\", before_1900)\n",
    "print(\"Linguists born after 1900's\", after_1900)"
   ]
  },
  {
   "cell_type": "code",
   "execution_count": 45,
   "metadata": {},
   "outputs": [],
   "source": [
    "import pandas as pd"
   ]
  },
  {
   "cell_type": "code",
   "execution_count": null,
   "metadata": {},
   "outputs": [],
   "source": [
    "df_linguists = pd.Dataframe(\"19th centure linguists\": before_1900,)"
   ]
  }
 ],
 "metadata": {
  "kernelspec": {
   "display_name": "Python 3",
   "language": "python",
   "name": "python3"
  },
  "language_info": {
   "codemirror_mode": {
    "name": "ipython",
    "version": 3
   },
   "file_extension": ".py",
   "mimetype": "text/x-python",
   "name": "python",
   "nbconvert_exporter": "python",
   "pygments_lexer": "ipython3",
   "version": "3.10.12"
  },
  "orig_nbformat": 4
 },
 "nbformat": 4,
 "nbformat_minor": 2
}
