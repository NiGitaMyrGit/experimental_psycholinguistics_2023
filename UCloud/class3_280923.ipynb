{
 "cells": [
  {
   "cell_type": "code",
   "execution_count": 5,
   "metadata": {},
   "outputs": [
    {
     "data": {
      "text/plain": [
       "['__add__',\n",
       " '__class__',\n",
       " '__contains__',\n",
       " '__delattr__',\n",
       " '__dir__',\n",
       " '__doc__',\n",
       " '__eq__',\n",
       " '__format__',\n",
       " '__ge__',\n",
       " '__getattribute__',\n",
       " '__getitem__',\n",
       " '__getnewargs__',\n",
       " '__gt__',\n",
       " '__hash__',\n",
       " '__init__',\n",
       " '__init_subclass__',\n",
       " '__iter__',\n",
       " '__le__',\n",
       " '__len__',\n",
       " '__lt__',\n",
       " '__mod__',\n",
       " '__mul__',\n",
       " '__ne__',\n",
       " '__new__',\n",
       " '__reduce__',\n",
       " '__reduce_ex__',\n",
       " '__repr__',\n",
       " '__rmod__',\n",
       " '__rmul__',\n",
       " '__setattr__',\n",
       " '__sizeof__',\n",
       " '__str__',\n",
       " '__subclasshook__',\n",
       " 'capitalize',\n",
       " 'casefold',\n",
       " 'center',\n",
       " 'count',\n",
       " 'encode',\n",
       " 'endswith',\n",
       " 'expandtabs',\n",
       " 'find',\n",
       " 'format',\n",
       " 'format_map',\n",
       " 'index',\n",
       " 'isalnum',\n",
       " 'isalpha',\n",
       " 'isascii',\n",
       " 'isdecimal',\n",
       " 'isdigit',\n",
       " 'isidentifier',\n",
       " 'islower',\n",
       " 'isnumeric',\n",
       " 'isprintable',\n",
       " 'isspace',\n",
       " 'istitle',\n",
       " 'isupper',\n",
       " 'join',\n",
       " 'ljust',\n",
       " 'lower',\n",
       " 'lstrip',\n",
       " 'maketrans',\n",
       " 'partition',\n",
       " 'removeprefix',\n",
       " 'removesuffix',\n",
       " 'replace',\n",
       " 'rfind',\n",
       " 'rindex',\n",
       " 'rjust',\n",
       " 'rpartition',\n",
       " 'rsplit',\n",
       " 'rstrip',\n",
       " 'split',\n",
       " 'splitlines',\n",
       " 'startswith',\n",
       " 'strip',\n",
       " 'swapcase',\n",
       " 'title',\n",
       " 'translate',\n",
       " 'upper',\n",
       " 'zfill']"
      ]
     },
     "execution_count": 5,
     "metadata": {},
     "output_type": "execute_result"
    }
   ],
   "source": [
    "a = \" I am a string↗\"\n",
    "# ignore alle the underscore things, but the other are funtions you can apply to the string\n",
    "dir(a)"
   ]
  },
  {
   "cell_type": "code",
   "execution_count": 6,
   "metadata": {},
   "outputs": [
    {
     "data": {
      "text/plain": [
       "' I am a string?'"
      ]
     },
     "execution_count": 6,
     "metadata": {},
     "output_type": "execute_result"
    }
   ],
   "source": [
    "def dantin_convert():\n",
    "    for x in text()\n",
    "        x.replace(\"?\",\"↗\")\n",
    "        x.replace(\"£\",\"☺\")/"
   ]
  },
  {
   "cell_type": "markdown",
   "metadata": {},
   "source": [
    "## Pandas dataframe"
   ]
  },
  {
   "cell_type": "markdown",
   "metadata": {},
   "source": [
    "### install and load dependencies \n",
    "%pip is how you install modules in python\n",
    "I've created a requirements.txt and setup.sh files that will automatically install the modules"
   ]
  },
  {
   "cell_type": "code",
   "execution_count": 1,
   "metadata": {},
   "outputs": [
    {
     "name": "stdout",
     "output_type": "stream",
     "text": [
      "Requirement already satisfied: lxml in /Library/Frameworks/Python.framework/Versions/3.11/lib/python3.11/site-packages (4.9.3)\n",
      "Note: you may need to restart the kernel to use updated packages.\n",
      "Requirement already satisfied: pandas in /Library/Frameworks/Python.framework/Versions/3.11/lib/python3.11/site-packages (1.5.3)\n",
      "Requirement already satisfied: python-dateutil>=2.8.1 in /Users/Nikita/Library/Python/3.11/lib/python/site-packages (from pandas) (2.8.2)\n",
      "Requirement already satisfied: pytz>=2020.1 in /Library/Frameworks/Python.framework/Versions/3.11/lib/python3.11/site-packages (from pandas) (2022.7.1)\n",
      "Requirement already satisfied: numpy>=1.21.0 in /Library/Frameworks/Python.framework/Versions/3.11/lib/python3.11/site-packages (from pandas) (1.24.2)\n",
      "Requirement already satisfied: six>=1.5 in /Users/Nikita/Library/Python/3.11/lib/python/site-packages (from python-dateutil>=2.8.1->pandas) (1.16.0)\n",
      "Note: you may need to restart the kernel to use updated packages.\n"
     ]
    }
   ],
   "source": [
    "%pip install lxml\n",
    "%pip install pandas"
   ]
  },
  {
   "cell_type": "code",
   "execution_count": 1,
   "metadata": {},
   "outputs": [],
   "source": [
    "import pandas as pd"
   ]
  },
  {
   "cell_type": "markdown",
   "metadata": {},
   "source": [
    "### load interesting data"
   ]
  },
  {
   "cell_type": "code",
   "execution_count": 14,
   "metadata": {},
   "outputs": [
    {
     "data": {
      "text/html": [
       "<div>\n",
       "<style scoped>\n",
       "    .dataframe tbody tr th:only-of-type {\n",
       "        vertical-align: middle;\n",
       "    }\n",
       "\n",
       "    .dataframe tbody tr th {\n",
       "        vertical-align: top;\n",
       "    }\n",
       "\n",
       "    .dataframe thead th {\n",
       "        text-align: right;\n",
       "    }\n",
       "</style>\n",
       "<table border=\"1\" class=\"dataframe\">\n",
       "  <thead>\n",
       "    <tr style=\"text-align: right;\">\n",
       "      <th></th>\n",
       "      <th>Character</th>\n",
       "      <th>Actor/Muppet performer</th>\n",
       "      <th>Description</th>\n",
       "      <th>Unnamed: 3</th>\n",
       "    </tr>\n",
       "  </thead>\n",
       "  <tbody>\n",
       "    <tr>\n",
       "      <th>0</th>\n",
       "      <td>Abby Cadabby</td>\n",
       "      <td>Leslie Carrara-Rudolph[13]</td>\n",
       "      <td>A 4-year-old fairy-in-training with tiny wings...</td>\n",
       "      <td>NaN</td>\n",
       "    </tr>\n",
       "    <tr>\n",
       "      <th>1</th>\n",
       "      <td>Alice Snuffleupagus</td>\n",
       "      <td>Judy Sladky[15]</td>\n",
       "      <td>Baby sister of Aloysius Snuffleupagus (\"Snuffy...</td>\n",
       "      <td>NaN</td>\n",
       "    </tr>\n",
       "    <tr>\n",
       "      <th>2</th>\n",
       "      <td>Alistair Cookie</td>\n",
       "      <td>Frank Oz[17]</td>\n",
       "      <td>Played by Cookie Monster, he is a parody of Br...</td>\n",
       "      <td>NaN</td>\n",
       "    </tr>\n",
       "    <tr>\n",
       "      <th>3</th>\n",
       "      <td>The Amazing Mumford</td>\n",
       "      <td>Jerry Nelson,[20] John Kennedy[21]</td>\n",
       "      <td>A \"W.C. Fields-esque\" magician whose magic tri...</td>\n",
       "      <td>NaN</td>\n",
       "    </tr>\n",
       "    <tr>\n",
       "      <th>4</th>\n",
       "      <td>Anything Muppets</td>\n",
       "      <td>Various[22]</td>\n",
       "      <td>Writer Christopher Finch called Anything Muppe...</td>\n",
       "      <td>Writer Christopher Finch called Anything Muppe...</td>\n",
       "    </tr>\n",
       "    <tr>\n",
       "      <th>...</th>\n",
       "      <td>...</td>\n",
       "      <td>...</td>\n",
       "      <td>...</td>\n",
       "      <td>...</td>\n",
       "    </tr>\n",
       "    <tr>\n",
       "      <th>114</th>\n",
       "      <td>Telly Monster</td>\n",
       "      <td>Bob Payne (1979), Brian Muehl (1979–1984),[126...</td>\n",
       "      <td>According to Sesame Workshop, \"Telly Monster i...</td>\n",
       "      <td>NaN</td>\n",
       "    </tr>\n",
       "    <tr>\n",
       "      <th>115</th>\n",
       "      <td>The Twiddlebugs</td>\n",
       "      <td>Jim Henson, Frank Oz, Jerry Nelson, Richard Hu...</td>\n",
       "      <td>A family of fuzzy insects (Thomas, Tessie and ...</td>\n",
       "      <td>NaN</td>\n",
       "    </tr>\n",
       "    <tr>\n",
       "      <th>116</th>\n",
       "      <td>The Two-Headed Monster</td>\n",
       "      <td>Left Head: Jerry Nelson[40] Right Head: Richar...</td>\n",
       "      <td>A purple monster with two heads, who generally...</td>\n",
       "      <td>NaN</td>\n",
       "    </tr>\n",
       "    <tr>\n",
       "      <th>117</th>\n",
       "      <td>Wes</td>\n",
       "      <td>Leslie Carrara-Rudolph, Kevin Clash, Carmen Os...</td>\n",
       "      <td>NaN</td>\n",
       "      <td>NaN</td>\n",
       "    </tr>\n",
       "    <tr>\n",
       "      <th>118</th>\n",
       "      <td>Zoe</td>\n",
       "      <td>Fran Brill (1993–2015),[141] Jennifer Barnhart...</td>\n",
       "      <td>Introduced to increase the number of strong fe...</td>\n",
       "      <td>NaN</td>\n",
       "    </tr>\n",
       "  </tbody>\n",
       "</table>\n",
       "<p>119 rows × 4 columns</p>\n",
       "</div>"
      ],
      "text/plain": [
       "                  Character  \\\n",
       "0              Abby Cadabby   \n",
       "1       Alice Snuffleupagus   \n",
       "2           Alistair Cookie   \n",
       "3       The Amazing Mumford   \n",
       "4          Anything Muppets   \n",
       "..                      ...   \n",
       "114           Telly Monster   \n",
       "115         The Twiddlebugs   \n",
       "116  The Two-Headed Monster   \n",
       "117                     Wes   \n",
       "118                     Zoe   \n",
       "\n",
       "                                Actor/Muppet performer  \\\n",
       "0                           Leslie Carrara-Rudolph[13]   \n",
       "1                                      Judy Sladky[15]   \n",
       "2                                         Frank Oz[17]   \n",
       "3                   Jerry Nelson,[20] John Kennedy[21]   \n",
       "4                                          Various[22]   \n",
       "..                                                 ...   \n",
       "114  Bob Payne (1979), Brian Muehl (1979–1984),[126...   \n",
       "115  Jim Henson, Frank Oz, Jerry Nelson, Richard Hu...   \n",
       "116  Left Head: Jerry Nelson[40] Right Head: Richar...   \n",
       "117  Leslie Carrara-Rudolph, Kevin Clash, Carmen Os...   \n",
       "118  Fran Brill (1993–2015),[141] Jennifer Barnhart...   \n",
       "\n",
       "                                           Description  \\\n",
       "0    A 4-year-old fairy-in-training with tiny wings...   \n",
       "1    Baby sister of Aloysius Snuffleupagus (\"Snuffy...   \n",
       "2    Played by Cookie Monster, he is a parody of Br...   \n",
       "3    A \"W.C. Fields-esque\" magician whose magic tri...   \n",
       "4    Writer Christopher Finch called Anything Muppe...   \n",
       "..                                                 ...   \n",
       "114  According to Sesame Workshop, \"Telly Monster i...   \n",
       "115  A family of fuzzy insects (Thomas, Tessie and ...   \n",
       "116  A purple monster with two heads, who generally...   \n",
       "117                                                NaN   \n",
       "118  Introduced to increase the number of strong fe...   \n",
       "\n",
       "                                            Unnamed: 3  \n",
       "0                                                  NaN  \n",
       "1                                                  NaN  \n",
       "2                                                  NaN  \n",
       "3                                                  NaN  \n",
       "4    Writer Christopher Finch called Anything Muppe...  \n",
       "..                                                 ...  \n",
       "114                                                NaN  \n",
       "115                                                NaN  \n",
       "116                                                NaN  \n",
       "117                                                NaN  \n",
       "118                                                NaN  \n",
       "\n",
       "[119 rows x 4 columns]"
      ]
     },
     "execution_count": 14,
     "metadata": {},
     "output_type": "execute_result"
    }
   ],
   "source": [
    "# make pandas read html\n",
    "rawdata = pd.read_html(\"https://en.wikipedia.org/wiki/List_of_Sesame_Street_Muppets\")\n",
    "# has given us a list of dataframes\n",
    "type(rawdata[1])\n",
    "df  = rawdata[1]\n",
    "df"
   ]
  },
  {
   "cell_type": "code",
   "execution_count": 13,
   "metadata": {},
   "outputs": [
    {
     "data": {
      "text/plain": [
       "['Character', 'Actor/Muppet performer', 'Description', 'Unnamed: 3']"
      ]
     },
     "execution_count": 13,
     "metadata": {},
     "output_type": "execute_result"
    }
   ],
   "source": [
    "list(df)"
   ]
  },
  {
   "cell_type": "markdown",
   "metadata": {},
   "source": [
    "### Extracting data fra m data frames"
   ]
  },
  {
   "cell_type": "markdown",
   "metadata": {},
   "source": [
    "##### Work with dataframe columns as lists"
   ]
  },
  {
   "cell_type": "code",
   "execution_count": 19,
   "metadata": {},
   "outputs": [
    {
     "data": {
      "text/plain": [
       "['Abby Cadabby',\n",
       " 'Alice Snuffleupagus',\n",
       " 'Alistair Cookie',\n",
       " 'The Amazing Mumford',\n",
       " 'Anything Muppets',\n",
       " 'AM Monsters',\n",
       " 'Aristotle',\n",
       " 'Arlene Frantic',\n",
       " 'Baby Bear',\n",
       " 'Barkley',\n",
       " 'Beautiful Day Monster',\n",
       " 'Bennett Snerf',\n",
       " 'Benny Rabbit',\n",
       " 'Bert',\n",
       " 'Betty Lou',\n",
       " 'Biff',\n",
       " 'Big Bird',\n",
       " 'Bip Bippadotta',\n",
       " 'Bruno the Trashman',\n",
       " 'Buster',\n",
       " 'Captain Vegetable',\n",
       " 'Clementine',\n",
       " 'Colambo',\n",
       " 'Cookie Monster',\n",
       " 'Count von Count',\n",
       " 'Countess Dahling von Dahling',\n",
       " 'Curly Bear',\n",
       " 'Deena',\n",
       " 'Dexter',\n",
       " 'Dingers',\n",
       " 'Don Music',\n",
       " 'Donald/Ronald Grump',\n",
       " 'Dr. Feel',\n",
       " 'Dr. Nobel Price',\n",
       " 'Elizabeth',\n",
       " 'Elmo',\n",
       " 'Ernie',\n",
       " 'Farley',\n",
       " 'Fatima',\n",
       " 'Ferlinghetti Donizetti',\n",
       " 'Flo Bear',\n",
       " 'Forgetful Jones',\n",
       " 'Frazzle',\n",
       " 'Fred',\n",
       " 'Gabrielle',\n",
       " 'Gladys the Cow',\n",
       " 'Granny Bird',\n",
       " 'Mrs. Grouch',\n",
       " 'Gonger',\n",
       " 'Granny Fanny Nestlerode',\n",
       " 'Grover',\n",
       " 'Grundgetta',\n",
       " 'Gulliver',\n",
       " 'Guy Smiley',\n",
       " 'Harvey Kneeslapper',\n",
       " 'Herbert Birdsfoot',\n",
       " 'Herry Monster',\n",
       " 'Honkers',\n",
       " 'Hoots',\n",
       " 'Horatio',\n",
       " 'Humphrey',\n",
       " 'Ingrid',\n",
       " 'Jamie Fox',\n",
       " 'Ji-Young',\n",
       " 'Julia',\n",
       " 'Kermit[101]',\n",
       " 'Kingston Livingston III',\n",
       " 'Lefty the Salesman',\n",
       " 'Leo',\n",
       " 'Little Bird',\n",
       " 'Little Chrissy',\n",
       " 'Little Jerry',\n",
       " 'Little Murray Sparkles',\n",
       " 'Liz Lemon',\n",
       " 'Louie',\n",
       " 'Mama Bear',\n",
       " 'The Martians[110]',\n",
       " 'Merry Monster',\n",
       " 'Meryl Sheep',\n",
       " 'Monty',\n",
       " 'Mr. Johnson',\n",
       " 'Murray Monster',\n",
       " 'Natasha',\n",
       " 'Oscar the Grouch',\n",
       " 'Ovejita',\n",
       " 'Papa Bear',\n",
       " 'Placido Flamingo',\n",
       " 'Poco Loco',\n",
       " 'Prairie Dawn',\n",
       " 'Prince Charming',\n",
       " 'Professor Hastings',\n",
       " 'Rodeo Rosie',\n",
       " 'Roosevelt Franklin',\n",
       " \"Roosevelt Franklin's Mother\",\n",
       " 'Rosita',\n",
       " 'Roxie Marie',\n",
       " 'Ruby',\n",
       " 'Rudy',\n",
       " 'SAM',\n",
       " 'Segi (2010)',\n",
       " 'Sherlock Hemlock',\n",
       " 'Sherry Netherland',\n",
       " 'Simon Soundman',\n",
       " 'Slimey',\n",
       " 'Smartie (2017)',\n",
       " 'Mr. Snuffleupagus (\"Snuffy\")',\n",
       " 'Sonny Friendly',\n",
       " 'The Squirelles',\n",
       " 'The Oinker Sisters[1]',\n",
       " 'Stinky the Stinkweed',\n",
       " 'Sully',\n",
       " 'Super Grover',\n",
       " 'Tango',\n",
       " 'Tamir',\n",
       " 'Telly Monster',\n",
       " 'The Twiddlebugs',\n",
       " 'The Two-Headed Monster',\n",
       " 'Wes',\n",
       " 'Zoe']"
      ]
     },
     "execution_count": 19,
     "metadata": {},
     "output_type": "execute_result"
    }
   ],
   "source": [
    "# take a column from dataframe and assign it to a list variable\n",
    "\n",
    "# assign column to variable\n",
    "a = df.Character\n",
    "# astore all the items in the first column in a list\n",
    "a = list(df.Character)\n",
    "a"
   ]
  },
  {
   "cell_type": "code",
   "execution_count": 24,
   "metadata": {},
   "outputs": [
    {
     "data": {
      "text/plain": [
       "['The Two-Headed Monster', 'Wes', 'Zoe']"
      ]
     },
     "execution_count": 24,
     "metadata": {},
     "output_type": "execute_result"
    }
   ],
   "source": [
    "# find first four \n",
    "a[0:4]\n",
    "# find last three\n",
    "a[-3:]\n",
    "# find the last three items \n",
    "a[-3:len(a)]"
   ]
  },
  {
   "cell_type": "code",
   "execution_count": 21,
   "metadata": {},
   "outputs": [
    {
     "data": {
      "text/plain": [
       "['The Two-Headed Monster', 'Wes', 'Zoe']"
      ]
     },
     "execution_count": 21,
     "metadata": {},
     "output_type": "execute_result"
    }
   ],
   "source": [
    "# find \n",
    "a[7:10]"
   ]
  },
  {
   "cell_type": "code",
   "execution_count": 38,
   "metadata": {},
   "outputs": [],
   "source": [
    "# assign the first 20 items to new value b\n",
    "b = a[0:20]"
   ]
  },
  {
   "cell_type": "code",
   "execution_count": 31,
   "metadata": {},
   "outputs": [
    {
     "data": {
      "text/plain": [
       "'Buster'"
      ]
     },
     "execution_count": 31,
     "metadata": {},
     "output_type": "execute_result"
    }
   ],
   "source": [
    "# remove last items in list, pop takes the final item\n",
    "b.pop()"
   ]
  },
  {
   "cell_type": "code",
   "execution_count": 32,
   "metadata": {},
   "outputs": [
    {
     "data": {
      "text/plain": [
       "['Abby Cadabby',\n",
       " 'Alice Snuffleupagus',\n",
       " 'Alistair Cookie',\n",
       " 'The Amazing Mumford',\n",
       " 'Anything Muppets',\n",
       " 'AM Monsters',\n",
       " 'Aristotle',\n",
       " 'Arlene Frantic',\n",
       " 'Baby Bear',\n",
       " 'Barkley',\n",
       " 'Beautiful Day Monster',\n",
       " 'Bennett Snerf',\n",
       " 'Benny Rabbit',\n",
       " 'Bert',\n",
       " 'Betty Lou',\n",
       " 'Biff',\n",
       " 'Big Bird',\n",
       " 'Bip Bippadotta',\n",
       " 'Bruno the Trashman',\n",
       " 'Kermit']"
      ]
     },
     "execution_count": 32,
     "metadata": {},
     "output_type": "execute_result"
    }
   ],
   "source": [
    "b.append('Kermit')\n",
    "b"
   ]
  },
  {
   "cell_type": "code",
   "execution_count": 33,
   "metadata": {},
   "outputs": [
    {
     "data": {
      "text/plain": [
       "['Abby Cadabby',\n",
       " 'Alice Snuffleupagus',\n",
       " 'Alistair Cookie',\n",
       " 'The Amazing Mumford',\n",
       " 'Anything Muppets',\n",
       " 'Kermit',\n",
       " 'AM Monsters',\n",
       " 'Aristotle',\n",
       " 'Arlene Frantic',\n",
       " 'Baby Bear',\n",
       " 'Barkley',\n",
       " 'Beautiful Day Monster',\n",
       " 'Bennett Snerf',\n",
       " 'Benny Rabbit',\n",
       " 'Bert',\n",
       " 'Betty Lou',\n",
       " 'Biff',\n",
       " 'Big Bird',\n",
       " 'Bip Bippadotta',\n",
       " 'Bruno the Trashman',\n",
       " 'Kermit']"
      ]
     },
     "execution_count": 33,
     "metadata": {},
     "output_type": "execute_result"
    }
   ],
   "source": [
    "# insert an item onto a lsist at a particular position\n",
    "b.insert(5, 'Kermit')\n",
    "b"
   ]
  },
  {
   "cell_type": "code",
   "execution_count": 35,
   "metadata": {},
   "outputs": [
    {
     "data": {
      "text/plain": [
       "['Abby Cadabby',\n",
       " 'Fozzy Bear',\n",
       " 'Alistair Cookie',\n",
       " 'The Amazing Mumford',\n",
       " 'Anything Muppets',\n",
       " 'Kermit',\n",
       " 'AM Monsters',\n",
       " 'Aristotle',\n",
       " 'Arlene Frantic',\n",
       " 'Baby Bear',\n",
       " 'Barkley',\n",
       " 'Beautiful Day Monster',\n",
       " 'Bennett Snerf',\n",
       " 'Benny Rabbit',\n",
       " 'Bert',\n",
       " 'Betty Lou',\n",
       " 'Biff',\n",
       " 'Big Bird',\n",
       " 'Bip Bippadotta',\n",
       " 'Bruno the Trashman',\n",
       " 'Kermit']"
      ]
     },
     "execution_count": 35,
     "metadata": {},
     "output_type": "execute_result"
    }
   ],
   "source": [
    "# another way to put replace something in certain position\n",
    "b[1] = 'Fozzy Bear'\n",
    "b"
   ]
  },
  {
   "cell_type": "code",
   "execution_count": 37,
   "metadata": {},
   "outputs": [
    {
     "data": {
      "text/plain": [
       "['Abby Cadabby is a cute monster',\n",
       " 'Fozzy Bear is a cute monster',\n",
       " 'Alistair Cookie is a cute monster',\n",
       " 'The Amazing Mumford is a cute monster',\n",
       " 'Anything Muppets is a cute monster',\n",
       " 'Kermit is a cute monster',\n",
       " 'AM Monsters is a cute monster',\n",
       " 'Aristotle is a cute monster',\n",
       " 'Arlene Frantic is a cute monster',\n",
       " 'Baby Bear is a cute monster',\n",
       " 'Barkley is a cute monster',\n",
       " 'Beautiful Day Monster is a cute monster',\n",
       " 'Bennett Snerf is a cute monster',\n",
       " 'Benny Rabbit is a cute monster',\n",
       " 'Bert is a cute monster',\n",
       " 'Betty Lou is a cute monster',\n",
       " 'Biff is a cute monster',\n",
       " 'Big Bird is a cute monster',\n",
       " 'Bip Bippadotta is a cute monster',\n",
       " 'Bruno the Trashman is a cute monster',\n",
       " 'Kermit is a cute monster']"
      ]
     },
     "execution_count": 37,
     "metadata": {},
     "output_type": "execute_result"
    }
   ],
   "source": [
    "# use list comprehension to manipulate items in a vectorized fashion\n",
    "# list comprehension: basically loops in a compressed form - gooes through the list and do something to each value \n",
    "# apllying \"is a cute monster\" to the end of every monster :) \n",
    "c = [x + ' is a cute monster' for x in b]\n",
    "# consistency is helpful, try to use the same variables each time you make a loop, so that you know what you're dealing with hen skimming through code. \n",
    "c"
   ]
  },
  {
   "cell_type": "code",
   "execution_count": 41,
   "metadata": {},
   "outputs": [
    {
     "name": "stdout",
     "output_type": "stream",
     "text": [
      "['Abby Cadabby', 'Alice Snuffleupagus', 'Alistair Cookie', 'The Amazing Mumford', 'Anything Muppets', 'AM Monsters', 'Aristotle', 'Arlene Frantic', 'Baby Bear', 'Beautiful Day Monster', 'Bennett Snerf', 'Benny Rabbit', 'Biff', 'Big Bird', 'Bip Bippadotta', 'Bruno the Trashman', 'Buster']\n"
     ]
    }
   ],
   "source": [
    "# use list comprehension to compare two list and \n",
    "# select items from list 1 that match items in list 2 \n",
    "b = a[0:20]\n",
    "favs= [\"Barkley\", \"Kermit\", \"Betty Lou\", \"Bert\"]\n",
    "# list comprehensions are best when they're fairly simple, and doing things more complicated that this, probs better to use real loop\n",
    "# make list of all favourites\n",
    "c = [x for x in b if x in favs]\n",
    "\n",
    "# This gives us all the monsters in the lsit that are not favourites \n",
    "c = [x for x in b if x not in favs]\n",
    "print(c)\n"
   ]
  },
  {
   "cell_type": "code",
   "execution_count": 43,
   "metadata": {},
   "outputs": [
    {
     "data": {
      "text/plain": [
       "[11, 12, 13, 14, 15]"
      ]
     },
     "execution_count": 43,
     "metadata": {},
     "output_type": "execute_result"
    }
   ],
   "source": [
    "d = [1,2,3,4,5]\n",
    "# take every integer and add 10 to them\n",
    "d = [x + 10 for x in d]\n",
    "d"
   ]
  },
  {
   "cell_type": "code",
   "execution_count": null,
   "metadata": {},
   "outputs": [],
   "source": [
    "df = pd.read()"
   ]
  },
  {
   "cell_type": "code",
   "execution_count": null,
   "metadata": {},
   "outputs": [],
   "source": [
    "# total number of rows \n",
    "df.shape[0]"
   ]
  },
  {
   "cell_type": "code",
   "execution_count": null,
   "metadata": {},
   "outputs": [],
   "source": [
    "# give me the rows from 4 to the toal number of rows \n",
    "df2 = df.iloc[4:shape[0]]\n",
    "df2"
   ]
  },
  {
   "cell_type": "code",
   "execution_count": null,
   "metadata": {},
   "outputs": [],
   "source": [
    "# putting to dataframes on top of each other in switched order \n",
    "df3 = pd.concat([df2, df1])\n",
    "df3"
   ]
  },
  {
   "cell_type": "code",
   "execution_count": null,
   "metadata": {},
   "outputs": [],
   "source": [
    "# using iloc to find row 1 takes the row from this dataframe\n",
    "df3.iloc[1]\n",
    "# using loc to find row one take row one from the original dataframe, since python remembers (the names are still kept)\n",
    "df3.loc[1]"
   ]
  },
  {
   "cell_type": "code",
   "execution_count": null,
   "metadata": {},
   "outputs": [],
   "source": [
    "# put back into original order \n",
    "df3 = pd.concat([df1, df2])\n",
    "# making new column \"average\" and finding mean values of each row \n",
    "df3['average'] = df3.mean(axis = 1 )\n",
    "df3 "
   ]
  },
  {
   "cell_type": "code",
   "execution_count": null,
   "metadata": {},
   "outputs": [],
   "source": [
    "# okay look at Ethans code, it went too fast "
   ]
  },
  {
   "cell_type": "markdown",
   "metadata": {},
   "source": [
    "### Transposing - reshaping your data!\n",
    "you can take a dataframe and switch it around to the side \n"
   ]
  },
  {
   "cell_type": "code",
   "execution_count": null,
   "metadata": {},
   "outputs": [],
   "source": []
  },
  {
   "cell_type": "markdown",
   "metadata": {},
   "source": []
  }
 ],
 "metadata": {
  "kernelspec": {
   "display_name": "Python 3",
   "language": "python",
   "name": "python3"
  },
  "language_info": {
   "codemirror_mode": {
    "name": "ipython",
    "version": 3
   },
   "file_extension": ".py",
   "mimetype": "text/x-python",
   "name": "python",
   "nbconvert_exporter": "python",
   "pygments_lexer": "ipython3",
   "version": "3.11.5"
  },
  "orig_nbformat": 4
 },
 "nbformat": 4,
 "nbformat_minor": 2
}
