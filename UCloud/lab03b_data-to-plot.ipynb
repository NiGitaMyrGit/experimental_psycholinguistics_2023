{
 "cells": [
  {
   "cell_type": "code",
   "execution_count": 1,
   "metadata": {},
   "outputs": [],
   "source": [
    "import pandas as pd\n",
    "import seaborn as sns\n",
    "import matplotlib as plt"
   ]
  },
  {
   "cell_type": "markdown",
   "metadata": {},
   "source": [
    "## Glasgow word norms\n",
    "This data set, \"Glasgow Norms\", provides set of normative ratings for 5,553 English words (https://psyarxiv.com/akzyx/). They are rated on 9 psycholinguistic dimensions:\\\n",
    "Arousal (AROU)\\\n",
    "Valence (VAL)\\\n",
    "Dominance (DOM)\n",
    "Concreteness (CNC)\\\n",
    "Imageability (IMAG)\\\n",
    "Age of Acquisition (AOA)\\\n",
    "Semantic Size (SIZE)\\\n",
    "Gender Association (GEND). (where one isapparently feminine and 7 masculine???)\n",
    "\n",
    "For every given subset of words, the same participants provided ratings across all 9 dimensions."
   ]
  },
  {
   "cell_type": "code",
   "execution_count": 3,
   "metadata": {},
   "outputs": [
    {
     "data": {
      "text/html": [
       "<div>\n",
       "<style scoped>\n",
       "    .dataframe tbody tr th:only-of-type {\n",
       "        vertical-align: middle;\n",
       "    }\n",
       "\n",
       "    .dataframe tbody tr th {\n",
       "        vertical-align: top;\n",
       "    }\n",
       "\n",
       "    .dataframe thead th {\n",
       "        text-align: right;\n",
       "    }\n",
       "</style>\n",
       "<table border=\"1\" class=\"dataframe\">\n",
       "  <thead>\n",
       "    <tr style=\"text-align: right;\">\n",
       "      <th></th>\n",
       "      <th>word</th>\n",
       "      <th>length</th>\n",
       "      <th>M AROU</th>\n",
       "      <th>SD AROU</th>\n",
       "      <th>N AROU</th>\n",
       "      <th>M VAL</th>\n",
       "      <th>SD VAL</th>\n",
       "      <th>N VAL</th>\n",
       "      <th>M DOM</th>\n",
       "      <th>SD DOM</th>\n",
       "      <th>...</th>\n",
       "      <th>N FAM</th>\n",
       "      <th>M AOA</th>\n",
       "      <th>SD AOA</th>\n",
       "      <th>N AOA</th>\n",
       "      <th>M SIZE</th>\n",
       "      <th>SD SIZE</th>\n",
       "      <th>N SIZE</th>\n",
       "      <th>M GEND</th>\n",
       "      <th>SD GEND</th>\n",
       "      <th>N GEND</th>\n",
       "    </tr>\n",
       "  </thead>\n",
       "  <tbody>\n",
       "    <tr>\n",
       "      <th>0</th>\n",
       "      <td>abattoir</td>\n",
       "      <td>8.0</td>\n",
       "      <td>4.3333</td>\n",
       "      <td>2.3570</td>\n",
       "      <td>24.0</td>\n",
       "      <td>2.7619</td>\n",
       "      <td>1.7156</td>\n",
       "      <td>21.0</td>\n",
       "      <td>4.3333</td>\n",
       "      <td>1.3333</td>\n",
       "      <td>...</td>\n",
       "      <td>34.0</td>\n",
       "      <td>6.7600</td>\n",
       "      <td>0.4271</td>\n",
       "      <td>25.0</td>\n",
       "      <td>4.6522</td>\n",
       "      <td>1.5494</td>\n",
       "      <td>23.0</td>\n",
       "      <td>5.4545</td>\n",
       "      <td>1.1571</td>\n",
       "      <td>22.0</td>\n",
       "    </tr>\n",
       "    <tr>\n",
       "      <th>1</th>\n",
       "      <td>abbey</td>\n",
       "      <td>5.0</td>\n",
       "      <td>3.2857</td>\n",
       "      <td>2.3733</td>\n",
       "      <td>28.0</td>\n",
       "      <td>5.7097</td>\n",
       "      <td>1.2233</td>\n",
       "      <td>31.0</td>\n",
       "      <td>4.6333</td>\n",
       "      <td>1.6224</td>\n",
       "      <td>...</td>\n",
       "      <td>33.0</td>\n",
       "      <td>5.1765</td>\n",
       "      <td>1.3388</td>\n",
       "      <td>34.0</td>\n",
       "      <td>5.1212</td>\n",
       "      <td>1.6285</td>\n",
       "      <td>33.0</td>\n",
       "      <td>3.2813</td>\n",
       "      <td>1.2051</td>\n",
       "      <td>32.0</td>\n",
       "    </tr>\n",
       "    <tr>\n",
       "      <th>2</th>\n",
       "      <td>abbreviate</td>\n",
       "      <td>10.0</td>\n",
       "      <td>3.2258</td>\n",
       "      <td>1.6006</td>\n",
       "      <td>31.0</td>\n",
       "      <td>5.2727</td>\n",
       "      <td>1.0231</td>\n",
       "      <td>33.0</td>\n",
       "      <td>5.2353</td>\n",
       "      <td>1.2381</td>\n",
       "      <td>...</td>\n",
       "      <td>30.0</td>\n",
       "      <td>5.5429</td>\n",
       "      <td>1.1299</td>\n",
       "      <td>35.0</td>\n",
       "      <td>2.6667</td>\n",
       "      <td>1.6997</td>\n",
       "      <td>33.0</td>\n",
       "      <td>3.9333</td>\n",
       "      <td>0.9978</td>\n",
       "      <td>30.0</td>\n",
       "    </tr>\n",
       "    <tr>\n",
       "      <th>3</th>\n",
       "      <td>abdicate</td>\n",
       "      <td>8.0</td>\n",
       "      <td>4.3000</td>\n",
       "      <td>1.8824</td>\n",
       "      <td>30.0</td>\n",
       "      <td>3.7667</td>\n",
       "      <td>1.3828</td>\n",
       "      <td>30.0</td>\n",
       "      <td>4.2500</td>\n",
       "      <td>2.1815</td>\n",
       "      <td>...</td>\n",
       "      <td>33.0</td>\n",
       "      <td>6.2759</td>\n",
       "      <td>0.8261</td>\n",
       "      <td>29.0</td>\n",
       "      <td>4.6786</td>\n",
       "      <td>1.4406</td>\n",
       "      <td>28.0</td>\n",
       "      <td>5.1667</td>\n",
       "      <td>1.1856</td>\n",
       "      <td>30.0</td>\n",
       "    </tr>\n",
       "    <tr>\n",
       "      <th>4</th>\n",
       "      <td>abdication</td>\n",
       "      <td>10.0</td>\n",
       "      <td>3.8462</td>\n",
       "      <td>2.2819</td>\n",
       "      <td>26.0</td>\n",
       "      <td>3.8800</td>\n",
       "      <td>1.6080</td>\n",
       "      <td>25.0</td>\n",
       "      <td>4.8000</td>\n",
       "      <td>1.9596</td>\n",
       "      <td>...</td>\n",
       "      <td>31.0</td>\n",
       "      <td>6.4074</td>\n",
       "      <td>0.9132</td>\n",
       "      <td>27.0</td>\n",
       "      <td>5.1304</td>\n",
       "      <td>1.3611</td>\n",
       "      <td>23.0</td>\n",
       "      <td>4.6154</td>\n",
       "      <td>1.0406</td>\n",
       "      <td>26.0</td>\n",
       "    </tr>\n",
       "  </tbody>\n",
       "</table>\n",
       "<p>5 rows × 29 columns</p>\n",
       "</div>"
      ],
      "text/plain": [
       "         word  length  M AROU  SD AROU  N AROU   M VAL  SD VAL  N VAL   M DOM   \n",
       "0    abattoir     8.0  4.3333   2.3570    24.0  2.7619  1.7156   21.0  4.3333  \\\n",
       "1       abbey     5.0  3.2857   2.3733    28.0  5.7097  1.2233   31.0  4.6333   \n",
       "2  abbreviate    10.0  3.2258   1.6006    31.0  5.2727  1.0231   33.0  5.2353   \n",
       "3    abdicate     8.0  4.3000   1.8824    30.0  3.7667  1.3828   30.0  4.2500   \n",
       "4  abdication    10.0  3.8462   2.2819    26.0  3.8800  1.6080   25.0  4.8000   \n",
       "\n",
       "   SD DOM  ...  N FAM   M AOA  SD AOA  N AOA  M SIZE  SD SIZE  N SIZE  M GEND   \n",
       "0  1.3333  ...   34.0  6.7600  0.4271   25.0  4.6522   1.5494    23.0  5.4545  \\\n",
       "1  1.6224  ...   33.0  5.1765  1.3388   34.0  5.1212   1.6285    33.0  3.2813   \n",
       "2  1.2381  ...   30.0  5.5429  1.1299   35.0  2.6667   1.6997    33.0  3.9333   \n",
       "3  2.1815  ...   33.0  6.2759  0.8261   29.0  4.6786   1.4406    28.0  5.1667   \n",
       "4  1.9596  ...   31.0  6.4074  0.9132   27.0  5.1304   1.3611    23.0  4.6154   \n",
       "\n",
       "   SD GEND  N GEND  \n",
       "0   1.1571    22.0  \n",
       "1   1.2051    32.0  \n",
       "2   0.9978    30.0  \n",
       "3   1.1856    30.0  \n",
       "4   1.0406    26.0  \n",
       "\n",
       "[5 rows x 29 columns]"
      ]
     },
     "execution_count": 3,
     "metadata": {},
     "output_type": "execute_result"
    }
   ],
   "source": [
    "glasgow = pd.read_csv('https://raw.githubusercontent.com/ethanweed/datasets-for-teaching/main/JASP_data_library/4.%20Regression/Glasgow%20Norms.csv')\n",
    "glasgow.head()"
   ]
  },
  {
   "cell_type": "code",
   "execution_count": 11,
   "metadata": {},
   "outputs": [
    {
     "data": {
      "text/plain": [
       "[Text(0.5, 1.0, 'Children learn shorter words earlier'),\n",
       " Text(0.5, 0, 'lenght of words'),\n",
       " Text(0, 0.5, 'Mean age of acquisition')]"
      ]
     },
     "execution_count": 11,
     "metadata": {},
     "output_type": "execute_result"
    },
    {
     "data": {
      "image/png": "[encoded data removed]",
      "text/plain": [
       "<Figure size 640x480 with 1 Axes>"
      ]
     },
     "metadata": {},
     "output_type": "display_data"
    }
   ],
   "source": [
    "ax = sns.histplot(data=glasgow, x = 'length', y = 'M AOA')\n",
    "ax.set(title =\"Children learn shorter words earlier\", xlabel=\"lenght of words (letters)\", ylabel=\"Mean age of acquisition\" )\n"
   ]
  },
  {
   "cell_type": "code",
   "execution_count": 17,
   "metadata": {},
   "outputs": [
    {
     "data": {
      "text/plain": [
       "[Text(0.5, 1.0, ''),\n",
       " Text(0.5, 0, 'lenght of words (letters)'),\n",
       " Text(0, 0.5, '')]"
      ]
     },
     "execution_count": 17,
     "metadata": {},
     "output_type": "execute_result"
    },
    {
     "data": {
      "image/png": "[encoded data removed]",
      "text/plain": [
       "<Figure size 640x480 with 1 Axes>"
      ]
     },
     "metadata": {},
     "output_type": "display_data"
    }
   ],
   "source": [
    "ax = sns.boxplot(data=glasgow, x = 'length', y = 'M GEND')\n",
    "ax.set(title =\"\", xlabel=\"lenght of words (letters)\", ylabel=\"\" )\n"
   ]
  },
  {
   "cell_type": "markdown",
   "metadata": {},
   "source": [
    "## Adam Sandler movies\n",
    "\n",
    "This data set, \"Adam Sandler\", provides Rotten Tomatoes ratings and box office success for movies featuring Adam Sandler.\n",
    "\n",
    "The data contain the 2001-2015 filmography of Adam Sandler together with freshness ratings (indicated by a score from 0 to 1) and box office success in millions of US dollars. The data were obtained from the Rotten Tomatoes website.\n",
    "\n",
    "Variables:\n",
    "\n",
    "**Year** - Year of the movies' premiere.  \n",
    "**Freshness** - Freshness ratings on Rotten Tomatoes (ranges from 0 = rotten to 1 = fresh).  \n",
    "**Box Office ($M)** - Box office succes of the movies, expressed in millions of US dollars.  \n",
    "**Movie Title** - The movie title.  "
   ]
  },
  {
   "cell_type": "code",
   "execution_count": 19,
   "metadata": {},
   "outputs": [
    {
     "data": {
      "text/html": [
       "<div>\n",
       "<style scoped>\n",
       "    .dataframe tbody tr th:only-of-type {\n",
       "        vertical-align: middle;\n",
       "    }\n",
       "\n",
       "    .dataframe tbody tr th {\n",
       "        vertical-align: top;\n",
       "    }\n",
       "\n",
       "    .dataframe thead th {\n",
       "        text-align: right;\n",
       "    }\n",
       "</style>\n",
       "<table border=\"1\" class=\"dataframe\">\n",
       "  <thead>\n",
       "    <tr style=\"text-align: right;\">\n",
       "      <th></th>\n",
       "      <th>Year</th>\n",
       "      <th>Freshness</th>\n",
       "      <th>Box Office ($M)</th>\n",
       "      <th>Movie Title</th>\n",
       "    </tr>\n",
       "  </thead>\n",
       "  <tbody>\n",
       "    <tr>\n",
       "      <th>0</th>\n",
       "      <td>2000</td>\n",
       "      <td>0.22</td>\n",
       "      <td>38.5</td>\n",
       "      <td>Little Nicky</td>\n",
       "    </tr>\n",
       "    <tr>\n",
       "      <th>1</th>\n",
       "      <td>2001</td>\n",
       "      <td>0.30</td>\n",
       "      <td>54.4</td>\n",
       "      <td>The Animal</td>\n",
       "    </tr>\n",
       "    <tr>\n",
       "      <th>2</th>\n",
       "      <td>2002</td>\n",
       "      <td>0.22</td>\n",
       "      <td>126.2</td>\n",
       "      <td>Mr. Deeds</td>\n",
       "    </tr>\n",
       "    <tr>\n",
       "      <th>3</th>\n",
       "      <td>2002</td>\n",
       "      <td>0.01</td>\n",
       "      <td>40.3</td>\n",
       "      <td>The Master of Disguise</td>\n",
       "    </tr>\n",
       "    <tr>\n",
       "      <th>4</th>\n",
       "      <td>2002</td>\n",
       "      <td>0.21</td>\n",
       "      <td>34.9</td>\n",
       "      <td>The Hot Chick</td>\n",
       "    </tr>\n",
       "  </tbody>\n",
       "</table>\n",
       "</div>"
      ],
      "text/plain": [
       "   Year  Freshness  Box Office ($M)             Movie Title\n",
       "0  2000       0.22             38.5            Little Nicky\n",
       "1  2001       0.30             54.4              The Animal\n",
       "2  2002       0.22            126.2               Mr. Deeds\n",
       "3  2002       0.01             40.3  The Master of Disguise\n",
       "4  2002       0.21             34.9           The Hot Chick"
      ]
     },
     "execution_count": 19,
     "metadata": {},
     "output_type": "execute_result"
    }
   ],
   "source": [
    "adam = pd.read_csv('https://raw.githubusercontent.com/ethanweed/datasets-for-teaching/main/JASP_data_library/4.%20Regression/Adam%20Sandler.csv')\n",
    "adam.head()"
   ]
  },
  {
   "cell_type": "code",
   "execution_count": 35,
   "metadata": {},
   "outputs": [
    {
     "data": {
      "image/png": "[encoded data removed]",
      "text/plain": [
       "<Figure size 500x500 with 1 Axes>"
      ]
     },
     "metadata": {},
     "output_type": "display_data"
    }
   ],
   "source": [
    "ax = sns.relplot(data=adam, x=\"Year\", y=\"Freshness\")"
   ]
  },
  {
   "cell_type": "markdown",
   "metadata": {},
   "source": [
    "## Auction\n",
    "\n",
    "This data set, \"Auction\", provides the selling price and age of antique clocks, and the number of bidders in the auction.\n",
    "\n",
    "Variables:\n",
    "\n",
    "Age - Age of the antique clock.  \n",
    "Bidders - The number of bidders in the auction.  \n",
    "Price - The final selling price of the clock.   \n",
    "\n",
    "Reference:\n",
    "\n",
    "Mendenhall, W, and Sincich, TL (1993). A Second Course in Statistics: Regression Analysis (6th ed.), New Jersey: Prentice-Hall.  "
   ]
  },
  {
   "cell_type": "code",
   "execution_count": 3,
   "metadata": {},
   "outputs": [
    {
     "data": {
      "text/html": [
       "<div>\n",
       "<style scoped>\n",
       "    .dataframe tbody tr th:only-of-type {\n",
       "        vertical-align: middle;\n",
       "    }\n",
       "\n",
       "    .dataframe tbody tr th {\n",
       "        vertical-align: top;\n",
       "    }\n",
       "\n",
       "    .dataframe thead th {\n",
       "        text-align: right;\n",
       "    }\n",
       "</style>\n",
       "<table border=\"1\" class=\"dataframe\">\n",
       "  <thead>\n",
       "    <tr style=\"text-align: right;\">\n",
       "      <th></th>\n",
       "      <th>Age</th>\n",
       "      <th>Bidders</th>\n",
       "      <th>Price</th>\n",
       "    </tr>\n",
       "  </thead>\n",
       "  <tbody>\n",
       "    <tr>\n",
       "      <th>0</th>\n",
       "      <td>127</td>\n",
       "      <td>13</td>\n",
       "      <td>1235</td>\n",
       "    </tr>\n",
       "    <tr>\n",
       "      <th>1</th>\n",
       "      <td>115</td>\n",
       "      <td>12</td>\n",
       "      <td>1080</td>\n",
       "    </tr>\n",
       "    <tr>\n",
       "      <th>2</th>\n",
       "      <td>127</td>\n",
       "      <td>7</td>\n",
       "      <td>845</td>\n",
       "    </tr>\n",
       "    <tr>\n",
       "      <th>3</th>\n",
       "      <td>150</td>\n",
       "      <td>9</td>\n",
       "      <td>1522</td>\n",
       "    </tr>\n",
       "    <tr>\n",
       "      <th>4</th>\n",
       "      <td>156</td>\n",
       "      <td>6</td>\n",
       "      <td>1047</td>\n",
       "    </tr>\n",
       "  </tbody>\n",
       "</table>\n",
       "</div>"
      ],
      "text/plain": [
       "   Age  Bidders  Price\n",
       "0  127       13   1235\n",
       "1  115       12   1080\n",
       "2  127        7    845\n",
       "3  150        9   1522\n",
       "4  156        6   1047"
      ]
     },
     "execution_count": 3,
     "metadata": {},
     "output_type": "execute_result"
    }
   ],
   "source": [
    "auction = pd.read_csv('https://raw.githubusercontent.com/ethanweed/datasets-for-teaching/main/JASP_data_library/4.%20Regression/Auction.csv')\n",
    "auction.head()"
   ]
  },
  {
   "cell_type": "code",
   "execution_count": 8,
   "metadata": {},
   "outputs": [
    {
     "data": {
      "image/png": "[encoded data removed]",
      "text/plain": [
       "<Figure size 640x480 with 1 Axes>"
      ]
     },
     "metadata": {},
     "output_type": "display_data"
    }
   ],
   "source": [
    "ax = sns.histplot(data=auction, x= \"Bidders\", y=\"Price\")"
   ]
  },
  {
   "cell_type": "markdown",
   "metadata": {},
   "source": [
    "\n",
    "## Heart Rate\n",
    "\n",
    "This data set, \"Heart Rate\", provides heart rates of male and female runners and generally sedentary participants following 6 minutes exercise.\n",
    "\n",
    "Variables:\n",
    "\n",
    "Gender - Participant's gender (Female, Male).  \n",
    "Group - Group of 'Runners' (averaging more than 15 miles per week) and 'Control' group (generally sedentary participant).  \n",
    "Heart Rate - Heart rate after six minutes of exercise.  \n",
    "\n",
    "\n",
    "References:\n",
    "\n",
    "Moore, D. S., McCabe, G. P., and Craig, B. A. (2012). Introduction to the Practice of Statistics (7th ed.). New York: Freeman.\n",
    "\n",
    "Wood, P.D, Haskell, W. L., Stern, M. P., Lewis, S. and Perry, C. (1977). Plasma lipoprotein distributions in male and female runners. Annals of the New York Academy of Sciences, 301: 748-763."
   ]
  },
  {
   "cell_type": "code",
   "execution_count": 8,
   "metadata": {},
   "outputs": [
    {
     "data": {
      "text/html": [
       "<div>\n",
       "<style scoped>\n",
       "    .dataframe tbody tr th:only-of-type {\n",
       "        vertical-align: middle;\n",
       "    }\n",
       "\n",
       "    .dataframe tbody tr th {\n",
       "        vertical-align: top;\n",
       "    }\n",
       "\n",
       "    .dataframe thead th {\n",
       "        text-align: right;\n",
       "    }\n",
       "</style>\n",
       "<table border=\"1\" class=\"dataframe\">\n",
       "  <thead>\n",
       "    <tr style=\"text-align: right;\">\n",
       "      <th></th>\n",
       "      <th>Gender</th>\n",
       "      <th>Group</th>\n",
       "      <th>Heart Rate</th>\n",
       "    </tr>\n",
       "  </thead>\n",
       "  <tbody>\n",
       "    <tr>\n",
       "      <th>0</th>\n",
       "      <td>Female</td>\n",
       "      <td>Runners</td>\n",
       "      <td>119</td>\n",
       "    </tr>\n",
       "    <tr>\n",
       "      <th>1</th>\n",
       "      <td>Female</td>\n",
       "      <td>Runners</td>\n",
       "      <td>84</td>\n",
       "    </tr>\n",
       "    <tr>\n",
       "      <th>2</th>\n",
       "      <td>Female</td>\n",
       "      <td>Runners</td>\n",
       "      <td>89</td>\n",
       "    </tr>\n",
       "    <tr>\n",
       "      <th>3</th>\n",
       "      <td>Female</td>\n",
       "      <td>Runners</td>\n",
       "      <td>119</td>\n",
       "    </tr>\n",
       "    <tr>\n",
       "      <th>4</th>\n",
       "      <td>Female</td>\n",
       "      <td>Runners</td>\n",
       "      <td>127</td>\n",
       "    </tr>\n",
       "  </tbody>\n",
       "</table>\n",
       "</div>"
      ],
      "text/plain": [
       "   Gender    Group  Heart Rate\n",
       "0  Female  Runners         119\n",
       "1  Female  Runners          84\n",
       "2  Female  Runners          89\n",
       "3  Female  Runners         119\n",
       "4  Female  Runners         127"
      ]
     },
     "execution_count": 8,
     "metadata": {},
     "output_type": "execute_result"
    }
   ],
   "source": [
    "df = pd.read_csv('https://raw.githubusercontent.com/ethanweed/datasets-for-teaching/main/JASP_data_library/3.%20ANOVA/Heart%20Rate.csv')\n",
    "df.head()"
   ]
  },
  {
   "cell_type": "code",
   "execution_count": null,
   "metadata": {},
   "outputs": [],
   "source": []
  }
 ],
 "metadata": {
  "kernelspec": {
   "display_name": "p",
   "language": "python",
   "name": "python3"
  },
  "language_info": {
   "codemirror_mode": {
    "name": "ipython",
    "version": 3
   },
   "file_extension": ".py",
   "mimetype": "text/x-python",
   "name": "python",
   "nbconvert_exporter": "python",
   "pygments_lexer": "ipython3",
   "version": "3.10.12"
  },
  "orig_nbformat": 4
 },
 "nbformat": 4,
 "nbformat_minor": 2
}
