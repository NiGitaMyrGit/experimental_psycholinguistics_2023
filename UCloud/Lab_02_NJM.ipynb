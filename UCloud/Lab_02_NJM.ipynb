{
 "cells": [
  {
   "cell_type": "markdown",
   "metadata": {},
   "source": [
    "**Name**: Nikita J. Myrting, E23, Experimental Psycholinguistics, portfolio assignment 2"
   ]
  },
  {
   "cell_type": "markdown",
   "metadata": {},
   "source": [
    "# Fun With Input\n",
    "\n",
    "In this assignment, we're going to explore using loops and strings to input and access data in Python. I hope this exercise will be entertaining, but the main point is to build up your intuitions about variables and data structures.\n",
    "\n",
    "## Input and ouput\n",
    "\n",
    "First, let's ask for some input and generate a response."
   ]
  },
  {
   "cell_type": "code",
   "execution_count": 1,
   "metadata": {},
   "outputs": [
    {
     "name": "stdout",
     "output_type": "stream",
     "text": [
      "Cool name!\n"
     ]
    }
   ],
   "source": [
    "name = input(\"What is your name? \")\n",
    "print(\"Cool name!\")"
   ]
  },
  {
   "cell_type": "markdown",
   "metadata": {},
   "source": [
    "Cool! We have just built what is possibly the simplest but most positive chatbot ever. Let's make our chatbot a little more opiniated:"
   ]
  },
  {
   "cell_type": "code",
   "execution_count": 2,
   "metadata": {},
   "outputs": [
    {
     "name": "stdout",
     "output_type": "stream",
     "text": [
      "Hmm, too bad your name is not Superman.\n"
     ]
    }
   ],
   "source": [
    "name = input(\"What is your name? \")\n",
    "if name == \"Superman\":\n",
    "    print(\"Cool name!!\")\n",
    "else:\n",
    "    print(\"Hmm, too bad your name is not Superman.\")"
   ]
  },
  {
   "cell_type": "markdown",
   "metadata": {},
   "source": [
    "Ok, this is still incredibly limited, but at the very least, we ask for input, compare the input to something, and then perform an action based on the outcome of the comparison."
   ]
  },
  {
   "cell_type": "markdown",
   "metadata": {},
   "source": [
    "## Meal Planner\n",
    "\n",
    "In the next exercise, let's start building up a very simple meal planner. We want to get organized, so we have decided to make a Python script that will help us plan what we will make for certain meals. But we want to keep it a little flexible, too. We don't want to plan for _all_ meals from now until eternity. We can use ``input`` to tell the planner how many days we want to plan for, and a ``while`` loop to keep asking us for day names until we have given it a name for every day we want to plan for:"
   ]
  },
  {
   "cell_type": "code",
   "execution_count": 7,
   "metadata": {},
   "outputs": [],
   "source": [
    "days = []\n",
    "num_days = input(\"How many days do you want to plan? \")\n",
    "while len(days) < int(num_days):\n",
    "    day = input(\"Please enter a day name you want to plan for.. \")\n",
    "    days.append(day)"
   ]
  },
  {
   "cell_type": "code",
   "execution_count": 8,
   "metadata": {},
   "outputs": [
    {
     "data": {
      "text/plain": [
       "['Friday']"
      ]
     },
     "execution_count": 8,
     "metadata": {},
     "output_type": "execute_result"
    }
   ],
   "source": [
    "days"
   ]
  },
  {
   "cell_type": "markdown",
   "metadata": {},
   "source": [
    "## A more flexible list\n",
    "\n",
    "Maybe we don't know ahead of time how many days we want to plan for. Let's make a more flexible list where we don't have to tell it ahead of time how many days we want to plan for. One way to achieve this could be to create an empty string (we'll call it \"temp\"). Then we can use a ``while`` loop to keep asking for day names until we type the word \"done\", at which point the loop stops. Here we use a new way to compare things. We have already used ``==`` to check whether two variables are the same (e.g. above, where we wrote \n",
    "\n",
    "``if name == \"Superman\":\n",
    "    print(\"Cool name!!\")``\n",
    "\n",
    "Now we use ``!=`` to check if two things are _not_ the same. By the way, ``!=`` is pronounced \"bang equals\"."
   ]
  },
  {
   "cell_type": "code",
   "execution_count": 9,
   "metadata": {},
   "outputs": [],
   "source": [
    "days = []\n",
    "temp = \"\"\n",
    "while temp != \"done\":\n",
    "    temp = input(\"Enter a day name. If you are done, write \\\"done\\\". \")\n",
    "    if temp != \"done\":\n",
    "        days.append(temp)"
   ]
  },
  {
   "cell_type": "markdown",
   "metadata": {},
   "source": [
    "So far, so good. Now we can keep adding the names of days we want to plan for until we are done. We don't need to know ahead of time how many days that will be. But... it's not a very good meal planner if we can't tell it what meals we want to make on each day. And that brings us to **Challenge 0**.."
   ]
  },
  {
   "cell_type": "markdown",
   "metadata": {},
   "source": [
    "## Challenge 0.1\n",
    "\n",
    "Use the starter code below to make a script that first\n",
    "1. Asks for **day names**\n",
    "1. then asks what you will **make on each day**.\\\n",
    "  E.g., if you enter that you want to plan for Tuesday lunch and Saturday breakfast, make a script that asks you: *\"What do you want to make for Tuesday lunch?\"* and then asks you *\"What do you want to make for Saturday breakfast?\"* and then saves your answers in a list of days and a list of meals."
   ]
  },
  {
   "cell_type": "code",
   "execution_count": 24,
   "metadata": {},
   "outputs": [],
   "source": [
    "# Ask for day names you want to plan for\n",
    "days = []\n",
    "temp = \"\"\n",
    "# as long as you haven't written \"done\" you can type this in\n",
    "while temp != \"done\":\n",
    "    temp = input(\"Enter a day name. If you are done, write \\\"done\\\".\")\n",
    "    if temp != \"done\":\n",
    "        days.append(temp)\n",
    "\n",
    "# Ask for type of meal you to plan on specific day\n",
    "meal_types = []\n",
    "for x, day in enumerate(days):\n",
    "    while True:\n",
    "        meal_type = input(f\"What type of meal (eg. breakfast) do you want to make for {day}? (Enter 'done' to move to the next day): \")\n",
    "        if meal_type == \"done\":\n",
    "            break\n",
    "        meal_types.append((day, meal_type))\n",
    "\n",
    "meals = []\n",
    "for x, meal_type in enumerate(meal_types):\n",
    "    while True:\n",
    "        meal = input(f\"What meal do you want to make for {meal_type}? (Enter 'done' to move to the next day): \")\n",
    "        if meal == \"done\":\n",
    "            break\n",
    "        meals.append((meal_type, meal))\n",
    "    "
   ]
  },
  {
   "cell_type": "code",
   "execution_count": 26,
   "metadata": {},
   "outputs": [
    {
     "name": "stdout",
     "output_type": "stream",
     "text": [
      "[(('monday', 'dinner'), 'lentils')]\n"
     ]
    }
   ],
   "source": [
    "print(meals)"
   ]
  },
  {
   "cell_type": "markdown",
   "metadata": {},
   "source": [
    "## Challenge 0.2\n",
    "\n",
    "If you complete **Challenge 0.1**, you should now have two lists: one with days, and one with meals. If we have two lists that are the same length, we can \"zip\" them together, like this:"
   ]
  },
  {
   "cell_type": "code",
   "execution_count": 49,
   "metadata": {},
   "outputs": [],
   "source": [
    "list_01 = ['cat', 'dog', 'fish', 'horse']\n",
    "list_02 = [4, 6, 2, 5]\n",
    "zippedlist = zip(list_01, list_02)"
   ]
  },
  {
   "cell_type": "markdown",
   "metadata": {},
   "source": [
    "The two lists are now \"zipped\" together, but we can't directly see what is in the list:"
   ]
  },
  {
   "cell_type": "code",
   "execution_count": 50,
   "metadata": {},
   "outputs": [
    {
     "data": {
      "text/plain": [
       "<zip at 0x7f94f54fa370>"
      ]
     },
     "execution_count": 50,
     "metadata": {},
     "output_type": "execute_result"
    }
   ],
   "source": [
    "zippedlist"
   ]
  },
  {
   "cell_type": "markdown",
   "metadata": {},
   "source": [
    "What we can do instead is to turn the ``zip`` object back into a list, like this:"
   ]
  },
  {
   "cell_type": "code",
   "execution_count": 51,
   "metadata": {},
   "outputs": [
    {
     "data": {
      "text/plain": [
       "[('cat', 4), ('dog', 6), ('fish', 2), ('horse', 5)]"
      ]
     },
     "execution_count": 51,
     "metadata": {},
     "output_type": "execute_result"
    }
   ],
   "source": [
    "list_03 = list(zippedlist)\n",
    "list_03"
   ]
  },
  {
   "cell_type": "markdown",
   "metadata": {},
   "source": [
    "The pairs of data in the list are called `tuples`, by the way. So `list_03` is `list` of `tuples`. We can get e.g. the second `tuple` in the list by \"slicing\" the list:"
   ]
  },
  {
   "cell_type": "code",
   "execution_count": 52,
   "metadata": {},
   "outputs": [
    {
     "data": {
      "text/plain": [
       "('dog', 6)"
      ]
     },
     "execution_count": 52,
     "metadata": {},
     "output_type": "execute_result"
    }
   ],
   "source": [
    "list_03[1]"
   ]
  },
  {
   "cell_type": "markdown",
   "metadata": {},
   "source": [
    "and we can get the first item from the tuple in the second position in the list like this:"
   ]
  },
  {
   "cell_type": "code",
   "execution_count": 54,
   "metadata": {},
   "outputs": [
    {
     "data": {
      "text/plain": [
       "'dog'"
      ]
     },
     "execution_count": 54,
     "metadata": {},
     "output_type": "execute_result"
    }
   ],
   "source": [
    "list_03[1][0]"
   ]
  },
  {
   "cell_type": "markdown",
   "metadata": {},
   "source": [
    "But, it would be nice if we could just ask the computer what we planned to make on any given day, so that we don't need to know which position in the list to look in. We can do this with a `dictionary` variable. We can make a dictionary out of two lists, by first zipping them together and turning them into a `dict`."
   ]
  },
  {
   "cell_type": "code",
   "execution_count": 55,
   "metadata": {},
   "outputs": [
    {
     "data": {
      "text/plain": [
       "{'Tuesday': 'soup', 'Thursday': 'salad', 'Saturday': 'toast'}"
      ]
     },
     "execution_count": 55,
     "metadata": {},
     "output_type": "execute_result"
    }
   ],
   "source": [
    "list_01 = ['Tuesday', 'Thursday', 'Saturday']\n",
    "list_02 = ['soup', 'salad', 'toast']\n",
    "\n",
    "mealplan = dict(zip(list_01, list_02))\n",
    "mealplan"
   ]
  },
  {
   "cell_type": "markdown",
   "metadata": {},
   "source": [
    "You can tell this is a `dictionary` because of the \"curly braces\" or \"curly brackets\" `{}` and the format `key: value`, e.g. `Tuesday: soup`. Now we can get the value assoicated with each key:"
   ]
  },
  {
   "cell_type": "code",
   "execution_count": 56,
   "metadata": {},
   "outputs": [
    {
     "data": {
      "text/plain": [
       "'toast'"
      ]
     },
     "execution_count": 56,
     "metadata": {},
     "output_type": "execute_result"
    }
   ],
   "source": [
    "mealplan.get('Saturday')"
   ]
  },
  {
   "cell_type": "code",
   "execution_count": 57,
   "metadata": {},
   "outputs": [
    {
     "data": {
      "text/plain": [
       "'soup'"
      ]
     },
     "execution_count": 57,
     "metadata": {},
     "output_type": "execute_result"
    }
   ],
   "source": [
    "mealplan.get('Tuesday')"
   ]
  },
  {
   "cell_type": "markdown",
   "metadata": {},
   "source": [
    "If we can't remember what days we planned for, we can ask for a list of the keys:"
   ]
  },
  {
   "cell_type": "code",
   "execution_count": 59,
   "metadata": {},
   "outputs": [
    {
     "data": {
      "text/plain": [
       "['Tuesday', 'Thursday', 'Saturday']"
      ]
     },
     "execution_count": 59,
     "metadata": {},
     "output_type": "execute_result"
    }
   ],
   "source": [
    "days = list(mealplan.keys())\n",
    "days"
   ]
  },
  {
   "cell_type": "markdown",
   "metadata": {},
   "source": [
    "For **Challenge 0.2**\\\n",
    "Write a script that tells you **what days you planned meals** for in your script from **Challenge 0.1**, and then asks you **which of the days you would like to know the meal** for.\\\n",
    "E.g., the script will tell you: *\"You planned meals for Tuesday, Thursday, and Saturday. Which day do you want to know the meal for?\"* When you type in *\"Saturday\"*, the meal planner will look in its `dictionary`, and tell you: *\"On Saturday you planned to make toast.\"*"
   ]
  },
  {
   "cell_type": "markdown",
   "metadata": {},
   "source": [
    "For the purpose of not makng this too mbig of a challenge, I will simplify my slightly overcomplicated script from challenge 0.1 into a simpler solution"
   ]
  },
  {
   "cell_type": "code",
   "execution_count": 19,
   "metadata": {},
   "outputs": [],
   "source": [
    "# Ask for day names you want to plan for\n",
    "days = []\n",
    "temp = \"\"\n",
    "while temp != \"done\":\n",
    "    temp = input(\"Enter a day name. If you are done, write \\\"done\\\".\")\n",
    "    if temp != \"done\":\n",
    "        days.append(temp)\n",
    "\n",
    "# Ask for type of meal you to plan on specific day \n",
    "meals = []\n",
    "for x, day in enumerate(days):\n",
    "    while True:\n",
    "        meal = input(f\"What meal do you want to make for {day}? (Enter 'done' to move to the next day): \")\n",
    "        if meal == \"done\":\n",
    "            break\n",
    "        meals.append((meal))"
   ]
  },
  {
   "cell_type": "code",
   "execution_count": 20,
   "metadata": {},
   "outputs": [
    {
     "data": {
      "text/plain": [
       "['monday', 'tuesday', 'wednesday']"
      ]
     },
     "execution_count": 20,
     "metadata": {},
     "output_type": "execute_result"
    }
   ],
   "source": [
    "# zipping the mealplan \n",
    "mealplan = dict(zip(days, meals))\n",
    "# making a list that only contains the days \n",
    "days = list((mealplan.keys()))\n"
   ]
  },
  {
   "cell_type": "code",
   "execution_count": 26,
   "metadata": {},
   "outputs": [
    {
     "name": "stdout",
     "output_type": "stream",
     "text": [
      "For monday, you planned the following meal:\n",
      "lentils\n",
      "you haven't planned , or maybe you made a typo?\n"
     ]
    }
   ],
   "source": [
    "# making a while loop\n",
    "while True:\n",
    "    # making the prompt that takes the user input\n",
    "    day_know = input(f\"you planned meals for {days} which day do you want to know the meal for? (Enter 'done' to exit)\")\n",
    "    # when your write \"done\", make sure the promt stops\n",
    "    if day_know == 'done':\n",
    "        break\n",
    "    # if the user input is a day in the mealplan\n",
    "    if day_know in mealplan:\n",
    "        print(f\"For {day_know}, you planned the following meal:\")\n",
    "        print(mealplan.get(day_know))\n",
    "    # if the inputword is not a day in the mealplan\n",
    "    else:\n",
    "        print(f\"you haven't planned {day_know}, or maybe you made a typo?\")"
   ]
  },
  {
   "cell_type": "markdown",
   "metadata": {},
   "source": [
    "If you have completed **Challenge 0.1** and **Challenge 0.2** successfully, you can stop if you want. But, to hone your skills, try picking one of the following 3 Challenges, and see how far you can go with it. **Challenge 1** is probably the easiest. The others can be as challenging as you want to make them."
   ]
  },
  {
   "cell_type": "markdown",
   "metadata": {},
   "source": [
    "## Challenge 1: Make a case converter\n",
    "\n",
    "Make a script that takes input from you, then asks if you want to convert it to all caps, all lower case, or title case. The converter should then output the text, correctly converted. Alternatively, if you are familiar with functions, you could define a function that e.g. puts strings in title case into upper case and strings in upper case into title case."
   ]
  },
  {
   "cell_type": "code",
   "execution_count": 21,
   "metadata": {},
   "outputs": [
    {
     "ename": "TypeError",
     "evalue": "'str' object is not callable",
     "output_type": "error",
     "traceback": [
      "\u001b[0;31m---------------------------------------------------------------------------\u001b[0m",
      "\u001b[0;31mTypeError\u001b[0m                                 Traceback (most recent call last)",
      "Cell \u001b[0;32mIn[21], line 4\u001b[0m\n\u001b[1;32m      2\u001b[0m txt \u001b[39m=\u001b[39m \u001b[39m\"\u001b[39m\u001b[39m\"\u001b[39m\n\u001b[1;32m      3\u001b[0m \u001b[39mwhile\u001b[39;00m \u001b[39mTrue\u001b[39;00m:\n\u001b[0;32m----> 4\u001b[0m     txt \u001b[39m=\u001b[39m \u001b[39minput\u001b[39;49m(\u001b[39mf\u001b[39;49m\u001b[39m\"\u001b[39;49m\u001b[39mType in some text you want to work with. Write 1 if you are done:\u001b[39;49m\u001b[39m\"\u001b[39;49m)\n\u001b[1;32m      5\u001b[0m     \u001b[39mif\u001b[39;00m txt \u001b[39m==\u001b[39m \u001b[39m\"\u001b[39m\u001b[39m1\u001b[39m\u001b[39m\"\u001b[39m:\n\u001b[1;32m      6\u001b[0m         \u001b[39mbreak\u001b[39;00m\n",
      "\u001b[0;31mTypeError\u001b[0m: 'str' object is not callable"
     ]
    }
   ],
   "source": [
    "text= []\n",
    "txt = \"\"\n",
    "while True:\n",
    "    txt = input(f\"Type in some text you want to work with. Write 1 if you are done:\")\n",
    "    if txt == \"1\":\n",
    "        break\n",
    "    text.append(txt)\n",
    "temp = \"\"\n",
    "for temp in text:\n",
    "    temp = input(f\"what do you want to transform your text to? write 'c' to capitalize, 'u' to make all text caps, 'l' for lower case and 'done' to quit\")\n",
    "    if temp == \"c\":\n",
    "        text_transformed = capitalize(txt)\n",
    "    elif txt == \"u\":\n",
    "        text_transformed = caps(txt)\n",
    "    elif txt == \"l\":\n",
    "        text_transformed = lower(txt)\n",
    "    else:\n",
    "        print(\"not correct key\")\n",
    "    print(text_transformed)     "
   ]
  },
  {
   "cell_type": "code",
   "execution_count": 20,
   "metadata": {},
   "outputs": [],
   "source": [
    "def capitalize(x):\n",
    "    y = \"\"\n",
    "    for a in x:\n",
    "        y += a.capitalize()\n",
    "    return(y)\n",
    "\n",
    "def caps(x):\n",
    "    y = \"\"\n",
    "    for a in x:\n",
    "        y += a.upper()\n",
    "    return(y)\n",
    "\n",
    "def lower(x):\n",
    "    y = \"\"\n",
    "    for a in x:\n",
    "        y += a.lower()\n",
    "    return(y)\n"
   ]
  },
  {
   "cell_type": "markdown",
   "metadata": {},
   "source": [
    "### OBS\n",
    "I got tired and have to stop working for today, so I won't get further on challenge 1 for now, but with a bit of time I believe I can make it work!"
   ]
  },
  {
   "cell_type": "markdown",
   "metadata": {},
   "source": [
    "## Challenge 2: Build a better chatbot\n",
    "\n",
    "Make a script that asks you questions about yourself, and then gives you feedback based on your input. For example, it could ask you your name, and then use your name in its responses. It could ask for your age, and then tell you how many years older or younger than some celebrity you are, etc. Make it as simple or complicated as you want."
   ]
  },
  {
   "cell_type": "markdown",
   "metadata": {},
   "source": [
    "## Challenge 3: Make a better meal planner\n",
    "\n",
    "Our meal planner could be much better. For example, after you make a dictionary of days and meals, you could make it so that it will ask you for and then store the ingredients you need for each meal, and then allow you to look up your shopping list either by day or by meal."
   ]
  },
  {
   "cell_type": "markdown",
   "metadata": {},
   "source": [
    "## Challenge 4: Challenge yourself!\n",
    "\n",
    "I don't know.. what do you want to build? A text adventure? A random poetry generator? Go for it!"
   ]
  },
  {
   "cell_type": "code",
   "execution_count": null,
   "metadata": {},
   "outputs": [],
   "source": []
  }
 ],
 "metadata": {
  "kernelspec": {
   "display_name": "Python 3 (ipykernel)",
   "language": "python",
   "name": "python3"
  },
  "language_info": {
   "codemirror_mode": {
    "name": "ipython",
    "version": 3
   },
   "file_extension": ".py",
   "mimetype": "text/x-python",
   "name": "python",
   "nbconvert_exporter": "python",
   "pygments_lexer": "ipython3",
   "version": "3.10.12"
  }
 },
 "nbformat": 4,
 "nbformat_minor": 4
}
