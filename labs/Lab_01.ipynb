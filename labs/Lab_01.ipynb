{
 "cells": [
  {
   "cell_type": "markdown",
   "id": "42a14256-91c8-446e-92a7-ab6bf11055d3",
   "metadata": {},
   "source": [
    "# Build your own concordance<a href=\"#Build-your-own-concordance\" class=\"anchor-link\">¶</a>\n",
    "\n",
    "In the lecture, we discussed how it took 500 Dominican munks to write\n",
    "the first concordance of the Latin bible, and how it took Rabbi Mordecai\n",
    "Nathan 10 years to write the first concordance of the Hebrew bible. With\n",
    "Python, it only takes a matter of seconds to find words in a text, along\n",
    "with the surrounding words.\n",
    "\n",
    "In this exercise, first run the code and check that everything works.\n",
    "Then, try modifying the code. Do at least to the part where it says\n",
    "**Stop now if you want!** Do as much or as little of the other exercises\n",
    "as you can / want to.\n",
    "\n",
    "Run each cell in this notebook at a time, in order. If something in one\n",
    "cell doesn't work right, it might be because you have overwritten a\n",
    "variable, so try going back and running all the previous cells again.\n",
    "\n",
    "The point of the exercise isn't for you to understand all the commands\n",
    "fully; the idea is to start getting you familiar with how jupyter\n",
    "notebooks work, with the concept of copying and modifying code, and\n",
    "hopefully give you a little taste of the power of Python."
   ]
  },
  {
   "cell_type": "code",
   "execution_count": 72,
   "id": "8da7ddb7",
   "metadata": {},
   "outputs": [
    {
     "name": "stdout",
     "output_type": "stream",
     "text": [
      "Requirement already satisfied: nltk in /Library/Frameworks/Python.framework/Versions/3.11/lib/python3.11/site-packages (3.8.1)\n",
      "Requirement already satisfied: click in /Library/Frameworks/Python.framework/Versions/3.11/lib/python3.11/site-packages (from nltk) (8.1.7)\n",
      "Requirement already satisfied: joblib in /Library/Frameworks/Python.framework/Versions/3.11/lib/python3.11/site-packages (from nltk) (1.2.0)\n",
      "Requirement already satisfied: regex>=2021.8.3 in /Library/Frameworks/Python.framework/Versions/3.11/lib/python3.11/site-packages (from nltk) (2023.8.8)\n",
      "Requirement already satisfied: tqdm in /Library/Frameworks/Python.framework/Versions/3.11/lib/python3.11/site-packages (from nltk) (4.66.1)\n",
      "\n",
      "\u001b[1m[\u001b[0m\u001b[34;49mnotice\u001b[0m\u001b[1;39;49m]\u001b[0m\u001b[39;49m A new release of pip is available: \u001b[0m\u001b[31;49m23.0.1\u001b[0m\u001b[39;49m -> \u001b[0m\u001b[32;49m23.2.1\u001b[0m\n",
      "\u001b[1m[\u001b[0m\u001b[34;49mnotice\u001b[0m\u001b[1;39;49m]\u001b[0m\u001b[39;49m To update, run: \u001b[0m\u001b[32;49mpython3.11 -m pip install --upgrade pip\u001b[0m\n",
      "Note: you may need to restart the kernel to use updated packages.\n"
     ]
    }
   ],
   "source": [
    "# install the natural language toolkit package (nltk), which has a copy of several texts, \n",
    "#including the King James Bible\n",
    "\n",
    "%pip install nltk"
   ]
  },
  {
   "cell_type": "code",
   "execution_count": 73,
   "id": "a68fb68a",
   "metadata": {},
   "outputs": [
    {
     "name": "stderr",
     "output_type": "stream",
     "text": [
      "[nltk_data] Downloading package gutenberg to\n",
      "[nltk_data]     /Users/Nikita/nltk_data...\n",
      "[nltk_data]   Package gutenberg is already up-to-date!\n"
     ]
    }
   ],
   "source": [
    "# import the nltk package so that it is accessible to Python, and download a collection of texts from Project Gutenberg\n",
    "import nltk\n",
    "nltk.download('gutenberg')\n",
    "\n",
    "# Create a variable called \"bible\" which contains the text of the King James bible.\n",
    "bible = nltk.corpus.gutenberg.raw('bible-kjv.txt')\n",
    "\n",
    "# make all characters lowercase\n",
    "bible = bible.lower()\n",
    "\n",
    "# remove the \"\\n\" characters, which indicate line breaks in the text (newlines)\n",
    "bible = bible.replace('\\n', ' ')\n",
    "\n",
    "# split up the text into a long list of individual words\n",
    "bible = bible.split(' ')\n",
    "\n"
   ]
  },
  {
   "cell_type": "code",
   "execution_count": 74,
   "id": "f3554d1a",
   "metadata": {},
   "outputs": [
    {
     "data": {
      "text/plain": [
       "['for the children of this world are in their generation',\n",
       " 'them, the children of this world marry, and are given',\n",
       " 'hateth his life in this world shall keep it unto',\n",
       " 'shall the prince of this world be cast out. ',\n",
       " 'should depart out of this world unto the father, having',\n",
       " 'for the prince of this world cometh, and hath nothing',\n",
       " 'because the prince of this world is judged.  16:12',\n",
       " 'of the princes of this world knew: for had they',\n",
       " 'for the wisdom of this world is foolishness with god.',\n",
       " 'for the fashion of this world passeth away.  7:32',\n",
       " 'whom the god of this world hath blinded the minds',\n",
       " 'chosen the poor of this world rich in faith, and',\n",
       " 'saying, the kingdoms of this world are become the kingdoms']"
      ]
     },
     "execution_count": 74,
     "metadata": {},
     "output_type": "execute_result"
    }
   ],
   "source": [
    "\n",
    "# make a variable called \"concordance\", and fill it with every occurrence of the phrase \"this world\", and a few words preceeding and following \"this world\"\n",
    "concordance = []\n",
    "for i, val in enumerate(bible):\n",
    "    if val == \"world\":\n",
    "        if bible[i-1] == \"this\":\n",
    "            concordance.append(str(' '.join(bible[i-5:i+5])))\n",
    "\n",
    "\n",
    "# take a look at what the algorithm has found\n",
    "concordance"
   ]
  },
  {
   "cell_type": "markdown",
   "id": "57f2a289",
   "metadata": {},
   "source": [
    "Let's try again, but this time let's just search for \"world\" by itself,\n",
    "not \"this world\"."
   ]
  },
  {
   "cell_type": "code",
   "execution_count": 75,
   "id": "611b7c15",
   "metadata": {},
   "outputs": [
    {
     "data": {
      "text/plain": [
       "['and he hath set the world upon them.  2:9',\n",
       " 'appeared, the foundations of the world were discovered, at the',\n",
       " 'him, all the earth: the world also shall be stable,',\n",
       " 'upon the face of the world in the earth. ',\n",
       " 'and he shall judge the world in righteousness, he shall',\n",
       " 'and the foundations of the world were discovered at thy',\n",
       " 'all the ends of the world shall remember and turn',\n",
       " 'all the inhabitants of the world stand in awe of',\n",
       " 'not tell thee: for the world is mine, and the',\n",
       " 'is thine: as for the world and the fulness thereof,',\n",
       " 'he hath girded himself: the world also is stablished, that',\n",
       " 'that the lord reigneth: the world also shall be established',\n",
       " 'earth: he shall judge the world with righteousness, and the',\n",
       " 'also he hath set the world in their heart, so',\n",
       " 'and i will punish the world for their evil, and',\n",
       " 'kingdoms; 14:17 that made the world as a wilderness, and',\n",
       " 'fill the face of the world with cities.  14:22',\n",
       " 'all the kingdoms of the world upon the face of',\n",
       " 'mourneth and fadeth away, the world languisheth and fadeth away,',\n",
       " 'earth, the inhabitants of the world will learn righteousness. ',\n",
       " 'have the inhabitants of the world fallen.  26:19 thy',\n",
       " 'fill the face of the world with fruit.  27:7',\n",
       " 'not be ashamed nor confounded world without end.  45:18',\n",
       " 'since the beginning of the world men have not heard,',\n",
       " 'power, he hath established the world by his wisdom, and',\n",
       " 'power, he hath established the world by his wisdom, and',\n",
       " 'this world, neither in the world to come.  12:33',\n",
       " ' 18:7 woe unto the world because of offences! for',\n",
       " 'be preached in all the world for a witness unto',\n",
       " 'since the beginning of the world to this time, no,',\n",
       " 'with persecutions; and in the world to come eternal life.',\n",
       " 'which have been since the world began: 1:71 that we',\n",
       " 'caesar augustus that all the world should be taxed. ',\n",
       " 'all the kingdoms of the world in a moment of',\n",
       " 'do the nations of the world seek after: and your',\n",
       " 'for the children of this world are in their generation',\n",
       " 'present time, and in the world to come life everlasting.',\n",
       " 'them, the children of this world marry, and are given',\n",
       " 'in the world, and the world was made by him,',\n",
       " 'made by him, and the world knew him not. ',\n",
       " 'not his son into the world to condemn the world;',\n",
       " 'the world; but that the world through him might be',\n",
       " 'alway ready.  7:7 the world cannot hate you; but',\n",
       " 'and i speak to the world those things which i',\n",
       " 'heareth.  9:32 since the world began was it not',\n",
       " 'ye prevail nothing? behold, the world is gone after him.',\n",
       " 'hateth his life in this world shall keep it unto',\n",
       " 'shall the prince of this world be cast out. ',\n",
       " 'should depart out of this world unto the father, having',\n",
       " 'spirit of truth; whom the world cannot receive, because it',\n",
       " 'a little while, and the world seeth me no more;',\n",
       " 'unto you: not as the world giveth, give i unto',\n",
       " 'for the prince of this world cometh, and hath nothing',\n",
       " ' 14:31 but that the world may know that i',\n",
       " 'another.  15:18 if the world hate you, ye know',\n",
       " 'were of the world, the world would love his own:',\n",
       " 'of the world, therefore the world hateth you.  15:20',\n",
       " 'come, he will reprove the world of sin, and of',\n",
       " 'because the prince of this world is judged.  16:12',\n",
       " 'weep and lament, but the world shall rejoice: and ye',\n",
       " 'have peace.  in the world ye shall have tribulation:',\n",
       " 'had with thee before the world was.  17:6 i',\n",
       " 'them thy word; and the world hath hated them, because',\n",
       " 'one in us: that the world may believe that thou',\n",
       " 'in one; and that the world may know that thou',\n",
       " '17:25 o righteous father, the world hath not known thee:',\n",
       " 'i suppose that even the world itself could not contain',\n",
       " 'his holy prophets since the world began.  3:22 for',\n",
       " 'these that have turned the world upside down are come',\n",
       " '17:24 god that made the world and all things therein,',\n",
       " 'which he will judge the world in righteousness by that',\n",
       " 'whom all asia and the world worshippeth.  19:28 and',\n",
       " 'from the creation of the world are clearly seen, being',\n",
       " 'be stopped, and all the world may become guilty before',\n",
       " 'was kept secret since the world began, 16:26 but now',\n",
       " 'the wisdom of god the world by wisdom knew not',\n",
       " 'the foolish things of the world to confound the wise;',\n",
       " 'the weak things of the world to confound the things',\n",
       " 'which god ordained before the world unto our glory: 2:8',\n",
       " 'of the princes of this world knew: for had they',\n",
       " 'for the wisdom of this world is foolishness with god.',\n",
       " 'the world? and if the world shall be judged by',\n",
       " 'for the fashion of this world passeth away.  7:32',\n",
       " 'eat no flesh while the world standeth, lest i make',\n",
       " 'whom the ends of the world are come.  10:12',\n",
       " 'whom the god of this world hath blinded the minds',\n",
       " 'was in christ, reconciling the world unto himself, not imputing',\n",
       " 'but the sorrow of the world worketh death.  7:11',\n",
       " 'jesus christ, by whom the world is crucified unto me,',\n",
       " 'from the beginning of the world hath been hid in',\n",
       " 'christ jesus throughout all ages, world without end. amen. ',\n",
       " 'christ jesus came into the world to save sinners; of',\n",
       " 'in christ jesus before the world began, 1:10 but is',\n",
       " 'cannot lie, promised before the world began; 1:3 but hath',\n",
       " 'not put in subjection the world to come, whereof we',\n",
       " 'and the powers of the world to come, 6:6 if',\n",
       " 'in the end of the world hath he appeared to',\n",
       " 'tormented; 11:38 (of whom the world was not worthy:) they',\n",
       " 'chosen the poor of this world rich in faith, and',\n",
       " 'tongue is a fire, a world of iniquity: so is',\n",
       " 'that the friendship of the world is enmity with god?',\n",
       " 'be a friend of the world is the enemy of',\n",
       " 'corruption that is in the world through lust.  1:5',\n",
       " 'in the flood upon the world of the ungodly; 2:6',\n",
       " 'escaped the pollutions of the world through the knowledge of',\n",
       " 'the water: 3:6 whereby the world that then was, being',\n",
       " 'world.  2:17 and the world passeth away, and the',\n",
       " 'sons of god: therefore the world knoweth us not, because',\n",
       " 'not, my brethren, if the world hate you.  3:14',\n",
       " 'of the world, and the world heareth them.  4:6',\n",
       " 'of god, and the whole world lieth in wickedness. ',\n",
       " 'saying, the kingdoms of this world are become the kingdoms',\n",
       " 'was healed: and all the world wondered after the beast.']"
      ]
     },
     "execution_count": 75,
     "metadata": {},
     "output_type": "execute_result"
    }
   ],
   "source": [
    "\n",
    "concordance = []\n",
    "for i, val in enumerate(bible):\n",
    "    if val == \"world\":\n",
    "        concordance.append(str(' '.join(bible[i-5:i+5])))\n",
    "\n",
    "\n",
    "\n",
    "# take a look at what the algorithm has found\n",
    "concordance"
   ]
  },
  {
   "cell_type": "markdown",
   "id": "6578ba9d",
   "metadata": {},
   "source": [
    "Now, in the cell below, modify the code to search for a different word."
   ]
  },
  {
   "cell_type": "code",
   "execution_count": 76,
   "id": "3a3a3454",
   "metadata": {},
   "outputs": [
    {
     "data": {
      "text/plain": [
       "['not the law, do by nature the things contained in',\n",
       " 'and wert graffed contrary to nature into a good olive',\n",
       " ' 11:14 doth not even nature itself teach you, that,',\n",
       " 'service unto them which by nature are no gods. ',\n",
       " 'the mind; and were by nature the children of wrath,',\n",
       " 'took not on him the nature of angels; but he']"
      ]
     },
     "execution_count": 76,
     "metadata": {},
     "output_type": "execute_result"
    }
   ],
   "source": [
    "concordance = []\n",
    "for i, val in enumerate(bible):\n",
    "    if val == \"nature\":\n",
    "        concordance.append(str(' '.join(bible[i-5:i+5])))\n",
    "\n",
    "# take a look at what the algorithm has found\n",
    "concordance"
   ]
  },
  {
   "cell_type": "markdown",
   "id": "c607f50f",
   "metadata": {},
   "source": [
    "The nltk package has the full text of several other classic books. You\n",
    "can see what they are called by running the command in the cell below:"
   ]
  },
  {
   "cell_type": "code",
   "execution_count": 77,
   "id": "cfd015b8",
   "metadata": {},
   "outputs": [
    {
     "data": {
      "text/plain": [
       "['austen-emma.txt',\n",
       " 'austen-persuasion.txt',\n",
       " 'austen-sense.txt',\n",
       " 'bible-kjv.txt',\n",
       " 'blake-poems.txt',\n",
       " 'bryant-stories.txt',\n",
       " 'burgess-busterbrown.txt',\n",
       " 'carroll-alice.txt',\n",
       " 'chesterton-ball.txt',\n",
       " 'chesterton-brown.txt',\n",
       " 'chesterton-thursday.txt',\n",
       " 'edgeworth-parents.txt',\n",
       " 'melville-moby_dick.txt',\n",
       " 'milton-paradise.txt',\n",
       " 'shakespeare-caesar.txt',\n",
       " 'shakespeare-hamlet.txt',\n",
       " 'shakespeare-macbeth.txt',\n",
       " 'whitman-leaves.txt']"
      ]
     },
     "execution_count": 77,
     "metadata": {},
     "output_type": "execute_result"
    }
   ],
   "source": [
    " nltk.corpus.gutenberg.fileids()"
   ]
  },
  {
   "cell_type": "markdown",
   "id": "611c1ba6",
   "metadata": {},
   "source": [
    "## Stop now if you want!<a href=\"#Stop-now-if-you-want!\" class=\"anchor-link\">¶</a>\n",
    "\n",
    "If you have come this far, and got everything to work, you can stop if\n",
    "you want! The goal of this assignment is to successfully run and modify\n",
    "some Python code to achieve a goal. But..... if you want to challenge\n",
    "yourself, here are a few more things you can try. In each case, I have\n",
    "given you a little bit of starter code to get you going."
   ]
  },
  {
   "cell_type": "markdown",
   "id": "3eb0378b",
   "metadata": {},
   "source": [
    "## Challenge 1: build your own concordance\n",
    "\n",
    "\n",
    "Pick a different book and a different word, or pair of words. Copy and\n",
    "paste from the code above to write some Python code that searches the\n",
    "book of your choice for the word or pair of words of your choice. Put\n",
    "this code in the cell below. By the way, some of the texts use the\n",
    "characters \"\\r\" for \"carriage return\" instead of \"\\n\" for \"newline\". You\n",
    "can remove these the same way that you remove the \"\\n\" characters.\n",
    "\n",
    "\n",
    "\n"
   ]
  },
  {
   "cell_type": "code",
   "execution_count": 9,
   "id": "320f0977",
   "metadata": {},
   "outputs": [
    {
     "name": "stderr",
     "output_type": "stream",
     "text": [
      "[nltk_data] Downloading package gutenberg to\n",
      "[nltk_data]     /Users/Nikita/nltk_data...\n",
      "[nltk_data]   Package gutenberg is already up-to-date!\n"
     ]
    }
   ],
   "source": [
    "# add your code to search for a word or pair of words in a different book here\n",
    "# the following two lines should only be run, if the challenge is run independently\n",
    "import nltk\n",
    "nltk.download('gutenberg')\n",
    "# Cleaning text\n",
    "# Creating a variable called \"alice\" containing the Alice in Wonderland text\n",
    "alice = nltk.corpus.gutenberg.raw('carroll-alice.txt')\n",
    "\n",
    "# make all characters lowercase\n",
    "alice = alice.lower()\n",
    "\n",
    "# remove the \"\\n\" characters, which indicate line breaks in the text (newlines)\n",
    "alice = alice.replace('\\n', ' ')\n",
    "\n",
    "# split up the text into a long list of individual words\n",
    "alice = alice.split(' ')\n"
   ]
  },
  {
   "cell_type": "code",
   "execution_count": 13,
   "id": "2ad57a01",
   "metadata": {},
   "outputs": [
    {
     "data": {
      "text/plain": [
       "['and the hatter were having tea at it: a dormouse',\n",
       " 'he poured a little hot tea upon its nose. ',\n",
       " \"you know--' (pointing with his tea spoon at the march\",\n",
       " 'she helped herself to some tea and bread-and-butter, and then',\n",
       " \"i hadn't quite finished my tea when i was sent\"]"
      ]
     },
     "execution_count": 13,
     "metadata": {},
     "output_type": "execute_result"
    }
   ],
   "source": [
    "concordance = []\n",
    "for i, val in enumerate(alice):\n",
    "    if val == \"tea\":\n",
    "        concordance.append(str(' '.join(alice[i-5:i+5])))\n",
    "concordance"
   ]
  },
  {
   "cell_type": "code",
   "execution_count": 11,
   "id": "bf0edaae",
   "metadata": {},
   "outputs": [
    {
     "data": {
      "text/plain": [
       "['daisies, when suddenly a white rabbit with pink eyes ran',\n",
       " 'long passage, and the white rabbit was still in sight,',\n",
       " 'coming. it was the white rabbit returning, splendidly dressed, with',\n",
       " \"stopped hastily, for the white rabbit cried out, 'silence in\",\n",
       " ' on this the white rabbit blew three blasts on',\n",
       " 'the king; and the white rabbit blew three blasts on',\n",
       " ' alice watched the white rabbit as he fumbled over',\n",
       " 'her surprise, when the white rabbit read out, at the',\n",
       " \"their slates, when the white rabbit interrupted: 'unimportant, your majesty\",\n",
       " 'the king.  the white rabbit put on his spectacles.',\n",
       " 'were the verses the white rabbit read:--   ',\n",
       " 'her feet as the white rabbit hurried by--the frightened mouse']"
      ]
     },
     "execution_count": 11,
     "metadata": {},
     "output_type": "execute_result"
    }
   ],
   "source": [
    "# searching for the words \"white rabbit\" by making a variable \"concordance\" like done for the bible-text\n",
    "concordance = []\n",
    "for i, val in enumerate(alice):\n",
    "    if val == \"rabbit\":\n",
    "        if alice[i-1] == \"white\":\n",
    "            concordance.append(str(' '.join(alice[i-5:i+5])))\n",
    "concordance"
   ]
  },
  {
   "cell_type": "markdown",
   "id": "76df12f7",
   "metadata": {},
   "source": [
    "## Challenge 2: compare lengths of books\n",
    "\n",
    "We can use the command `len` to find how many items there are in a list.\n",
    "E.g., to find the number of words in the list called `bible`, above, we\n",
    "can write: `len(bible)`.\n",
    "\n",
    "Use the starter code below to find out which book in the books included\n",
    "in `nltk` has the most words."
   ]
  },
  {
   "cell_type": "code",
   "execution_count": 80,
   "id": "a176cea6",
   "metadata": {},
   "outputs": [
    {
     "name": "stderr",
     "output_type": "stream",
     "text": [
      "[nltk_data] Downloading package gutenberg to\n",
      "[nltk_data]     /Users/Nikita/nltk_data...\n",
      "[nltk_data]   Package gutenberg is already up-to-date!\n"
     ]
    },
    {
     "name": "stdout",
     "output_type": "stream",
     "text": [
      "['Austen Emma', 'Austen Persuasion', 'Austen Sense', 'Bible Kjv', 'Blake Poems', 'Bryant Stories', 'Burgess Busterbrown', 'Carroll Alice', 'Chesterton Ball', 'Chesterton Brown', 'Chesterton Thursday', 'Edgeworth Parents', 'Melville Moby_Dick', 'Milton Paradise', 'Shakespeare Caesar', 'Shakespeare Hamlet', 'Shakespeare Macbeth', 'Whitman Leaves']\n",
      "[192427, 98171, 141576, 1010654, 8354, 55563, 18963, 34110, 96996, 86063, 69213, 210663, 260819, 96825, 25833, 37360, 23140, 154883]\n"
     ]
    }
   ],
   "source": [
    "# more advanced, for those with some Python experience, or those who want to google around..\n",
    "# solution 2: make a list of titles and a list of wordcounts, zip them together, then sort them based on wordcount\n",
    "\n",
    "import nltk\n",
    "# I found out you can simply download the gutenberg corpus like this by looking at the nltk.org\n",
    "# https://www.nltk.org/howto/corpus.html\n",
    "nltk.download('gutenberg')\n",
    "\n",
    "# Get a list of the book names in the Gutenberg Corpus\n",
    "books = nltk.corpus.gutenberg.fileids()\n",
    "titles = []\n",
    "numwords = []\n",
    "\n",
    "for title in books:\n",
    "    # Get the title of the book by deleting the extension and replacing the dash with a space\n",
    "    book = title.replace('.txt', '').replace('-', ' ').title()\n",
    "    titles.append(book)\n",
    "\n",
    "    # Get the words in the book and count them\n",
    "    # append the all the words in each text to the specific title\n",
    "    words = nltk.corpus.gutenberg.words(title)\n",
    "    # vount the words with len\n",
    "    word_count = len(words)\n",
    "\n",
    "    numwords.append(word_count)\n",
    "\n",
    "print(titles)\n",
    "print(numwords)    "
   ]
  },
  {
   "cell_type": "code",
   "execution_count": 81,
   "id": "0697c1a6",
   "metadata": {},
   "outputs": [
    {
     "name": "stdout",
     "output_type": "stream",
     "text": [
      "[('Blake Poems', 8354), ('Burgess Busterbrown', 18963), ('Shakespeare Macbeth', 23140), ('Shakespeare Caesar', 25833), ('Carroll Alice', 34110), ('Shakespeare Hamlet', 37360), ('Bryant Stories', 55563), ('Chesterton Thursday', 69213), ('Chesterton Brown', 86063), ('Milton Paradise', 96825), ('Chesterton Ball', 96996), ('Austen Persuasion', 98171), ('Austen Sense', 141576), ('Whitman Leaves', 154883), ('Austen Emma', 192427), ('Edgeworth Parents', 210663), ('Melville Moby_Dick', 260819), ('Bible Kjv', 1010654)]\n"
     ]
    }
   ],
   "source": [
    "# zip the lists together\n",
    "combined_list = list(zip(titles, numwords))\n",
    "\n",
    "# sort the combined list according to number of word counts\n",
    "# the sorted() function sorts ascendenlingly with `key=lambda wc: wc[1]`\n",
    "# `key=lambda wc: wc[1]` takes the value wc(wordcount, not toilet!) at index [1] (the second element)\n",
    "sorted_list = sorted(combined_list, key=lambda wc: wc[1])\n",
    "\n",
    "print(sorted_list)"
   ]
  },
  {
   "cell_type": "markdown",
   "id": "6854e667",
   "metadata": {},
   "source": [
    "## Challenge 3: what are the most frequent words?\n",
    "\n",
    "`nltk` has a built-in function called `FreqDist` which counts up how\n",
    "many times each word in a text occurs. So, if you have a list called\n",
    "`words` which contains all the words in a book, you find the frequencies\n",
    "of all of them by writing `freq = nltk.FreqDist(words)`. You can then\n",
    "get the e.g. ten most common words by writing `freq.most_common(10)`.\n",
    "What are the ten most common words in Jane Austen's \"Emma\"? What about\n",
    "Herman Melville's \"Moby Dick\"?"
   ]
  },
  {
   "cell_type": "code",
   "execution_count": 94,
   "id": "5866dffc",
   "metadata": {},
   "outputs": [
    {
     "name": "stdout",
     "output_type": "stream",
     "text": [
      "[('', 6290), ('the', 5120), ('to', 5079), ('and', 4445), ('of', 4196), ('a', 3055), ('i', 2602), ('was', 2302), ('she', 2169), ('in', 2091)]\n",
      "[('the', 12757), ('of', 6014), ('', 5720), ('and', 5629), ('to', 4192), ('a', 4095), ('in', 3756), ('\\r', 3273), ('that', 2537), ('his', 2214)]\n"
     ]
    }
   ],
   "source": [
    "from nltk import FreqDist\n",
    "emma_book = nltk.corpus.gutenberg.raw('austen-emma.txt')\n",
    "emma = emma_book.lower()\n",
    "# remove the \"\\n\" characters, which indicate line breaks in the text (newlines)\n",
    "emma = emma.replace('\\n', ' ')\n",
    "# split up the text into a long list of individual words\n",
    "emma = emma.split(' ')\n",
    "\n",
    "# get the frequency for the Emma novel\n",
    "emma_freq = FreqDist(emma)\n",
    "# Get the most common words \n",
    "emma_top10 = emma_freq.most_common(10)\n",
    "\n",
    "# Doing the same for Moby Dick\n",
    "moby_book = nltk.corpus.gutenberg.raw('melville-moby_dick.txt')\n",
    "moby = moby_book.lower()\n",
    "moby = moby.replace('\\n', ' ')\n",
    "moby = moby.split(' ')\n",
    "moby_freq = FreqDist(moby)\n",
    "moby_top10 = moby_freq.most_common(10)\n",
    "\n",
    "print(emma_top10)\n",
    "print(moby_top10)\n"
   ]
  },
  {
   "cell_type": "markdown",
   "id": "2abccc70",
   "metadata": {},
   "source": [
    "\n",
    "## Challenge 4: Remove stopwords<a href=\"#Challenge-4:-Remove-stopwords\" class=\"anchor-link\">¶</a>\n",
    "Often, the most frequent words are not the most interesting ones. Words\n",
    "like \"a\" and \"the\" are so common in English, that they don't really tell\n",
    "us much about the text. That is why we often remove \"stopwords\", that\n",
    "is, a list of the most common words in English, before e.g. counting\n",
    "frequencies. Below is some starter code to remove stopwords. Use these\n",
    "snippets to see what the most common words in Emma and Moby Dick are\n",
    "after removing these most common words.\n",
    "\n",
    "Hint: In Moby Dick, you will also have to remove the string `\\r`, in\n",
    "addition to removing `\\n`.\n"
   ]
  },
  {
   "cell_type": "code",
   "execution_count": 101,
   "id": "f4c6653c",
   "metadata": {},
   "outputs": [
    {
     "name": "stdout",
     "output_type": "stream",
     "text": [
      "Emma top 10 most frequent words [('mr.', 1097), ('could', 800), ('would', 795), ('mrs.', 675), ('miss', 568), ('must', 543), ('emma', 481), ('much', 427), ('every', 425), ('said', 392)]\n",
      "Moby Dick top 10 most frequent words [('one', 779), ('like', 564), ('upon', 556), ('whale', 528), ('old', 425), ('would', 416), ('though', 311), ('great', 292), ('still', 282), ('seemed', 273)]\n"
     ]
    }
   ],
   "source": [
    "# list of stopwords\n",
    "stopwords = [\"\", \"i\", \"me\", \"my\", \"myself\", \"we\", \"our\", \"ours\", \"ourselves\", \"you\", \"your\", \"yours\", \"yourself\", \"yourselves\", \"he\", \"him\", \"his\", \"himself\", \"she\", \"her\", \"hers\", \"herself\", \"it\", \"its\", \"itself\", \"they\", \"them\", \"their\", \"theirs\", \"themselves\", \"what\", \"which\", \"who\", \"whom\", \"this\", \"that\", \"these\", \"those\", \"am\", \"is\", \"are\", \"was\", \"were\", \"be\", \"been\", \"being\", \"have\", \"has\", \"had\", \"having\", \"do\", \"does\", \"did\", \"doing\", \"a\", \"an\", \"the\", \"and\", \"but\", \"if\", \"or\", \"because\", \"as\", \"until\", \"while\", \"of\", \"at\", \"by\", \"for\", \"with\", \"about\", \"against\", \"between\", \"into\", \"through\", \"during\", \"before\", \"after\", \"above\", \"below\", \"to\", \"from\", \"up\", \"down\", \"in\", \"out\", \"on\", \"off\", \"over\", \"under\", \"again\", \"further\", \"then\", \"once\", \"here\", \"there\", \"when\", \"where\", \"why\", \"how\", \"all\", \"any\", \"both\", \"each\", \"few\", \"more\", \"most\", \"other\", \"some\", \"such\", \"no\", \"nor\", \"not\", \"only\", \"own\", \"same\", \"so\", \"than\", \"too\", \"very\", \"s\", \"t\", \"can\", \"will\", \"just\", \"don\", \"should\", \"now\"]\n",
    "# emma cleanup\n",
    "from nltk import FreqDist\n",
    "emma_book = nltk.corpus.gutenberg.raw('austen-emma.txt')\n",
    "\n",
    "emma = emma_book.lower()\n",
    "# remove the \"\\n\" characters, which indicate line breaks in the text (newlines)\n",
    "emma = emma.replace('\\n', ' ')\n",
    "# split up the text into a long list of individual words\n",
    "emma = emma.split(' ')\n",
    "\n",
    "# code to remove stopwords.\n",
    "emma = [word for word in emma if word not in stopwords]\n",
    "# get the frequency for the Emma novel\n",
    "emma_freq = FreqDist(emma)\n",
    "# Get the most common words \n",
    "emma_top10 = emma_freq.most_common(10)\n",
    "\n",
    "#doing the same for Moby Dick\n",
    "moby_book = nltk.corpus.gutenberg.raw('melville-moby_dick.txt')\n",
    "moby = moby_book.lower()\n",
    "moby = moby.replace('\\n', ' ')\n",
    "moby = moby.replace('\\r', ' ')\n",
    "moby = moby.split(' ')\n",
    "# code to remove stopwords.\n",
    "moby = [word for word in moby if word not in stopwords]\n",
    "moby_freq = FreqDist(moby)\n",
    "moby_top10 = moby_freq.most_common(10)\n",
    "\n",
    "print(\"Emma top 10 most frequent words\", emma_top10)\n",
    "print(\"Moby Dick top 10 most frequent words\", moby_top10)\n",
    "\n"
   ]
  },
  {
   "cell_type": "code",
   "execution_count": null,
   "id": "dd16fbe3",
   "metadata": {},
   "outputs": [],
   "source": []
  }
 ],
 "metadata": {
  "kernelspec": {
   "display_name": "Python 3",
   "language": "python",
   "name": "python3"
  },
  "language_info": {
   "codemirror_mode": {
    "name": "ipython",
    "version": 3
   },
   "file_extension": ".py",
   "mimetype": "text/x-python",
   "name": "python",
   "nbconvert_exporter": "python",
   "pygments_lexer": "ipython3",
   "version": "3.11.5"
  }
 },
 "nbformat": 4,
 "nbformat_minor": 5
}
