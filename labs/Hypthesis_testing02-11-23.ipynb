{
 "cells": [
  {
   "cell_type": "markdown",
   "metadata": {},
   "source": [
    "# Hypothesis testing\n",
    "strengten "
   ]
  },
  {
   "cell_type": "markdown",
   "metadata": {},
   "source": []
  },
  {
   "cell_type": "code",
   "execution_count": null,
   "metadata": {},
   "outputs": [],
   "source": [
    "#Frequentists test - santa ball xD\n",
    "from scipy import binom_test\n",
    "pvalue = binom_test(x = number red, n = throws, p= 0.5, alternative = \"two-sided\")"
   ]
  },
  {
   "cell_type": "markdown",
   "metadata": {},
   "source": [
    "Bayes factor: allow to calculate\n",
    "\n",
    "**research hypotheses** = \"vaccines gives Autism\"\\\n",
    "$\\theta$ = statistical hypothesis that something is true, E.g. $\\theta$ ≠ 0.5 \\\n",
    "$H_{0}$, NHTS = Null Hypothesis Significance Testing\\\n",
    "$H_{0}$ = Alternative hypothesis, $\\mu$ ≠ $\\mu_{0}$ \\\n",
    "$\\mu$ = hypothesised population mean\\\n",
    "$\\bar{X}$ = sample mean\\\n",
    "$\\sigma$ = population standard deviation\\\n",
    "$\\hat{σ}$ =\\\n",
    "$\\alpha$ = type I error rate -> probability of comitting type I error we are ready to accept \\\n",
    "*significane level of test* = hypothesis test have significance level $\\alpha$ if type I error rate no larger than $\\alpha$\\\n",
    "$\\beta$ = type 2 error rate\\\n",
    "1-$\\beta$ =  *power* of the test, probability with which we reject a null hypothesis when it's false\\\n",
    "N = sample size\\\n",
    "$SE(\\bar{X})$ = standard error of the mean\n",
    "\n",
    "\n",
    "Datamining: looking for patterns in data, but not doig an experiment\n"
   ]
  },
  {
   "cell_type": "markdown",
   "metadata": {},
   "source": [
    "### Two type of errors\n",
    "**Type I error**: wrongly rejecting $H_{0}$\n",
    "**Type II error**: wrongly retining $H_{0}$\n",
    "\n",
    "Most problematic tomake type I errors, false claims!\n",
    "can be a shame, but better to let 100 criminals go than sending 1 innocent to prison\n",
    "\n",
    "\n",
    "not all statistically significan results are *theoretically* interesting\n",
    "not all theoretically interesting results are statistically significant\n",
    "\n",
    "statistically significant is pluggin number into a formula and choosing criteria for cut-out point, and what comes out is a more or less arbitrary number \n",
    "statistically significant ≠ research hypothesis is true\n",
    "\n",
    "$p$-value = is defined to be the smallest Type I error rate $\\alpha$ willing to tolerate to reject the null hypothesis.\\\n",
    "$p \\leq \\alpha$ = reject null hypothesis\\\n",
    "$p > \\alpha$ = retain null hypothesis\n"
   ]
  },
  {
   "cell_type": "markdown",
   "metadata": {},
   "source": [
    "### T-test\n",
    "\n",
    "All the test in this chapter are just:\n",
    "\n",
    "$t = \\frac{mean_{1}-mean{2}}{variation}$\n",
    "\n",
    "$t = \\frac{\\bar{D}}{{SE(\\bar{D})} }$"
   ]
  },
  {
   "cell_type": "markdown",
   "metadata": {},
   "source": []
  },
  {
   "cell_type": "code",
   "execution_count": null,
   "metadata": {},
   "outputs": [],
   "source": []
  }
 ],
 "metadata": {
  "kernelspec": {
   "display_name": "Python 3",
   "language": "python",
   "name": "python3"
  },
  "language_info": {
   "codemirror_mode": {
    "name": "ipython",
    "version": 3
   },
   "file_extension": ".py",
   "mimetype": "text/x-python",
   "name": "python",
   "nbconvert_exporter": "python",
   "pygments_lexer": "ipython3",
   "version": "3.12.0"
  },
  "orig_nbformat": 4
 },
 "nbformat": 4,
 "nbformat_minor": 2
}
